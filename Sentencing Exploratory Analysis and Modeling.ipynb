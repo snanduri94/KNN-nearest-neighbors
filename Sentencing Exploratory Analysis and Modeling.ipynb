{
 "cells": [
  {
   "cell_type": "markdown",
   "metadata": {},
   "source": [
    "# Statistical Analysis of the Subsetted Sentencing Data"
   ]
  },
  {
   "cell_type": "code",
   "execution_count": 1,
   "metadata": {},
   "outputs": [],
   "source": [
    "import pandas as pd\n",
    "import numpy as np\n",
    "import matplotlib.pyplot as plt"
   ]
  },
  {
   "cell_type": "code",
   "execution_count": 2,
   "metadata": {},
   "outputs": [
    {
     "data": {
      "text/html": [
       "<div>\n",
       "<style scoped>\n",
       "    .dataframe tbody tr th:only-of-type {\n",
       "        vertical-align: middle;\n",
       "    }\n",
       "\n",
       "    .dataframe tbody tr th {\n",
       "        vertical-align: top;\n",
       "    }\n",
       "\n",
       "    .dataframe thead th {\n",
       "        text-align: right;\n",
       "    }\n",
       "</style>\n",
       "<table border=\"1\" class=\"dataframe\">\n",
       "  <thead>\n",
       "    <tr style=\"text-align: right;\">\n",
       "      <th></th>\n",
       "      <th>OFFENSE_CATEGORY</th>\n",
       "      <th>DISPOSITION_CHARGED_OFFENSE_TITLE</th>\n",
       "      <th>CHARGE_DISPOSITION</th>\n",
       "      <th>CHARGE_COUNT</th>\n",
       "      <th>ARREST_DATE</th>\n",
       "      <th>SENTENCE_DATE</th>\n",
       "      <th>RACE</th>\n",
       "      <th>GENDER</th>\n",
       "      <th>COMMITMENT_TYPE</th>\n",
       "      <th>COMMITMENT_TERM</th>\n",
       "      <th>UPDATED_OFFENSE_CATEGORY</th>\n",
       "    </tr>\n",
       "  </thead>\n",
       "  <tbody>\n",
       "    <tr>\n",
       "      <th>0</th>\n",
       "      <td>UUW - Unlawful Use of Weapon</td>\n",
       "      <td>AGG UNLAWFUL USE OF WEAPON/VEH</td>\n",
       "      <td>Guilty</td>\n",
       "      <td>2</td>\n",
       "      <td>6/30/2007 4:30:00 AM</td>\n",
       "      <td>11/5/2014 12:00:00 AM</td>\n",
       "      <td>Hispanic</td>\n",
       "      <td>Male</td>\n",
       "      <td>Probation</td>\n",
       "      <td>2.00</td>\n",
       "      <td>UUW - Unlawful Use of Weapon</td>\n",
       "    </tr>\n",
       "    <tr>\n",
       "      <th>1</th>\n",
       "      <td>Aggravated Battery</td>\n",
       "      <td>DOMESTIC BATTERY/BODILY HARM/2ND+</td>\n",
       "      <td>Guilty</td>\n",
       "      <td>24</td>\n",
       "      <td>11/26/2008 12:00:00 AM</td>\n",
       "      <td>1/13/2011 12:00:00 AM</td>\n",
       "      <td>Black</td>\n",
       "      <td>Male</td>\n",
       "      <td>Illinois Department of Corrections</td>\n",
       "      <td>9.25</td>\n",
       "      <td>Domestic Battery</td>\n",
       "    </tr>\n",
       "    <tr>\n",
       "      <th>2</th>\n",
       "      <td>Aggravated Battery</td>\n",
       "      <td>AGG BATTERY/WEAPON/NO FIREARM</td>\n",
       "      <td>Guilty</td>\n",
       "      <td>23</td>\n",
       "      <td>11/26/2008 12:00:00 AM</td>\n",
       "      <td>1/13/2011 12:00:00 AM</td>\n",
       "      <td>Black</td>\n",
       "      <td>Male</td>\n",
       "      <td>Illinois Department of Corrections</td>\n",
       "      <td>9.25</td>\n",
       "      <td>Domestic Battery</td>\n",
       "    </tr>\n",
       "    <tr>\n",
       "      <th>3</th>\n",
       "      <td>Aggravated Battery</td>\n",
       "      <td>MURDER/INTENT TO KILL/INJURE</td>\n",
       "      <td>Guilty</td>\n",
       "      <td>5</td>\n",
       "      <td>9/3/2007 3:45:00 AM</td>\n",
       "      <td>5/16/2016 12:00:00 AM</td>\n",
       "      <td>Black</td>\n",
       "      <td>Male</td>\n",
       "      <td>Illinois Department of Corrections</td>\n",
       "      <td>52.86</td>\n",
       "      <td>Homicide</td>\n",
       "    </tr>\n",
       "    <tr>\n",
       "      <th>4</th>\n",
       "      <td>Aggravated Battery</td>\n",
       "      <td>MURDER/INTENT TO KILL/INJURE</td>\n",
       "      <td>Guilty</td>\n",
       "      <td>6</td>\n",
       "      <td>9/3/2007 3:45:00 AM</td>\n",
       "      <td>5/16/2016 12:00:00 AM</td>\n",
       "      <td>Black</td>\n",
       "      <td>Male</td>\n",
       "      <td>Illinois Department of Corrections</td>\n",
       "      <td>52.86</td>\n",
       "      <td>Homicide</td>\n",
       "    </tr>\n",
       "  </tbody>\n",
       "</table>\n",
       "</div>"
      ],
      "text/plain": [
       "               OFFENSE_CATEGORY  DISPOSITION_CHARGED_OFFENSE_TITLE  \\\n",
       "0  UUW - Unlawful Use of Weapon     AGG UNLAWFUL USE OF WEAPON/VEH   \n",
       "1            Aggravated Battery  DOMESTIC BATTERY/BODILY HARM/2ND+   \n",
       "2            Aggravated Battery      AGG BATTERY/WEAPON/NO FIREARM   \n",
       "3            Aggravated Battery       MURDER/INTENT TO KILL/INJURE   \n",
       "4            Aggravated Battery       MURDER/INTENT TO KILL/INJURE   \n",
       "\n",
       "  CHARGE_DISPOSITION  CHARGE_COUNT             ARREST_DATE  \\\n",
       "0             Guilty             2    6/30/2007 4:30:00 AM   \n",
       "1             Guilty            24  11/26/2008 12:00:00 AM   \n",
       "2             Guilty            23  11/26/2008 12:00:00 AM   \n",
       "3             Guilty             5     9/3/2007 3:45:00 AM   \n",
       "4             Guilty             6     9/3/2007 3:45:00 AM   \n",
       "\n",
       "           SENTENCE_DATE      RACE GENDER                     COMMITMENT_TYPE  \\\n",
       "0  11/5/2014 12:00:00 AM  Hispanic   Male                           Probation   \n",
       "1  1/13/2011 12:00:00 AM     Black   Male  Illinois Department of Corrections   \n",
       "2  1/13/2011 12:00:00 AM     Black   Male  Illinois Department of Corrections   \n",
       "3  5/16/2016 12:00:00 AM     Black   Male  Illinois Department of Corrections   \n",
       "4  5/16/2016 12:00:00 AM     Black   Male  Illinois Department of Corrections   \n",
       "\n",
       "   COMMITMENT_TERM      UPDATED_OFFENSE_CATEGORY  \n",
       "0             2.00  UUW - Unlawful Use of Weapon  \n",
       "1             9.25              Domestic Battery  \n",
       "2             9.25              Domestic Battery  \n",
       "3            52.86                      Homicide  \n",
       "4            52.86                      Homicide  "
      ]
     },
     "execution_count": 2,
     "metadata": {},
     "output_type": "execute_result"
    }
   ],
   "source": [
    "sen = pd.read_csv('Sentencing_Data_v2.csv').iloc[:,1:]\n",
    "sen.head()"
   ]
  },
  {
   "cell_type": "code",
   "execution_count": 3,
   "metadata": {},
   "outputs": [],
   "source": [
    "# The target that we are trying to analyze is the number of years an individual goes to jail\n",
    "target = sen['COMMITMENT_TERM']"
   ]
  },
  {
   "cell_type": "markdown",
   "metadata": {},
   "source": [
    "Dropping the following columns from the data set: 'DISPOSITION_CHARGED_OFFENSE_TITLE','ARREST_DATE','SENTENCE_DATE', 'COMMITMENT_TYPE', and 'UPDATED_OFFENSE_CATEGORY.'"
   ]
  },
  {
   "cell_type": "code",
   "execution_count": 4,
   "metadata": {},
   "outputs": [
    {
     "data": {
      "text/html": [
       "<div>\n",
       "<style scoped>\n",
       "    .dataframe tbody tr th:only-of-type {\n",
       "        vertical-align: middle;\n",
       "    }\n",
       "\n",
       "    .dataframe tbody tr th {\n",
       "        vertical-align: top;\n",
       "    }\n",
       "\n",
       "    .dataframe thead th {\n",
       "        text-align: right;\n",
       "    }\n",
       "</style>\n",
       "<table border=\"1\" class=\"dataframe\">\n",
       "  <thead>\n",
       "    <tr style=\"text-align: right;\">\n",
       "      <th></th>\n",
       "      <th>OFFENSE_CATEGORY</th>\n",
       "      <th>CHARGE_DISPOSITION</th>\n",
       "      <th>CHARGE_COUNT</th>\n",
       "      <th>RACE</th>\n",
       "      <th>GENDER</th>\n",
       "      <th>COMMITMENT_TERM</th>\n",
       "    </tr>\n",
       "  </thead>\n",
       "  <tbody>\n",
       "    <tr>\n",
       "      <th>0</th>\n",
       "      <td>UUW - Unlawful Use of Weapon</td>\n",
       "      <td>Guilty</td>\n",
       "      <td>2</td>\n",
       "      <td>Hispanic</td>\n",
       "      <td>Male</td>\n",
       "      <td>2.00</td>\n",
       "    </tr>\n",
       "    <tr>\n",
       "      <th>1</th>\n",
       "      <td>Aggravated Battery</td>\n",
       "      <td>Guilty</td>\n",
       "      <td>24</td>\n",
       "      <td>Black</td>\n",
       "      <td>Male</td>\n",
       "      <td>9.25</td>\n",
       "    </tr>\n",
       "    <tr>\n",
       "      <th>2</th>\n",
       "      <td>Aggravated Battery</td>\n",
       "      <td>Guilty</td>\n",
       "      <td>23</td>\n",
       "      <td>Black</td>\n",
       "      <td>Male</td>\n",
       "      <td>9.25</td>\n",
       "    </tr>\n",
       "    <tr>\n",
       "      <th>3</th>\n",
       "      <td>Aggravated Battery</td>\n",
       "      <td>Guilty</td>\n",
       "      <td>5</td>\n",
       "      <td>Black</td>\n",
       "      <td>Male</td>\n",
       "      <td>52.86</td>\n",
       "    </tr>\n",
       "    <tr>\n",
       "      <th>4</th>\n",
       "      <td>Aggravated Battery</td>\n",
       "      <td>Guilty</td>\n",
       "      <td>6</td>\n",
       "      <td>Black</td>\n",
       "      <td>Male</td>\n",
       "      <td>52.86</td>\n",
       "    </tr>\n",
       "  </tbody>\n",
       "</table>\n",
       "</div>"
      ],
      "text/plain": [
       "               OFFENSE_CATEGORY CHARGE_DISPOSITION  CHARGE_COUNT      RACE  \\\n",
       "0  UUW - Unlawful Use of Weapon             Guilty             2  Hispanic   \n",
       "1            Aggravated Battery             Guilty            24     Black   \n",
       "2            Aggravated Battery             Guilty            23     Black   \n",
       "3            Aggravated Battery             Guilty             5     Black   \n",
       "4            Aggravated Battery             Guilty             6     Black   \n",
       "\n",
       "  GENDER  COMMITMENT_TERM  \n",
       "0   Male             2.00  \n",
       "1   Male             9.25  \n",
       "2   Male             9.25  \n",
       "3   Male            52.86  \n",
       "4   Male            52.86  "
      ]
     },
     "execution_count": 4,
     "metadata": {},
     "output_type": "execute_result"
    }
   ],
   "source": [
    "sentence = sen.loc[:,['OFFENSE_CATEGORY','CHARGE_DISPOSITION','CHARGE_COUNT',\n",
    "                       'RACE', 'GENDER', 'COMMITMENT_TERM']]\n",
    "sentence.head()"
   ]
  },
  {
   "cell_type": "code",
   "execution_count": 5,
   "metadata": {},
   "outputs": [
    {
     "data": {
      "text/plain": [
       "Text(0.5, 1.0, 'Histogram of Offense Categories')"
      ]
     },
     "execution_count": 5,
     "metadata": {},
     "output_type": "execute_result"
    },
    {
     "data": {
      "image/png": "[encoded data removed]",
      "text/plain": [
       "<Figure size 432x288 with 1 Axes>"
      ]
     },
     "metadata": {
      "needs_background": "light"
     },
     "output_type": "display_data"
    }
   ],
   "source": [
    "plt.hist(x = sentence['OFFENSE_CATEGORY'] ,color= '#0504aa', alpha=0.7, rwidth=0.85,\n",
    "        weights=np.ones(len(sentence['OFFENSE_CATEGORY'])) / len(sentence['OFFENSE_CATEGORY']))\n",
    "plt.xticks(rotation=45, ha = 'right')\n",
    "plt.xlabel('Offense Category')\n",
    "plt.ylabel('Count')\n",
    "plt.title('Histogram of Offense Categories')"
   ]
  },
  {
   "cell_type": "code",
   "execution_count": 6,
   "metadata": {
    "scrolled": true
   },
   "outputs": [
    {
     "data": {
      "text/plain": [
       "Text(0.5, 1.0, 'Histogram of Charge Disposition')"
      ]
     },
     "execution_count": 6,
     "metadata": {},
     "output_type": "execute_result"
    },
    {
     "data": {
      "image/png": "[encoded data removed]",
      "text/plain": [
       "<Figure size 432x288 with 1 Axes>"
      ]
     },
     "metadata": {
      "needs_background": "light"
     },
     "output_type": "display_data"
    }
   ],
   "source": [
    "sentence.replace(r'^\\s*$', np.nan, regex = True)\n",
    "sentence['CHARGE_DISPOSITION'] = sentence.CHARGE_DISPOSITION.replace(np.nan,'Guilty')\n",
    "\n",
    "plt.hist(x = sentence['CHARGE_DISPOSITION'] ,color= '#0504aa', alpha=0.7, rwidth=0.85,\n",
    "        weights=np.ones(len(sentence['CHARGE_DISPOSITION'])) / len(sentence['CHARGE_DISPOSITION']))\n",
    "plt.xticks(rotation=45, ha = 'right')\n",
    "plt.xlabel('Charge Disposition')\n",
    "plt.ylabel('Count')\n",
    "plt.title('Histogram of Charge Disposition')"
   ]
  },
  {
   "cell_type": "code",
   "execution_count": 7,
   "metadata": {},
   "outputs": [
    {
     "data": {
      "text/plain": [
       "Text(0.5, 1.0, 'Histogram of Race Breakdown')"
      ]
     },
     "execution_count": 7,
     "metadata": {},
     "output_type": "execute_result"
    },
    {
     "data": {
      "image/png": "[encoded data removed]",
      "text/plain": [
       "<Figure size 432x288 with 1 Axes>"
      ]
     },
     "metadata": {
      "needs_background": "light"
     },
     "output_type": "display_data"
    }
   ],
   "source": [
    "plt.hist(x = sentence['RACE'] ,color= '#0504aa', alpha=0.7, rwidth=0.85,\n",
    "         weights=np.ones(len(sentence['RACE'])) / len(sentence['RACE']))\n",
    "plt.xticks(rotation=45, ha = 'right')\n",
    "plt.xlabel('Race')\n",
    "plt.ylabel('Count')\n",
    "plt.title('Histogram of Race Breakdown')"
   ]
  },
  {
   "cell_type": "markdown",
   "metadata": {},
   "source": [
    "#### The dataset contains primarily of three groups who are sentenced to prison: Black, Hispanic, and White. The remainder of the individuals make up minimal amount of the data."
   ]
  },
  {
   "cell_type": "code",
   "execution_count": 8,
   "metadata": {},
   "outputs": [
    {
     "data": {
      "text/plain": [
       "Text(0.5, 1.0, 'Histogram of Gender Breakdown')"
      ]
     },
     "execution_count": 8,
     "metadata": {},
     "output_type": "execute_result"
    },
    {
     "data": {
      "image/png": "[encoded data removed]",
      "text/plain": [
       "<Figure size 432x288 with 1 Axes>"
      ]
     },
     "metadata": {
      "needs_background": "light"
     },
     "output_type": "display_data"
    }
   ],
   "source": [
    "plt.hist(x = sentence['GENDER'] ,color= '#0504aa', alpha=0.7, rwidth=0.85,\n",
    "         weights=np.ones(len(sentence['GENDER'])) / len(sentence['GENDER']))\n",
    "plt.xticks(rotation=45, ha = 'right')\n",
    "plt.xlabel('Gender')\n",
    "plt.ylabel('Count')\n",
    "plt.title('Histogram of Gender Breakdown')"
   ]
  },
  {
   "cell_type": "markdown",
   "metadata": {},
   "source": [
    "#### We can also see that 90% of the data consists of male and remainder is female."
   ]
  },
  {
   "cell_type": "markdown",
   "metadata": {},
   "source": [
    "#### Now that we have an understanding of the basic distribution of the data, there are a few tasks that we can work on. The first task is predicting the COMMITMENT_TERM using the selected set of features. The second task we can work on is a classification task regarding race. The goal here will be to based the existing data we need to classify each sample. There are a various methods we will attempt in order to optimize the predictive and classification capabilities of the models."
   ]
  },
  {
   "cell_type": "markdown",
   "metadata": {},
   "source": [
    "## Part 1: Supervised Learning - Linear Regression (Ordinary Least Squares, Lasso, Ridge, and Stochastic Gradient Descent Regressor)"
   ]
  },
  {
   "cell_type": "code",
   "execution_count": 9,
   "metadata": {},
   "outputs": [
    {
     "data": {
      "text/html": [
       "<div>\n",
       "<style scoped>\n",
       "    .dataframe tbody tr th:only-of-type {\n",
       "        vertical-align: middle;\n",
       "    }\n",
       "\n",
       "    .dataframe tbody tr th {\n",
       "        vertical-align: top;\n",
       "    }\n",
       "\n",
       "    .dataframe thead th {\n",
       "        text-align: right;\n",
       "    }\n",
       "</style>\n",
       "<table border=\"1\" class=\"dataframe\">\n",
       "  <thead>\n",
       "    <tr style=\"text-align: right;\">\n",
       "      <th></th>\n",
       "      <th>CHARGE_COUNT</th>\n",
       "      <th>COMMITMENT_TERM</th>\n",
       "      <th>OFFENSE_CATEGORY_Aggravated Battery</th>\n",
       "      <th>OFFENSE_CATEGORY_DUI</th>\n",
       "      <th>OFFENSE_CATEGORY_Driving With Suspended Or Revoked License</th>\n",
       "      <th>OFFENSE_CATEGORY_Failure to Register as a Sex Offender</th>\n",
       "      <th>OFFENSE_CATEGORY_Fleeing or Failure to Return</th>\n",
       "      <th>OFFENSE_CATEGORY_Forgery</th>\n",
       "      <th>OFFENSE_CATEGORY_Homicide</th>\n",
       "      <th>OFFENSE_CATEGORY_Narcotics</th>\n",
       "      <th>...</th>\n",
       "      <th>RACE_American Indian</th>\n",
       "      <th>RACE_Asian</th>\n",
       "      <th>RACE_Biracial</th>\n",
       "      <th>RACE_Black</th>\n",
       "      <th>RACE_Hispanic</th>\n",
       "      <th>RACE_Unknown</th>\n",
       "      <th>RACE_White</th>\n",
       "      <th>GENDER_Female</th>\n",
       "      <th>GENDER_Male</th>\n",
       "      <th>GENDER_Unknown</th>\n",
       "    </tr>\n",
       "  </thead>\n",
       "  <tbody>\n",
       "    <tr>\n",
       "      <th>0</th>\n",
       "      <td>2</td>\n",
       "      <td>2.00</td>\n",
       "      <td>0</td>\n",
       "      <td>0</td>\n",
       "      <td>0</td>\n",
       "      <td>0</td>\n",
       "      <td>0</td>\n",
       "      <td>0</td>\n",
       "      <td>0</td>\n",
       "      <td>0</td>\n",
       "      <td>...</td>\n",
       "      <td>0</td>\n",
       "      <td>0</td>\n",
       "      <td>0</td>\n",
       "      <td>0</td>\n",
       "      <td>1</td>\n",
       "      <td>0</td>\n",
       "      <td>0</td>\n",
       "      <td>0</td>\n",
       "      <td>1</td>\n",
       "      <td>0</td>\n",
       "    </tr>\n",
       "    <tr>\n",
       "      <th>1</th>\n",
       "      <td>24</td>\n",
       "      <td>9.25</td>\n",
       "      <td>1</td>\n",
       "      <td>0</td>\n",
       "      <td>0</td>\n",
       "      <td>0</td>\n",
       "      <td>0</td>\n",
       "      <td>0</td>\n",
       "      <td>0</td>\n",
       "      <td>0</td>\n",
       "      <td>...</td>\n",
       "      <td>0</td>\n",
       "      <td>0</td>\n",
       "      <td>0</td>\n",
       "      <td>1</td>\n",
       "      <td>0</td>\n",
       "      <td>0</td>\n",
       "      <td>0</td>\n",
       "      <td>0</td>\n",
       "      <td>1</td>\n",
       "      <td>0</td>\n",
       "    </tr>\n",
       "    <tr>\n",
       "      <th>2</th>\n",
       "      <td>23</td>\n",
       "      <td>9.25</td>\n",
       "      <td>1</td>\n",
       "      <td>0</td>\n",
       "      <td>0</td>\n",
       "      <td>0</td>\n",
       "      <td>0</td>\n",
       "      <td>0</td>\n",
       "      <td>0</td>\n",
       "      <td>0</td>\n",
       "      <td>...</td>\n",
       "      <td>0</td>\n",
       "      <td>0</td>\n",
       "      <td>0</td>\n",
       "      <td>1</td>\n",
       "      <td>0</td>\n",
       "      <td>0</td>\n",
       "      <td>0</td>\n",
       "      <td>0</td>\n",
       "      <td>1</td>\n",
       "      <td>0</td>\n",
       "    </tr>\n",
       "    <tr>\n",
       "      <th>3</th>\n",
       "      <td>5</td>\n",
       "      <td>52.86</td>\n",
       "      <td>1</td>\n",
       "      <td>0</td>\n",
       "      <td>0</td>\n",
       "      <td>0</td>\n",
       "      <td>0</td>\n",
       "      <td>0</td>\n",
       "      <td>0</td>\n",
       "      <td>0</td>\n",
       "      <td>...</td>\n",
       "      <td>0</td>\n",
       "      <td>0</td>\n",
       "      <td>0</td>\n",
       "      <td>1</td>\n",
       "      <td>0</td>\n",
       "      <td>0</td>\n",
       "      <td>0</td>\n",
       "      <td>0</td>\n",
       "      <td>1</td>\n",
       "      <td>0</td>\n",
       "    </tr>\n",
       "    <tr>\n",
       "      <th>4</th>\n",
       "      <td>6</td>\n",
       "      <td>52.86</td>\n",
       "      <td>1</td>\n",
       "      <td>0</td>\n",
       "      <td>0</td>\n",
       "      <td>0</td>\n",
       "      <td>0</td>\n",
       "      <td>0</td>\n",
       "      <td>0</td>\n",
       "      <td>0</td>\n",
       "      <td>...</td>\n",
       "      <td>0</td>\n",
       "      <td>0</td>\n",
       "      <td>0</td>\n",
       "      <td>1</td>\n",
       "      <td>0</td>\n",
       "      <td>0</td>\n",
       "      <td>0</td>\n",
       "      <td>0</td>\n",
       "      <td>1</td>\n",
       "      <td>0</td>\n",
       "    </tr>\n",
       "  </tbody>\n",
       "</table>\n",
       "<p>5 rows × 27 columns</p>\n",
       "</div>"
      ],
      "text/plain": [
       "   CHARGE_COUNT  COMMITMENT_TERM  OFFENSE_CATEGORY_Aggravated Battery  \\\n",
       "0             2             2.00                                    0   \n",
       "1            24             9.25                                    1   \n",
       "2            23             9.25                                    1   \n",
       "3             5            52.86                                    1   \n",
       "4             6            52.86                                    1   \n",
       "\n",
       "   OFFENSE_CATEGORY_DUI  \\\n",
       "0                     0   \n",
       "1                     0   \n",
       "2                     0   \n",
       "3                     0   \n",
       "4                     0   \n",
       "\n",
       "   OFFENSE_CATEGORY_Driving With Suspended Or Revoked License  \\\n",
       "0                                                  0            \n",
       "1                                                  0            \n",
       "2                                                  0            \n",
       "3                                                  0            \n",
       "4                                                  0            \n",
       "\n",
       "   OFFENSE_CATEGORY_Failure to Register as a Sex Offender  \\\n",
       "0                                                  0        \n",
       "1                                                  0        \n",
       "2                                                  0        \n",
       "3                                                  0        \n",
       "4                                                  0        \n",
       "\n",
       "   OFFENSE_CATEGORY_Fleeing or Failure to Return  OFFENSE_CATEGORY_Forgery  \\\n",
       "0                                              0                         0   \n",
       "1                                              0                         0   \n",
       "2                                              0                         0   \n",
       "3                                              0                         0   \n",
       "4                                              0                         0   \n",
       "\n",
       "   OFFENSE_CATEGORY_Homicide  OFFENSE_CATEGORY_Narcotics  ...  \\\n",
       "0                          0                           0  ...   \n",
       "1                          0                           0  ...   \n",
       "2                          0                           0  ...   \n",
       "3                          0                           0  ...   \n",
       "4                          0                           0  ...   \n",
       "\n",
       "   RACE_American Indian  RACE_Asian  RACE_Biracial  RACE_Black  RACE_Hispanic  \\\n",
       "0                     0           0              0           0              1   \n",
       "1                     0           0              0           1              0   \n",
       "2                     0           0              0           1              0   \n",
       "3                     0           0              0           1              0   \n",
       "4                     0           0              0           1              0   \n",
       "\n",
       "   RACE_Unknown  RACE_White  GENDER_Female  GENDER_Male  GENDER_Unknown  \n",
       "0             0           0              0            1               0  \n",
       "1             0           0              0            1               0  \n",
       "2             0           0              0            1               0  \n",
       "3             0           0              0            1               0  \n",
       "4             0           0              0            1               0  \n",
       "\n",
       "[5 rows x 27 columns]"
      ]
     },
     "execution_count": 9,
     "metadata": {},
     "output_type": "execute_result"
    }
   ],
   "source": [
    "sentence = pd.get_dummies(sentence)\n",
    "sentence.head()"
   ]
  },
  {
   "cell_type": "code",
   "execution_count": 10,
   "metadata": {},
   "outputs": [],
   "source": [
    "sen_train = sentence.drop(['COMMITMENT_TERM'], axis = 1)"
   ]
  },
  {
   "cell_type": "code",
   "execution_count": 11,
   "metadata": {},
   "outputs": [],
   "source": [
    "from sklearn.model_selection import train_test_split\n",
    "X_train, X_test, y_train, y_test = train_test_split(sen_train, target, test_size = 0.30, random_state = 949)"
   ]
  },
  {
   "cell_type": "markdown",
   "metadata": {},
   "source": [
    "#### We will next build a model on the dataset to predict the length of the sentencing of the individual. In this process, we will test the following methods:\n",
    "\n",
    "1. Linear Regression\n",
    "2. Lasso Regression\n",
    "3. Ridge Regression\n",
    "4. Stochastic Gradient Regressor\n"
   ]
  },
  {
   "cell_type": "code",
   "execution_count": 12,
   "metadata": {},
   "outputs": [],
   "source": [
    "from sklearn.linear_model import LinearRegression"
   ]
  },
  {
   "cell_type": "code",
   "execution_count": 13,
   "metadata": {},
   "outputs": [
    {
     "data": {
      "text/plain": [
       "LinearRegression(copy_X=True, fit_intercept=True, n_jobs=None, normalize=False)"
      ]
     },
     "execution_count": 13,
     "metadata": {},
     "output_type": "execute_result"
    }
   ],
   "source": [
    "linmodel = LinearRegression()\n",
    "linmodel.fit(X_train, y_train)"
   ]
  },
  {
   "cell_type": "code",
   "execution_count": 14,
   "metadata": {},
   "outputs": [
    {
     "data": {
      "text/plain": [
       "0.1797715809906696"
      ]
     },
     "execution_count": 14,
     "metadata": {},
     "output_type": "execute_result"
    }
   ],
   "source": [
    "linmodel.score(X_train, y_train)"
   ]
  },
  {
   "cell_type": "code",
   "execution_count": 15,
   "metadata": {},
   "outputs": [
    {
     "data": {
      "text/plain": [
       "0.009677732384078236"
      ]
     },
     "execution_count": 15,
     "metadata": {},
     "output_type": "execute_result"
    }
   ],
   "source": [
    "pred = linmodel.predict(X_train)\n",
    "rmse = np.sqrt((sum(y_train - pred)**2)/len(y_train))\n",
    "rmse"
   ]
  },
  {
   "cell_type": "code",
   "execution_count": 16,
   "metadata": {},
   "outputs": [
    {
     "data": {
      "text/plain": [
       "array([ 7.77372165e-02, -1.84483562e+11, -1.84483562e+11, -1.84483562e+11,\n",
       "       -1.84483562e+11, -1.84483562e+11, -1.84483562e+11, -1.84483562e+11,\n",
       "       -1.84483562e+11, -1.84483562e+11, -1.84483562e+11, -1.84483562e+11,\n",
       "       -1.84483562e+11,  9.04472502e+09,  9.04472502e+09,  9.04472505e+09,\n",
       "       -2.62720940e+10, -2.62720940e+10, -2.62720940e+10, -2.62720940e+10,\n",
       "       -2.62720940e+10, -2.62720940e+10, -2.62720940e+10,  1.99687971e+10,\n",
       "        1.99687971e+10,  1.99687971e+10])"
      ]
     },
     "execution_count": 16,
     "metadata": {},
     "output_type": "execute_result"
    }
   ],
   "source": [
    "linmodel.coef_"
   ]
  },
  {
   "cell_type": "markdown",
   "metadata": {},
   "source": [
    "#### The linear model R-squared value shows that the model only explains 17.9% of variance in the data. However, the model derives a low root mean squared error."
   ]
  },
  {
   "cell_type": "code",
   "execution_count": 17,
   "metadata": {},
   "outputs": [],
   "source": [
    "#The function will take in training data and target variable\n",
    "#Function takes in training, target, mode, and number of folds\n",
    "from sklearn.model_selection import cross_val_score\n",
    "from sklearn.feature_selection import SelectPercentile, f_regression\n",
    "from sklearn.metrics import mean_squared_error\n",
    "def optimalFeatures(training, target, model, n):\n",
    "    percentiles = range(1, 100, 5)\n",
    "    results = []\n",
    "    \n",
    "    print(\"The Percentile Accuracy Scores are:\")\n",
    "    for i in range(1,100,5):\n",
    "        fs = SelectPercentile(score_func = f_regression, percentile = i)\n",
    "        X_train_fs = fs.fit_transform(training, target)\n",
    "        scores = cross_val_score(model, X_train_fs, target, cv = n)\n",
    "        print(\"%2d  %0.4f\" % (i, scores.mean()))\n",
    "        results = np.append(results, scores.mean())\n",
    "        \n",
    "    optimal_percentile_ind = np.where(results == results.max())[0][0]\n",
    "    optimal_num_features = int(percentiles[optimal_percentile_ind]*len(training.columns)/100)\n",
    "    \n",
    "    pctFeatures = percentiles[optimal_percentile_ind]\n",
    "    print(\"\\nOptimal Percentile of Features is: \", pctFeatures)\n",
    "    print(\"\\nOptimal Number of Features is: \", optimal_num_features)\n",
    "    \n",
    "    plt.plot(percentiles, results)\n",
    "    plt.xlabel(\"Percentage of Features Selected\")\n",
    "    plt.ylabel(\"Cross Validation Accuracy\")\n",
    "    plt.title(\"Regression Model Features versus Cross Validation Accuracy\")\n",
    "    \n",
    "    return pctFeatures, optimal_num_features"
   ]
  },
  {
   "cell_type": "code",
   "execution_count": 18,
   "metadata": {},
   "outputs": [
    {
     "name": "stdout",
     "output_type": "stream",
     "text": [
      "The Percentile Accuracy Scores are:\n",
      " 1  0.1631\n",
      " 6  0.1651\n",
      "11  0.1707\n",
      "16  0.1762\n",
      "21  0.1783\n",
      "26  0.1783\n",
      "31  0.1795\n",
      "36  0.1813\n",
      "41  0.1817\n",
      "46  0.1833\n",
      "51  0.1833\n",
      "56  0.1833\n",
      "61  0.1834\n",
      "66  0.1834\n",
      "71  0.1834\n",
      "76  0.1835\n",
      "81  0.1834\n",
      "86  0.1834\n",
      "91  0.1834\n",
      "96  0.1834\n",
      "\n",
      "Optimal Percentile of Features is:  76\n",
      "\n",
      "Optimal Number of Features is:  19\n"
     ]
    },
    {
     "data": {
      "text/plain": [
       "(76, 19)"
      ]
     },
     "execution_count": 18,
     "metadata": {},
     "output_type": "execute_result"
    },
    {
     "data": {
      "image/png": "[encoded data removed]",
      "text/plain": [
       "<Figure size 432x288 with 1 Axes>"
      ]
     },
     "metadata": {
      "needs_background": "light"
     },
     "output_type": "display_data"
    }
   ],
   "source": [
    "sc = optimalFeatures(X_train, y_train, linmodel, 5)\n",
    "sc"
   ]
  },
  {
   "cell_type": "code",
   "execution_count": 19,
   "metadata": {},
   "outputs": [],
   "source": [
    "from sklearn.metrics import mean_absolute_error, make_scorer\n",
    "\n",
    "\n",
    "def info_var(training, target, testData, testTarget, percentile, k):\n",
    "    fs = SelectPercentile(score_func = f_regression, percentile = percentile)\n",
    "    X_train_fs = fs.fit_transform(training, target)\n",
    "    \n",
    "    a = training.columns[fs.get_support()].values\n",
    "    \n",
    "    print(\"The most informative variables and their respective weights are :\\n\")\n",
    "    for i in range(len(training.columns.values)):\n",
    "        if fs.get_support()[i]:\n",
    "            print(\"%10s  %3.2f\" % (training.columns.values[i], fs.scores_[i]))\n",
    "    \n",
    "    reg = LinearRegression().fit(X_train_fs, target)\n",
    "    X_test_fs = fs.transform(testData)\n",
    "    \n",
    "    validation = cross_val_score(reg, X_test_fs, testTarget, cv = k, \n",
    "                                 scoring = make_scorer(mean_squared_error))\n",
    "    print(\"\\nThe root_mean_squared_errors for each fold are as follows: \\n\", np.sqrt(validation))\n",
    "    \n",
    "    return np.sqrt(validation)"
   ]
  },
  {
   "cell_type": "code",
   "execution_count": 20,
   "metadata": {},
   "outputs": [
    {
     "name": "stdout",
     "output_type": "stream",
     "text": [
      "The most informative variables and their respective weights are :\n",
      "\n",
      "CHARGE_COUNT  4616.42\n",
      "OFFENSE_CATEGORY_Homicide  26385.10\n",
      "OFFENSE_CATEGORY_Narcotics  717.72\n",
      "OFFENSE_CATEGORY_Sex Crimes  808.63\n",
      "CHARGE_DISPOSITION_Not Guilty  1144.42\n",
      "\n",
      "The root_mean_squared_errors for each fold are as follows: \n",
      " [10.65154317 10.24387262  9.99786124 10.02452356 13.60059847]\n"
     ]
    },
    {
     "data": {
      "text/plain": [
       "array([10.65154317, 10.24387262,  9.99786124, 10.02452356, 13.60059847])"
      ]
     },
     "execution_count": 20,
     "metadata": {},
     "output_type": "execute_result"
    }
   ],
   "source": [
    "#Inputing the training, target, testing, testing target, \n",
    "#optimal number of features and number of folds\n",
    "rmse = info_var(X_train, y_train, X_test, y_test, sc[1], 5)\n",
    "rmse"
   ]
  },
  {
   "attachments": {
    "image.png": {
     "image/png": "[encoded data removed]"
    }
   },
   "cell_type": "markdown",
   "metadata": {},
   "source": [
    "#### The function info_var calculates the scores for each of the features in the dataset. The purpose of this is to identify the most informative features iwthin the datasets. Based on the values returned, it makes sense that Charge Count is the most informative feature since more counts of a crime generally equate to more time served for the individual. Lastly, through the Root Mean Squared Error calculations we can see that each of the folds provided similar error values with the second fold resulting in the lowest error calculation. \n",
    "\n",
    "![image.png](attachment:image.png)\n"
   ]
  },
  {
   "cell_type": "code",
   "execution_count": 21,
   "metadata": {},
   "outputs": [
    {
     "data": {
      "text/plain": [
       "Text(0.5, 1.0, 'K-fold versus RMSE')"
      ]
     },
     "execution_count": 21,
     "metadata": {},
     "output_type": "execute_result"
    },
    {
     "data": {
      "image/png": "[encoded data removed]",
      "text/plain": [
       "<Figure size 432x288 with 1 Axes>"
      ]
     },
     "metadata": {
      "needs_background": "light"
     },
     "output_type": "display_data"
    }
   ],
   "source": [
    "crossval = range(5)\n",
    "\n",
    "plt.plot(crossval, rmse)\n",
    "plt.xlabel(\"K-folds for Cross Validation\")\n",
    "plt.ylabel(\"Root Mean Squared Error\")\n",
    "plt.title(\"K-fold versus RMSE\")"
   ]
  },
  {
   "cell_type": "markdown",
   "metadata": {},
   "source": [
    "#### Next, we will perform ridge and lasso regression which essentially adds a penalty value to the ordinary least squares model to improve the accuracy of the model. Lasso Regression is known as the L1 norm calculation and Ridge is the L2 norm calculation. The primary differences between the two is how the distance between the points is calculated."
   ]
  },
  {
   "cell_type": "code",
   "execution_count": 22,
   "metadata": {},
   "outputs": [],
   "source": [
    "from sklearn.linear_model import Ridge, Lasso\n",
    "from sklearn.model_selection import KFold\n",
    "\n",
    "#First we will convert the test and train datasets into numpy arrays for the calculations below\n",
    "dlst = [X_train, X_test, y_train, y_test]\n",
    "for i in dlst:\n",
    "    i = np.array(i)\n",
    "\n",
    "X_train = np.array(X_train)\n",
    "X_test = np.array(X_test)\n",
    "y_train = np.array(y_train)\n",
    "y_test = np.array(y_test)"
   ]
  },
  {
   "cell_type": "code",
   "execution_count": 23,
   "metadata": {},
   "outputs": [],
   "source": [
    "def crossval(m, X, y, n):\n",
    "    #m is the model\n",
    "    #X is the data\n",
    "    #y is the target variable\n",
    "    #n is the number of folds\n",
    "    kf = KFold(n_splits = n, random_state = 234293, shuffle = True)\n",
    "    errval = 0\n",
    "    for train, test in kf.split(X):\n",
    "        m.fit(X[train],y[train])\n",
    "        p = m.predict(X[test])\n",
    "        e = p - y[test]\n",
    "        rmse = np.sqrt(np.dot(e,e)/len(X[test]))\n",
    "        errval += rmse\n",
    "    return errval/n"
   ]
  },
  {
   "cell_type": "markdown",
   "metadata": {},
   "source": [
    "#### The regression below will be cross validated for alpha parameters incrementing by 0.01 from 20 to 50. For each alpha value, there will be 5 cross validations that are performed and produces a list of the alpha parameters, training total rmse and the cross validation rmse."
   ]
  },
  {
   "cell_type": "code",
   "execution_count": 24,
   "metadata": {},
   "outputs": [],
   "source": [
    "#Ridge regression calculations\n",
    "def ridge_reg(training, target, testing, testTarget,k):\n",
    "    alpha = np.linspace(.01,20,50)\n",
    "    t_rmse = np.array([])\n",
    "    cv_rmse = np.array([])\n",
    "    print('alpha\\t RMSE_train\\t RMSE_5cv\\n')\n",
    "    for i in alpha:\n",
    "        ridge = Ridge(alpha = i)\n",
    "        #calculating the Root Mean Squared Error\n",
    "        \n",
    "        ridge.fit(training, target)\n",
    "        p = ridge.predict(training)\n",
    "        error = p - target\n",
    "        total_error = np.dot(error,error)\n",
    "        \n",
    "        rmse_train = np.sqrt(total_error/len(p))\n",
    "        \n",
    "        #calculating the cross fold validation\n",
    "        rmse_5cv = crossval(ridge, training, target, k)\n",
    "        \n",
    "        t_rmse = np.append(t_rmse,[rmse_train])\n",
    "        cv_rmse = np.append(cv_rmse, [rmse_5cv])\n",
    "\n",
    "        print('{:.3f}\\t {:.4f}\\t\\t {:.4f}'.format(i,rmse_train,rmse_5cv))\n",
    "    return alpha, t_rmse, cv_rmse"
   ]
  },
  {
   "cell_type": "code",
   "execution_count": 25,
   "metadata": {
    "scrolled": true
   },
   "outputs": [
    {
     "name": "stdout",
     "output_type": "stream",
     "text": [
      "alpha\t RMSE_train\t RMSE_5cv\n",
      "\n",
      "0.010\t 7.9752\t\t 7.7927\n",
      "0.418\t 7.9752\t\t 7.7927\n",
      "0.826\t 7.9752\t\t 7.7927\n",
      "1.234\t 7.9752\t\t 7.7927\n",
      "1.642\t 7.9752\t\t 7.7927\n",
      "2.050\t 7.9752\t\t 7.7927\n",
      "2.458\t 7.9752\t\t 7.7927\n",
      "2.866\t 7.9752\t\t 7.7927\n",
      "3.274\t 7.9752\t\t 7.7927\n",
      "3.682\t 7.9752\t\t 7.7927\n",
      "4.090\t 7.9752\t\t 7.7927\n",
      "4.498\t 7.9752\t\t 7.7927\n",
      "4.906\t 7.9752\t\t 7.7928\n",
      "5.313\t 7.9752\t\t 7.7928\n",
      "5.721\t 7.9752\t\t 7.7928\n",
      "6.129\t 7.9752\t\t 7.7928\n",
      "6.537\t 7.9752\t\t 7.7928\n",
      "6.945\t 7.9752\t\t 7.7928\n",
      "7.353\t 7.9752\t\t 7.7928\n",
      "7.761\t 7.9753\t\t 7.7928\n",
      "8.169\t 7.9753\t\t 7.7929\n",
      "8.577\t 7.9753\t\t 7.7929\n",
      "8.985\t 7.9753\t\t 7.7929\n",
      "9.393\t 7.9753\t\t 7.7929\n",
      "9.801\t 7.9753\t\t 7.7929\n",
      "10.209\t 7.9753\t\t 7.7929\n",
      "10.617\t 7.9753\t\t 7.7929\n",
      "11.025\t 7.9753\t\t 7.7930\n",
      "11.433\t 7.9753\t\t 7.7930\n",
      "11.841\t 7.9753\t\t 7.7930\n",
      "12.249\t 7.9753\t\t 7.7930\n",
      "12.657\t 7.9754\t\t 7.7930\n",
      "13.065\t 7.9754\t\t 7.7931\n",
      "13.473\t 7.9754\t\t 7.7931\n",
      "13.881\t 7.9754\t\t 7.7931\n",
      "14.289\t 7.9754\t\t 7.7931\n",
      "14.697\t 7.9754\t\t 7.7931\n",
      "15.104\t 7.9754\t\t 7.7932\n",
      "15.512\t 7.9754\t\t 7.7932\n",
      "15.920\t 7.9754\t\t 7.7932\n",
      "16.328\t 7.9755\t\t 7.7932\n",
      "16.736\t 7.9755\t\t 7.7933\n",
      "17.144\t 7.9755\t\t 7.7933\n",
      "17.552\t 7.9755\t\t 7.7933\n",
      "17.960\t 7.9755\t\t 7.7933\n",
      "18.368\t 7.9755\t\t 7.7933\n",
      "18.776\t 7.9755\t\t 7.7934\n",
      "19.184\t 7.9755\t\t 7.7934\n",
      "19.592\t 7.9756\t\t 7.7934\n",
      "20.000\t 7.9756\t\t 7.7934\n"
     ]
    }
   ],
   "source": [
    "rr = ridge_reg(X_train, y_train, X_test, y_test, 5)"
   ]
  },
  {
   "cell_type": "code",
   "execution_count": 26,
   "metadata": {},
   "outputs": [
    {
     "data": {
      "image/png": "[encoded data removed]",
      "text/plain": [
       "<Figure size 1080x576 with 1 Axes>"
      ]
     },
     "metadata": {
      "needs_background": "light"
     },
     "output_type": "display_data"
    }
   ],
   "source": [
    "fig = plt.figure(figsize = (15, 8))\n",
    "ax = fig.add_subplot(222)\n",
    "ax.plot(rr[0], rr[1], label = 'RMSE_Train')\n",
    "ax.plot(rr[0], rr[2], label = 'RMSE_5cv_Train')\n",
    "plt.legend()\n",
    "plt.ylabel('RMSE')\n",
    "plt.xlabel('Alpha Parameter')\n",
    "plt.title('Alpha Parameter versus RMSE (Ridge Regression)')\n",
    "plt.show()"
   ]
  },
  {
   "cell_type": "markdown",
   "metadata": {},
   "source": [
    "#### Based on the Ridge Regression analysis, we can see that as the Alpha parameter increases there is virtually minimal to no change in the RMSE. Furthermore, what we can clearly see within the results is that the RMSE calculated is lower than the RMSE calculated from the Ordinary Least Squares Model. Next, we will attempt to see if we see any improvement in results with the Lasso Regression."
   ]
  },
  {
   "cell_type": "code",
   "execution_count": 27,
   "metadata": {},
   "outputs": [],
   "source": [
    "#Lasso regression calculations\n",
    "def lasso_reg(training, target, testing, testTarget,k):\n",
    "    alpha = np.linspace(.01,1,50)\n",
    "    t_rmse = np.array([])\n",
    "    cv_rmse = np.array([])\n",
    "    print('alpha\\t RMSE_train\\t RMSE_5cv\\n')\n",
    "    for i in alpha:\n",
    "        lasso = Lasso(alpha = i)\n",
    "        #calculating the Root Mean Squared Error\n",
    "        \n",
    "        lasso.fit(training, target)\n",
    "        p = lasso.predict(training)\n",
    "        error = p - target\n",
    "        total_error = np.dot(error,error)\n",
    "        \n",
    "        rmse_train = np.sqrt(total_error/len(p))\n",
    "        \n",
    "        #calculating the cross fold validation\n",
    "        rmse_5cv = crossval(lasso, training, target, k)\n",
    "        \n",
    "        t_rmse = np.append(t_rmse,[rmse_train])\n",
    "        cv_rmse = np.append(cv_rmse, [rmse_5cv])\n",
    "\n",
    "        print('{:.3f}\\t {:.4f}\\t\\t {:.4f}'.format(i,rmse_train,rmse_5cv))\n",
    "    return alpha, t_rmse, cv_rmse"
   ]
  },
  {
   "cell_type": "code",
   "execution_count": 28,
   "metadata": {},
   "outputs": [
    {
     "name": "stdout",
     "output_type": "stream",
     "text": [
      "alpha\t RMSE_train\t RMSE_5cv\n",
      "\n",
      "0.010\t 7.9848\t\t 7.8034\n",
      "0.030\t 8.0132\t\t 7.8342\n",
      "0.050\t 8.0321\t\t 7.8556\n",
      "0.071\t 8.0582\t\t 7.8847\n",
      "0.091\t 8.0915\t\t 7.9215\n",
      "0.111\t 8.1221\t\t 7.9546\n",
      "0.131\t 8.1514\t\t 7.9867\n",
      "0.151\t 8.1850\t\t 8.0234\n",
      "0.172\t 8.2232\t\t 8.0651\n",
      "0.192\t 8.2643\t\t 8.1097\n",
      "0.212\t 8.3086\t\t 8.1577\n",
      "0.232\t 8.3563\t\t 8.2092\n",
      "0.252\t 8.4079\t\t 8.2649\n",
      "0.273\t 8.4635\t\t 8.3246\n",
      "0.293\t 8.5230\t\t 8.3883\n",
      "0.313\t 8.5863\t\t 8.4558\n",
      "0.333\t 8.6533\t\t 8.5208\n",
      "0.353\t 8.6642\t\t 8.5341\n",
      "0.374\t 8.6642\t\t 8.5341\n",
      "0.394\t 8.6643\t\t 8.5342\n",
      "0.414\t 8.6644\t\t 8.5343\n",
      "0.434\t 8.6644\t\t 8.5343\n",
      "0.454\t 8.6645\t\t 8.5344\n",
      "0.475\t 8.6646\t\t 8.5344\n",
      "0.495\t 8.6646\t\t 8.5345\n",
      "0.515\t 8.6647\t\t 8.5346\n",
      "0.535\t 8.6648\t\t 8.5347\n",
      "0.556\t 8.6649\t\t 8.5347\n",
      "0.576\t 8.6649\t\t 8.5348\n",
      "0.596\t 8.6650\t\t 8.5349\n",
      "0.616\t 8.6651\t\t 8.5350\n",
      "0.636\t 8.6652\t\t 8.5351\n",
      "0.657\t 8.6653\t\t 8.5352\n",
      "0.677\t 8.6654\t\t 8.5353\n",
      "0.697\t 8.6655\t\t 8.5354\n",
      "0.717\t 8.6656\t\t 8.5355\n",
      "0.737\t 8.6657\t\t 8.5356\n",
      "0.758\t 8.6658\t\t 8.5357\n",
      "0.778\t 8.6659\t\t 8.5358\n",
      "0.798\t 8.6660\t\t 8.5359\n",
      "0.818\t 8.6661\t\t 8.5360\n",
      "0.838\t 8.6663\t\t 8.5362\n",
      "0.859\t 8.6664\t\t 8.5363\n",
      "0.879\t 8.6665\t\t 8.5364\n",
      "0.899\t 8.6666\t\t 8.5366\n",
      "0.919\t 8.6668\t\t 8.5367\n",
      "0.939\t 8.6669\t\t 8.5368\n",
      "0.960\t 8.6671\t\t 8.5370\n",
      "0.980\t 8.6672\t\t 8.5371\n",
      "1.000\t 8.6673\t\t 8.5373\n"
     ]
    }
   ],
   "source": [
    "lr = lasso_reg(X_train, y_train, X_test, y_test, 5)"
   ]
  },
  {
   "cell_type": "code",
   "execution_count": 29,
   "metadata": {},
   "outputs": [
    {
     "data": {
      "image/png": "[encoded data removed]",
      "text/plain": [
       "<Figure size 1080x576 with 1 Axes>"
      ]
     },
     "metadata": {
      "needs_background": "light"
     },
     "output_type": "display_data"
    }
   ],
   "source": [
    "fig = plt.figure(figsize = (15, 8))\n",
    "ax = fig.add_subplot(222)\n",
    "ax.plot(lr[0], lr[1], label = 'RMSE_Train')\n",
    "ax.plot(lr[0], lr[2], label = 'RMSE_5cv_Train')\n",
    "plt.legend()\n",
    "plt.ylabel('RMSE')\n",
    "plt.xlabel('Alpha Parameter')\n",
    "plt.title('Alpha Parameter versus RMSE (Lasso Regression)')\n",
    "plt.show()"
   ]
  },
  {
   "cell_type": "markdown",
   "metadata": {},
   "source": [
    "#### The calculations for Lasso Regression where the alpha parameter ranges from .01 to 1 shows that as the alpha parameter increases the RMSE for the training and the cross validation data set increase until alpha equals 0.313. The error values stabilize as the alpha parameter increases after that. The most optimal alpha parameter in this case is also 0.010 which produces the smallest error for the data."
   ]
  },
  {
   "cell_type": "code",
   "execution_count": 30,
   "metadata": {},
   "outputs": [],
   "source": [
    "from sklearn.linear_model import SGDRegressor\n",
    "from sklearn.preprocessing import StandardScaler\n",
    "from sklearn.model_selection import GridSearchCV "
   ]
  },
  {
   "cell_type": "markdown",
   "metadata": {},
   "source": [
    "#### Next, we will build a Stochastic Gradient Descent Model. In order to do so, we will need to find the most optimal parameters, such as, the alpha parameter, the l1 ratio, the type of penalty parameter used and the learning rate. Using the GridSearch cross validation, the system will produce the parameters with the most optimized results."
   ]
  },
  {
   "cell_type": "code",
   "execution_count": 31,
   "metadata": {},
   "outputs": [],
   "source": [
    "scaler = StandardScaler()\n",
    "scaler.fit(X_train)\n",
    "xtrain_s = scaler.transform(X_train)\n",
    "xtest_s = scaler.transform(X_test)\n",
    "\n",
    "sgdreg = SGDRegressor(penalty='l2', learning_rate = 'constant',\n",
    "                      alpha=0.01, max_iter=300)"
   ]
  },
  {
   "cell_type": "markdown",
   "metadata": {},
   "source": [
    "#### Below are the list of parameters that we will try to use in order to optimize the model."
   ]
  },
  {
   "cell_type": "code",
   "execution_count": 32,
   "metadata": {},
   "outputs": [],
   "source": [
    "param_grid = {\n",
    "    'alpha': np.linspace(0.01, 10, 10),\n",
    "    'penalty': ['l2','l1','elasticnet'],\n",
    "    'l1_ratio': np.linspace(0.01, 1, 50)\n",
    "}"
   ]
  },
  {
   "cell_type": "code",
   "execution_count": 33,
   "metadata": {},
   "outputs": [],
   "source": [
    "gs = GridSearchCV(sgdreg, param_grid, verbose = 1, cv = 3)"
   ]
  },
  {
   "cell_type": "markdown",
   "metadata": {},
   "source": [
    "#### Due to the size of the data containing over 130,000 rows, we can estimate the best parameters using a subset of the data and apply it to the model to see how it performs."
   ]
  },
  {
   "cell_type": "code",
   "execution_count": 34,
   "metadata": {},
   "outputs": [
    {
     "name": "stdout",
     "output_type": "stream",
     "text": [
      "Fitting 3 folds for each of 1500 candidates, totalling 4500 fits\n"
     ]
    },
    {
     "name": "stderr",
     "output_type": "stream",
     "text": [
      "[Parallel(n_jobs=1)]: Using backend SequentialBackend with 1 concurrent workers.\n",
      "[Parallel(n_jobs=1)]: Done 4500 out of 4500 | elapsed:  1.7min finished\n"
     ]
    },
    {
     "data": {
      "text/plain": [
       "GridSearchCV(cv=3, error_score=nan,\n",
       "             estimator=SGDRegressor(alpha=0.01, average=False,\n",
       "                                    early_stopping=False, epsilon=0.1,\n",
       "                                    eta0=0.01, fit_intercept=True,\n",
       "                                    l1_ratio=0.15, learning_rate='constant',\n",
       "                                    loss='squared_loss', max_iter=300,\n",
       "                                    n_iter_no_change=5, penalty='l2',\n",
       "                                    power_t=0.25, random_state=None,\n",
       "                                    shuffle=True, tol=0.001,\n",
       "                                    validation_fraction=0.1, verbose=0,\n",
       "                                    warm_start=Fal...\n",
       "       0.51510204, 0.53530612, 0.5555102 , 0.57571429, 0.59591837,\n",
       "       0.61612245, 0.63632653, 0.65653061, 0.67673469, 0.69693878,\n",
       "       0.71714286, 0.73734694, 0.75755102, 0.7777551 , 0.79795918,\n",
       "       0.81816327, 0.83836735, 0.85857143, 0.87877551, 0.89897959,\n",
       "       0.91918367, 0.93938776, 0.95959184, 0.97979592, 1.        ]),\n",
       "                         'penalty': ['l2', 'l1', 'elasticnet']},\n",
       "             pre_dispatch='2*n_jobs', refit=True, return_train_score=False,\n",
       "             scoring=None, verbose=1)"
      ]
     },
     "execution_count": 34,
     "metadata": {},
     "output_type": "execute_result"
    }
   ],
   "source": [
    "gs.fit(xtrain_s[:20000], y_train[:20000])"
   ]
  },
  {
   "cell_type": "code",
   "execution_count": 35,
   "metadata": {},
   "outputs": [
    {
     "data": {
      "text/plain": [
       "{'alpha': 1.12, 'l1_ratio': 0.39387755102040817, 'penalty': 'elasticnet'}"
      ]
     },
     "execution_count": 35,
     "metadata": {},
     "output_type": "execute_result"
    }
   ],
   "source": [
    "gs.best_params_"
   ]
  },
  {
   "cell_type": "code",
   "execution_count": 36,
   "metadata": {},
   "outputs": [],
   "source": [
    "sgdreg2 = SGDRegressor(l1_ratio = 0.11102040816326529, learning_rate = 'constant', \n",
    "                      alpha = 0.8255102040816327, penalty = 'elasticnet')"
   ]
  },
  {
   "cell_type": "code",
   "execution_count": 37,
   "metadata": {},
   "outputs": [],
   "source": [
    "def SGDTester(training, target, testing, testtarget):    \n",
    "    rmse = []\n",
    "    datalst = [(training,target), (testing, testtarget)]\n",
    "    for i in datalst:\n",
    "        preds = sgdreg2.predict(i[0])\n",
    "        err2 = preds - i[1]\n",
    "        rmse.append(np.sqrt(np.dot(err2,err2)/len(preds)))\n",
    "    \n",
    "    print(\"Method: Stochastic Gradient Descent\")\n",
    "    print(\"RMSE on training data: %.4f\" %rmse[0])\n",
    "    print(\"RMSE on testing data: %.4f\" %rmse[1])\n",
    "    print(\"\\n\")\n",
    "    return rmse"
   ]
  },
  {
   "cell_type": "code",
   "execution_count": 38,
   "metadata": {},
   "outputs": [
    {
     "data": {
      "text/plain": [
       "SGDRegressor(alpha=0.8255102040816327, average=False, early_stopping=False,\n",
       "             epsilon=0.1, eta0=0.01, fit_intercept=True,\n",
       "             l1_ratio=0.11102040816326529, learning_rate='constant',\n",
       "             loss='squared_loss', max_iter=1000, n_iter_no_change=5,\n",
       "             penalty='elasticnet', power_t=0.25, random_state=None,\n",
       "             shuffle=True, tol=0.001, validation_fraction=0.1, verbose=0,\n",
       "             warm_start=False)"
      ]
     },
     "execution_count": 38,
     "metadata": {},
     "output_type": "execute_result"
    }
   ],
   "source": [
    "sgdreg2.fit(xtrain_s, y_train)"
   ]
  },
  {
   "cell_type": "markdown",
   "metadata": {},
   "source": [
    "#### Using the best parameters, while the training data's RMSE is 8.6675, the error increases significantly when tested on the testing data. Now, we can accumulate the results for each of the regression tests."
   ]
  },
  {
   "cell_type": "code",
   "execution_count": 39,
   "metadata": {},
   "outputs": [],
   "source": [
    "#Ridge and Lasso Regression\n",
    "#Evaluating the Ridge, Lasso, and OLS models to see which one performs the best\n",
    "l_alpha = lr[0][np.where(lr[2] == lr[2].min())[0][0]]\n",
    "r_alpha = rr[0][np.where(rr[2] == rr[2].min())[0][0]]\n",
    "\n",
    "lasso = Lasso(alpha = l_alpha)\n",
    "ridge = Ridge(alpha = r_alpha)\n",
    "linreg = LinearRegression()"
   ]
  },
  {
   "cell_type": "code",
   "execution_count": 40,
   "metadata": {},
   "outputs": [],
   "source": [
    "def model_review(model, training, target, testing, testtarget):\n",
    "    model.fit(training, target)\n",
    "    #training model\n",
    "    preds = model.predict(training)\n",
    "    error = target - preds\n",
    "    rmse_training = np.sqrt(np.dot(error, error)/len(target))\n",
    "    \n",
    "    #testing the model\n",
    "    preds_testing = model.predict(testing)\n",
    "    error_test = testtarget - preds_testing\n",
    "    rmse_testing = np.sqrt(np.dot(error_test, error_test)/len(testtarget))\n",
    "    \n",
    "    return rmse_training, rmse_testing"
   ]
  },
  {
   "cell_type": "code",
   "execution_count": 41,
   "metadata": {},
   "outputs": [
    {
     "name": "stdout",
     "output_type": "stream",
     "text": [
      "Method: Lasso\n",
      "RMSE on training data: 7.9848\n",
      "RMSE on testing data: 11.0027\n",
      "\n",
      "\n",
      "Method: Ridge\n",
      "RMSE on training data: 7.9752\n",
      "RMSE on testing data: 10.9800\n",
      "\n",
      "\n",
      "Method: Linear Regression\n",
      "RMSE on training data: 7.9752\n",
      "RMSE on testing data: 10.9800\n",
      "\n",
      "\n"
     ]
    }
   ],
   "source": [
    "lst = [('Lasso',lasso), (\"Ridge\",ridge), ('Linear Regression', linreg)]\n",
    "\n",
    "for name, i in lst:\n",
    "    mod = model_review(i, X_train, y_train, X_test, y_test)\n",
    "    print(\"Method: %s\" %name)\n",
    "    print(\"RMSE on training data: %.4f\" %mod[0])\n",
    "    print(\"RMSE on testing data: %.4f\" %mod[1])\n",
    "    print(\"\\n\")"
   ]
  },
  {
   "cell_type": "code",
   "execution_count": 42,
   "metadata": {},
   "outputs": [
    {
     "name": "stdout",
     "output_type": "stream",
     "text": [
      "Method: Stochastic Gradient Descent\n",
      "RMSE on training data: 8.2660\n",
      "RMSE on testing data: 11.3077\n",
      "\n",
      "\n"
     ]
    }
   ],
   "source": [
    "SGD = SGDTester(xtrain_s, y_train, xtest_s, y_test)"
   ]
  },
  {
   "cell_type": "markdown",
   "metadata": {},
   "source": [
    "#### Based on the calculations, we can see that the Ordinary Least Squares and Linear Regression Models performed the best. Meanwhile, the SGD and Lasso regression methods produced a higher RMSE value. We can clearly say that based on the models created, the Linear Regression was the simplest and easiest model to replicate. However, we need to keep in mind a few things. \n",
    "\n",
    "#### The first is that the model's overall predictive ability measured through R-squared coefficient is approximately 18% at best. This basically means the model can only explain 18% of the variance in the data which is a weak value. The second thing that we can also see the weakness in predictive power when we look at the Root Mean Squared Error. Using the RMSE on the training data, the model is generally off by approximately 8 years in predicting the length of the prison sentence. Similarly, the model is even worse when predicting the testing data where it is off by 10+ years.\n",
    "\n",
    "#### Even so, we can see some clear insights from the analysis namely the impact of certain features and the number of features required to have the best model. The most informative variables are as follows:\n",
    "#### 1. CHARGE_COUNT  4616.42\n",
    "#### 2. OFFENSE_CATEGORY_Homicide  26385.10\n",
    "#### 3. OFFENSE_CATEGORY_Narcotics  717.72\n",
    "#### 4. OFFENSE_CATEGORY_Sex Crimes  808.63\n",
    "#### 5. CHARGE_DISPOSITION_Not Guilty  1144.42\n",
    "\n",
    "#### Another element to keep in mind is the need for domain knowledge and understanding. While we can use the basic data available to predict to a certain degree the length of the prison sentence, the fact of the matter is that there are quite a few subjective elements that determine how long someone's sentence is. For example, the severity of the crime committed (1st degree versus 3rd degree) the actual circumstances involving the crime committed and other case specifics could not be considered as data elements."
   ]
  },
  {
   "cell_type": "markdown",
   "metadata": {},
   "source": [
    "## Part 2: Unsupervised Learning - Clustering"
   ]
  },
  {
   "cell_type": "markdown",
   "metadata": {},
   "source": [
    "#### The next objective is to model some unsupervised learning using Clustering methods on the dataset. For this process, we need to separate out the label from the dataset which in this case will be 'RACE' to see if we can correctly classify the data using clustering methods."
   ]
  },
  {
   "cell_type": "code",
   "execution_count": 43,
   "metadata": {},
   "outputs": [
    {
     "data": {
      "text/html": [
       "<div>\n",
       "<style scoped>\n",
       "    .dataframe tbody tr th:only-of-type {\n",
       "        vertical-align: middle;\n",
       "    }\n",
       "\n",
       "    .dataframe tbody tr th {\n",
       "        vertical-align: top;\n",
       "    }\n",
       "\n",
       "    .dataframe thead th {\n",
       "        text-align: right;\n",
       "    }\n",
       "</style>\n",
       "<table border=\"1\" class=\"dataframe\">\n",
       "  <thead>\n",
       "    <tr style=\"text-align: right;\">\n",
       "      <th></th>\n",
       "      <th>OFFENSE_CATEGORY</th>\n",
       "      <th>CHARGE_DISPOSITION</th>\n",
       "      <th>CHARGE_COUNT</th>\n",
       "      <th>GENDER</th>\n",
       "      <th>COMMITMENT_TERM</th>\n",
       "    </tr>\n",
       "  </thead>\n",
       "  <tbody>\n",
       "    <tr>\n",
       "      <th>0</th>\n",
       "      <td>UUW - Unlawful Use of Weapon</td>\n",
       "      <td>Guilty</td>\n",
       "      <td>2</td>\n",
       "      <td>Male</td>\n",
       "      <td>2.00</td>\n",
       "    </tr>\n",
       "    <tr>\n",
       "      <th>1</th>\n",
       "      <td>Aggravated Battery</td>\n",
       "      <td>Guilty</td>\n",
       "      <td>24</td>\n",
       "      <td>Male</td>\n",
       "      <td>9.25</td>\n",
       "    </tr>\n",
       "    <tr>\n",
       "      <th>2</th>\n",
       "      <td>Aggravated Battery</td>\n",
       "      <td>Guilty</td>\n",
       "      <td>23</td>\n",
       "      <td>Male</td>\n",
       "      <td>9.25</td>\n",
       "    </tr>\n",
       "    <tr>\n",
       "      <th>3</th>\n",
       "      <td>Aggravated Battery</td>\n",
       "      <td>Guilty</td>\n",
       "      <td>5</td>\n",
       "      <td>Male</td>\n",
       "      <td>52.86</td>\n",
       "    </tr>\n",
       "    <tr>\n",
       "      <th>4</th>\n",
       "      <td>Aggravated Battery</td>\n",
       "      <td>Guilty</td>\n",
       "      <td>6</td>\n",
       "      <td>Male</td>\n",
       "      <td>52.86</td>\n",
       "    </tr>\n",
       "  </tbody>\n",
       "</table>\n",
       "</div>"
      ],
      "text/plain": [
       "               OFFENSE_CATEGORY CHARGE_DISPOSITION  CHARGE_COUNT GENDER  \\\n",
       "0  UUW - Unlawful Use of Weapon             Guilty             2   Male   \n",
       "1            Aggravated Battery             Guilty            24   Male   \n",
       "2            Aggravated Battery             Guilty            23   Male   \n",
       "3            Aggravated Battery             Guilty             5   Male   \n",
       "4            Aggravated Battery             Guilty             6   Male   \n",
       "\n",
       "   COMMITMENT_TERM  \n",
       "0             2.00  \n",
       "1             9.25  \n",
       "2             9.25  \n",
       "3            52.86  \n",
       "4            52.86  "
      ]
     },
     "execution_count": 43,
     "metadata": {},
     "output_type": "execute_result"
    }
   ],
   "source": [
    "#Same subset of the data except we changed the target variable to Race instead of Commitment Term\n",
    "sentence2 = sen.loc[:,['OFFENSE_CATEGORY','CHARGE_DISPOSITION','CHARGE_COUNT',\n",
    "                       'RACE', 'GENDER', 'COMMITMENT_TERM']]\n",
    "target2 = sentence2['RACE']\n",
    "s = sentence2.drop('RACE', axis = 1)\n",
    "s.head()"
   ]
  },
  {
   "cell_type": "code",
   "execution_count": 44,
   "metadata": {
    "scrolled": true
   },
   "outputs": [
    {
     "data": {
      "text/html": [
       "<div>\n",
       "<style scoped>\n",
       "    .dataframe tbody tr th:only-of-type {\n",
       "        vertical-align: middle;\n",
       "    }\n",
       "\n",
       "    .dataframe tbody tr th {\n",
       "        vertical-align: top;\n",
       "    }\n",
       "\n",
       "    .dataframe thead th {\n",
       "        text-align: right;\n",
       "    }\n",
       "</style>\n",
       "<table border=\"1\" class=\"dataframe\">\n",
       "  <thead>\n",
       "    <tr style=\"text-align: right;\">\n",
       "      <th></th>\n",
       "      <th>CHARGE_COUNT</th>\n",
       "      <th>COMMITMENT_TERM</th>\n",
       "      <th>OFFENSE_CATEGORY_Aggravated Battery</th>\n",
       "      <th>OFFENSE_CATEGORY_DUI</th>\n",
       "      <th>OFFENSE_CATEGORY_Driving With Suspended Or Revoked License</th>\n",
       "      <th>OFFENSE_CATEGORY_Failure to Register as a Sex Offender</th>\n",
       "      <th>OFFENSE_CATEGORY_Fleeing or Failure to Return</th>\n",
       "      <th>OFFENSE_CATEGORY_Forgery</th>\n",
       "      <th>OFFENSE_CATEGORY_Homicide</th>\n",
       "      <th>OFFENSE_CATEGORY_Narcotics</th>\n",
       "      <th>OFFENSE_CATEGORY_Other Offense</th>\n",
       "      <th>OFFENSE_CATEGORY_Sex Crimes</th>\n",
       "      <th>OFFENSE_CATEGORY_Theft</th>\n",
       "      <th>OFFENSE_CATEGORY_UUW - Unlawful Use of Weapon</th>\n",
       "      <th>CHARGE_DISPOSITION_Dismissed</th>\n",
       "      <th>CHARGE_DISPOSITION_Guilty</th>\n",
       "      <th>CHARGE_DISPOSITION_Not Guilty</th>\n",
       "      <th>GENDER_Female</th>\n",
       "      <th>GENDER_Male</th>\n",
       "      <th>GENDER_Unknown</th>\n",
       "    </tr>\n",
       "  </thead>\n",
       "  <tbody>\n",
       "    <tr>\n",
       "      <th>0</th>\n",
       "      <td>2</td>\n",
       "      <td>2.00</td>\n",
       "      <td>0</td>\n",
       "      <td>0</td>\n",
       "      <td>0</td>\n",
       "      <td>0</td>\n",
       "      <td>0</td>\n",
       "      <td>0</td>\n",
       "      <td>0</td>\n",
       "      <td>0</td>\n",
       "      <td>0</td>\n",
       "      <td>0</td>\n",
       "      <td>0</td>\n",
       "      <td>1</td>\n",
       "      <td>0</td>\n",
       "      <td>1</td>\n",
       "      <td>0</td>\n",
       "      <td>0</td>\n",
       "      <td>1</td>\n",
       "      <td>0</td>\n",
       "    </tr>\n",
       "    <tr>\n",
       "      <th>1</th>\n",
       "      <td>24</td>\n",
       "      <td>9.25</td>\n",
       "      <td>1</td>\n",
       "      <td>0</td>\n",
       "      <td>0</td>\n",
       "      <td>0</td>\n",
       "      <td>0</td>\n",
       "      <td>0</td>\n",
       "      <td>0</td>\n",
       "      <td>0</td>\n",
       "      <td>0</td>\n",
       "      <td>0</td>\n",
       "      <td>0</td>\n",
       "      <td>0</td>\n",
       "      <td>0</td>\n",
       "      <td>1</td>\n",
       "      <td>0</td>\n",
       "      <td>0</td>\n",
       "      <td>1</td>\n",
       "      <td>0</td>\n",
       "    </tr>\n",
       "    <tr>\n",
       "      <th>2</th>\n",
       "      <td>23</td>\n",
       "      <td>9.25</td>\n",
       "      <td>1</td>\n",
       "      <td>0</td>\n",
       "      <td>0</td>\n",
       "      <td>0</td>\n",
       "      <td>0</td>\n",
       "      <td>0</td>\n",
       "      <td>0</td>\n",
       "      <td>0</td>\n",
       "      <td>0</td>\n",
       "      <td>0</td>\n",
       "      <td>0</td>\n",
       "      <td>0</td>\n",
       "      <td>0</td>\n",
       "      <td>1</td>\n",
       "      <td>0</td>\n",
       "      <td>0</td>\n",
       "      <td>1</td>\n",
       "      <td>0</td>\n",
       "    </tr>\n",
       "    <tr>\n",
       "      <th>3</th>\n",
       "      <td>5</td>\n",
       "      <td>52.86</td>\n",
       "      <td>1</td>\n",
       "      <td>0</td>\n",
       "      <td>0</td>\n",
       "      <td>0</td>\n",
       "      <td>0</td>\n",
       "      <td>0</td>\n",
       "      <td>0</td>\n",
       "      <td>0</td>\n",
       "      <td>0</td>\n",
       "      <td>0</td>\n",
       "      <td>0</td>\n",
       "      <td>0</td>\n",
       "      <td>0</td>\n",
       "      <td>1</td>\n",
       "      <td>0</td>\n",
       "      <td>0</td>\n",
       "      <td>1</td>\n",
       "      <td>0</td>\n",
       "    </tr>\n",
       "    <tr>\n",
       "      <th>4</th>\n",
       "      <td>6</td>\n",
       "      <td>52.86</td>\n",
       "      <td>1</td>\n",
       "      <td>0</td>\n",
       "      <td>0</td>\n",
       "      <td>0</td>\n",
       "      <td>0</td>\n",
       "      <td>0</td>\n",
       "      <td>0</td>\n",
       "      <td>0</td>\n",
       "      <td>0</td>\n",
       "      <td>0</td>\n",
       "      <td>0</td>\n",
       "      <td>0</td>\n",
       "      <td>0</td>\n",
       "      <td>1</td>\n",
       "      <td>0</td>\n",
       "      <td>0</td>\n",
       "      <td>1</td>\n",
       "      <td>0</td>\n",
       "    </tr>\n",
       "  </tbody>\n",
       "</table>\n",
       "</div>"
      ],
      "text/plain": [
       "   CHARGE_COUNT  COMMITMENT_TERM  OFFENSE_CATEGORY_Aggravated Battery  \\\n",
       "0             2             2.00                                    0   \n",
       "1            24             9.25                                    1   \n",
       "2            23             9.25                                    1   \n",
       "3             5            52.86                                    1   \n",
       "4             6            52.86                                    1   \n",
       "\n",
       "   OFFENSE_CATEGORY_DUI  \\\n",
       "0                     0   \n",
       "1                     0   \n",
       "2                     0   \n",
       "3                     0   \n",
       "4                     0   \n",
       "\n",
       "   OFFENSE_CATEGORY_Driving With Suspended Or Revoked License  \\\n",
       "0                                                  0            \n",
       "1                                                  0            \n",
       "2                                                  0            \n",
       "3                                                  0            \n",
       "4                                                  0            \n",
       "\n",
       "   OFFENSE_CATEGORY_Failure to Register as a Sex Offender  \\\n",
       "0                                                  0        \n",
       "1                                                  0        \n",
       "2                                                  0        \n",
       "3                                                  0        \n",
       "4                                                  0        \n",
       "\n",
       "   OFFENSE_CATEGORY_Fleeing or Failure to Return  OFFENSE_CATEGORY_Forgery  \\\n",
       "0                                              0                         0   \n",
       "1                                              0                         0   \n",
       "2                                              0                         0   \n",
       "3                                              0                         0   \n",
       "4                                              0                         0   \n",
       "\n",
       "   OFFENSE_CATEGORY_Homicide  OFFENSE_CATEGORY_Narcotics  \\\n",
       "0                          0                           0   \n",
       "1                          0                           0   \n",
       "2                          0                           0   \n",
       "3                          0                           0   \n",
       "4                          0                           0   \n",
       "\n",
       "   OFFENSE_CATEGORY_Other Offense  OFFENSE_CATEGORY_Sex Crimes  \\\n",
       "0                               0                            0   \n",
       "1                               0                            0   \n",
       "2                               0                            0   \n",
       "3                               0                            0   \n",
       "4                               0                            0   \n",
       "\n",
       "   OFFENSE_CATEGORY_Theft  OFFENSE_CATEGORY_UUW - Unlawful Use of Weapon  \\\n",
       "0                       0                                              1   \n",
       "1                       0                                              0   \n",
       "2                       0                                              0   \n",
       "3                       0                                              0   \n",
       "4                       0                                              0   \n",
       "\n",
       "   CHARGE_DISPOSITION_Dismissed  CHARGE_DISPOSITION_Guilty  \\\n",
       "0                             0                          1   \n",
       "1                             0                          1   \n",
       "2                             0                          1   \n",
       "3                             0                          1   \n",
       "4                             0                          1   \n",
       "\n",
       "   CHARGE_DISPOSITION_Not Guilty  GENDER_Female  GENDER_Male  GENDER_Unknown  \n",
       "0                              0              0            1               0  \n",
       "1                              0              0            1               0  \n",
       "2                              0              0            1               0  \n",
       "3                              0              0            1               0  \n",
       "4                              0              0            1               0  "
      ]
     },
     "execution_count": 44,
     "metadata": {},
     "output_type": "execute_result"
    }
   ],
   "source": [
    "s = pd.get_dummies(s)\n",
    "s.head()"
   ]
  },
  {
   "cell_type": "code",
   "execution_count": 45,
   "metadata": {},
   "outputs": [],
   "source": [
    "# We are calculating 7 clusters because that is how many levels are in the RACE column\n",
    "from kMeans import *\n",
    "centroids, clusters = kMeans(s, 7)"
   ]
  },
  {
   "attachments": {
    "image.png": {
     "image/png": "[encoded data removed]"
    }
   },
   "cell_type": "markdown",
   "metadata": {},
   "source": [
    "#### For the clustering algorithm, we will be using (1 - Cosine Similarity) to calculate the distance. The below is the implementation of the code calculating the distance.\n",
    "\n",
    "![image.png](attachment:image.png)"
   ]
  },
  {
   "cell_type": "code",
   "execution_count": 46,
   "metadata": {},
   "outputs": [
    {
     "data": {
      "text/html": [
       "<div>\n",
       "<style scoped>\n",
       "    .dataframe tbody tr th:only-of-type {\n",
       "        vertical-align: middle;\n",
       "    }\n",
       "\n",
       "    .dataframe tbody tr th {\n",
       "        vertical-align: top;\n",
       "    }\n",
       "\n",
       "    .dataframe thead th {\n",
       "        text-align: right;\n",
       "    }\n",
       "</style>\n",
       "<table border=\"1\" class=\"dataframe\">\n",
       "  <thead>\n",
       "    <tr style=\"text-align: right;\">\n",
       "      <th></th>\n",
       "      <th>unique_values</th>\n",
       "      <th>counts</th>\n",
       "    </tr>\n",
       "  </thead>\n",
       "  <tbody>\n",
       "    <tr>\n",
       "      <th>0</th>\n",
       "      <td>0.0</td>\n",
       "      <td>76399</td>\n",
       "    </tr>\n",
       "    <tr>\n",
       "      <th>1</th>\n",
       "      <td>2.0</td>\n",
       "      <td>33663</td>\n",
       "    </tr>\n",
       "    <tr>\n",
       "      <th>2</th>\n",
       "      <td>4.0</td>\n",
       "      <td>32463</td>\n",
       "    </tr>\n",
       "    <tr>\n",
       "      <th>3</th>\n",
       "      <td>1.0</td>\n",
       "      <td>19580</td>\n",
       "    </tr>\n",
       "    <tr>\n",
       "      <th>4</th>\n",
       "      <td>3.0</td>\n",
       "      <td>16726</td>\n",
       "    </tr>\n",
       "    <tr>\n",
       "      <th>5</th>\n",
       "      <td>5.0</td>\n",
       "      <td>10820</td>\n",
       "    </tr>\n",
       "    <tr>\n",
       "      <th>6</th>\n",
       "      <td>6.0</td>\n",
       "      <td>9695</td>\n",
       "    </tr>\n",
       "  </tbody>\n",
       "</table>\n",
       "</div>"
      ],
      "text/plain": [
       "   unique_values  counts\n",
       "0            0.0   76399\n",
       "1            2.0   33663\n",
       "2            4.0   32463\n",
       "3            1.0   19580\n",
       "4            3.0   16726\n",
       "5            5.0   10820\n",
       "6            6.0    9695"
      ]
     },
     "execution_count": 46,
     "metadata": {},
     "output_type": "execute_result"
    }
   ],
   "source": [
    "clus = pd.DataFrame(clusters, columns = ['cluster','col'])\n",
    "cluster_df = clus.cluster.value_counts().rename_axis('unique_values').reset_index(name='counts')\n",
    "cluster_df"
   ]
  },
  {
   "cell_type": "code",
   "execution_count": 47,
   "metadata": {},
   "outputs": [
    {
     "data": {
      "text/html": [
       "<div>\n",
       "<style scoped>\n",
       "    .dataframe tbody tr th:only-of-type {\n",
       "        vertical-align: middle;\n",
       "    }\n",
       "\n",
       "    .dataframe tbody tr th {\n",
       "        vertical-align: top;\n",
       "    }\n",
       "\n",
       "    .dataframe thead th {\n",
       "        text-align: right;\n",
       "    }\n",
       "</style>\n",
       "<table border=\"1\" class=\"dataframe\">\n",
       "  <thead>\n",
       "    <tr style=\"text-align: right;\">\n",
       "      <th></th>\n",
       "      <th>0</th>\n",
       "      <th>1</th>\n",
       "      <th>2</th>\n",
       "      <th>3</th>\n",
       "      <th>4</th>\n",
       "      <th>5</th>\n",
       "      <th>6</th>\n",
       "    </tr>\n",
       "  </thead>\n",
       "  <tbody>\n",
       "    <tr>\n",
       "      <th>CHARGE_COUNT</th>\n",
       "      <td>1.06</td>\n",
       "      <td>1.13</td>\n",
       "      <td>1.22</td>\n",
       "      <td>4.16</td>\n",
       "      <td>1.50</td>\n",
       "      <td>8.95</td>\n",
       "      <td>1.95</td>\n",
       "    </tr>\n",
       "    <tr>\n",
       "      <th>COMMITMENT_TERM</th>\n",
       "      <td>2.07</td>\n",
       "      <td>1.84</td>\n",
       "      <td>1.06</td>\n",
       "      <td>3.42</td>\n",
       "      <td>5.20</td>\n",
       "      <td>1.97</td>\n",
       "      <td>20.28</td>\n",
       "    </tr>\n",
       "    <tr>\n",
       "      <th>OFFENSE_CATEGORY_Aggravated Battery</th>\n",
       "      <td>0.04</td>\n",
       "      <td>0.08</td>\n",
       "      <td>0.03</td>\n",
       "      <td>0.16</td>\n",
       "      <td>0.08</td>\n",
       "      <td>0.16</td>\n",
       "      <td>0.05</td>\n",
       "    </tr>\n",
       "    <tr>\n",
       "      <th>OFFENSE_CATEGORY_DUI</th>\n",
       "      <td>0.11</td>\n",
       "      <td>0.09</td>\n",
       "      <td>0.08</td>\n",
       "      <td>0.11</td>\n",
       "      <td>0.05</td>\n",
       "      <td>0.14</td>\n",
       "      <td>0.02</td>\n",
       "    </tr>\n",
       "    <tr>\n",
       "      <th>OFFENSE_CATEGORY_Driving With Suspended Or Revoked License</th>\n",
       "      <td>0.05</td>\n",
       "      <td>0.03</td>\n",
       "      <td>0.11</td>\n",
       "      <td>0.04</td>\n",
       "      <td>0.01</td>\n",
       "      <td>0.04</td>\n",
       "      <td>0.00</td>\n",
       "    </tr>\n",
       "    <tr>\n",
       "      <th>OFFENSE_CATEGORY_Failure to Register as a Sex Offender</th>\n",
       "      <td>0.02</td>\n",
       "      <td>0.00</td>\n",
       "      <td>0.00</td>\n",
       "      <td>0.00</td>\n",
       "      <td>0.03</td>\n",
       "      <td>0.00</td>\n",
       "      <td>0.00</td>\n",
       "    </tr>\n",
       "    <tr>\n",
       "      <th>OFFENSE_CATEGORY_Fleeing or Failure to Return</th>\n",
       "      <td>0.04</td>\n",
       "      <td>0.03</td>\n",
       "      <td>0.02</td>\n",
       "      <td>0.03</td>\n",
       "      <td>0.01</td>\n",
       "      <td>0.01</td>\n",
       "      <td>0.00</td>\n",
       "    </tr>\n",
       "    <tr>\n",
       "      <th>OFFENSE_CATEGORY_Forgery</th>\n",
       "      <td>0.01</td>\n",
       "      <td>0.05</td>\n",
       "      <td>0.00</td>\n",
       "      <td>0.02</td>\n",
       "      <td>0.01</td>\n",
       "      <td>0.02</td>\n",
       "      <td>0.00</td>\n",
       "    </tr>\n",
       "    <tr>\n",
       "      <th>OFFENSE_CATEGORY_Homicide</th>\n",
       "      <td>0.00</td>\n",
       "      <td>0.00</td>\n",
       "      <td>0.00</td>\n",
       "      <td>0.02</td>\n",
       "      <td>0.01</td>\n",
       "      <td>0.03</td>\n",
       "      <td>0.17</td>\n",
       "    </tr>\n",
       "    <tr>\n",
       "      <th>OFFENSE_CATEGORY_Narcotics</th>\n",
       "      <td>0.31</td>\n",
       "      <td>0.33</td>\n",
       "      <td>0.56</td>\n",
       "      <td>0.18</td>\n",
       "      <td>0.23</td>\n",
       "      <td>0.10</td>\n",
       "      <td>0.09</td>\n",
       "    </tr>\n",
       "    <tr>\n",
       "      <th>OFFENSE_CATEGORY_Other Offense</th>\n",
       "      <td>0.02</td>\n",
       "      <td>0.03</td>\n",
       "      <td>0.03</td>\n",
       "      <td>0.03</td>\n",
       "      <td>0.01</td>\n",
       "      <td>0.02</td>\n",
       "      <td>0.02</td>\n",
       "    </tr>\n",
       "    <tr>\n",
       "      <th>OFFENSE_CATEGORY_Sex Crimes</th>\n",
       "      <td>0.01</td>\n",
       "      <td>0.00</td>\n",
       "      <td>0.00</td>\n",
       "      <td>0.06</td>\n",
       "      <td>0.04</td>\n",
       "      <td>0.07</td>\n",
       "      <td>0.10</td>\n",
       "    </tr>\n",
       "    <tr>\n",
       "      <th>OFFENSE_CATEGORY_Theft</th>\n",
       "      <td>0.33</td>\n",
       "      <td>0.34</td>\n",
       "      <td>0.05</td>\n",
       "      <td>0.09</td>\n",
       "      <td>0.31</td>\n",
       "      <td>0.07</td>\n",
       "      <td>0.48</td>\n",
       "    </tr>\n",
       "    <tr>\n",
       "      <th>OFFENSE_CATEGORY_UUW - Unlawful Use of Weapon</th>\n",
       "      <td>0.06</td>\n",
       "      <td>0.02</td>\n",
       "      <td>0.12</td>\n",
       "      <td>0.28</td>\n",
       "      <td>0.22</td>\n",
       "      <td>0.33</td>\n",
       "      <td>0.06</td>\n",
       "    </tr>\n",
       "    <tr>\n",
       "      <th>CHARGE_DISPOSITION_Dismissed</th>\n",
       "      <td>0.00</td>\n",
       "      <td>0.01</td>\n",
       "      <td>0.00</td>\n",
       "      <td>0.01</td>\n",
       "      <td>0.00</td>\n",
       "      <td>0.01</td>\n",
       "      <td>0.00</td>\n",
       "    </tr>\n",
       "    <tr>\n",
       "      <th>CHARGE_DISPOSITION_Guilty</th>\n",
       "      <td>1.00</td>\n",
       "      <td>0.99</td>\n",
       "      <td>1.00</td>\n",
       "      <td>0.99</td>\n",
       "      <td>1.00</td>\n",
       "      <td>0.99</td>\n",
       "      <td>0.99</td>\n",
       "    </tr>\n",
       "    <tr>\n",
       "      <th>CHARGE_DISPOSITION_Not Guilty</th>\n",
       "      <td>0.00</td>\n",
       "      <td>0.00</td>\n",
       "      <td>0.00</td>\n",
       "      <td>0.00</td>\n",
       "      <td>0.00</td>\n",
       "      <td>0.00</td>\n",
       "      <td>0.01</td>\n",
       "    </tr>\n",
       "    <tr>\n",
       "      <th>GENDER_Female</th>\n",
       "      <td>0.00</td>\n",
       "      <td>1.00</td>\n",
       "      <td>0.00</td>\n",
       "      <td>0.08</td>\n",
       "      <td>0.02</td>\n",
       "      <td>0.11</td>\n",
       "      <td>0.06</td>\n",
       "    </tr>\n",
       "    <tr>\n",
       "      <th>GENDER_Male</th>\n",
       "      <td>1.00</td>\n",
       "      <td>0.00</td>\n",
       "      <td>1.00</td>\n",
       "      <td>0.92</td>\n",
       "      <td>0.98</td>\n",
       "      <td>0.89</td>\n",
       "      <td>0.94</td>\n",
       "    </tr>\n",
       "    <tr>\n",
       "      <th>GENDER_Unknown</th>\n",
       "      <td>0.00</td>\n",
       "      <td>0.00</td>\n",
       "      <td>0.00</td>\n",
       "      <td>0.00</td>\n",
       "      <td>0.00</td>\n",
       "      <td>0.00</td>\n",
       "      <td>0.00</td>\n",
       "    </tr>\n",
       "  </tbody>\n",
       "</table>\n",
       "</div>"
      ],
      "text/plain": [
       "                                                      0    1    2    3    4  \\\n",
       "CHARGE_COUNT                                       1.06 1.13 1.22 4.16 1.50   \n",
       "COMMITMENT_TERM                                    2.07 1.84 1.06 3.42 5.20   \n",
       "OFFENSE_CATEGORY_Aggravated Battery                0.04 0.08 0.03 0.16 0.08   \n",
       "OFFENSE_CATEGORY_DUI                               0.11 0.09 0.08 0.11 0.05   \n",
       "OFFENSE_CATEGORY_Driving With Suspended Or Revo... 0.05 0.03 0.11 0.04 0.01   \n",
       "OFFENSE_CATEGORY_Failure to Register as a Sex O... 0.02 0.00 0.00 0.00 0.03   \n",
       "OFFENSE_CATEGORY_Fleeing or Failure to Return      0.04 0.03 0.02 0.03 0.01   \n",
       "OFFENSE_CATEGORY_Forgery                           0.01 0.05 0.00 0.02 0.01   \n",
       "OFFENSE_CATEGORY_Homicide                          0.00 0.00 0.00 0.02 0.01   \n",
       "OFFENSE_CATEGORY_Narcotics                         0.31 0.33 0.56 0.18 0.23   \n",
       "OFFENSE_CATEGORY_Other Offense                     0.02 0.03 0.03 0.03 0.01   \n",
       "OFFENSE_CATEGORY_Sex Crimes                        0.01 0.00 0.00 0.06 0.04   \n",
       "OFFENSE_CATEGORY_Theft                             0.33 0.34 0.05 0.09 0.31   \n",
       "OFFENSE_CATEGORY_UUW - Unlawful Use of Weapon      0.06 0.02 0.12 0.28 0.22   \n",
       "CHARGE_DISPOSITION_Dismissed                       0.00 0.01 0.00 0.01 0.00   \n",
       "CHARGE_DISPOSITION_Guilty                          1.00 0.99 1.00 0.99 1.00   \n",
       "CHARGE_DISPOSITION_Not Guilty                      0.00 0.00 0.00 0.00 0.00   \n",
       "GENDER_Female                                      0.00 1.00 0.00 0.08 0.02   \n",
       "GENDER_Male                                        1.00 0.00 1.00 0.92 0.98   \n",
       "GENDER_Unknown                                     0.00 0.00 0.00 0.00 0.00   \n",
       "\n",
       "                                                      5     6  \n",
       "CHARGE_COUNT                                       8.95  1.95  \n",
       "COMMITMENT_TERM                                    1.97 20.28  \n",
       "OFFENSE_CATEGORY_Aggravated Battery                0.16  0.05  \n",
       "OFFENSE_CATEGORY_DUI                               0.14  0.02  \n",
       "OFFENSE_CATEGORY_Driving With Suspended Or Revo... 0.04  0.00  \n",
       "OFFENSE_CATEGORY_Failure to Register as a Sex O... 0.00  0.00  \n",
       "OFFENSE_CATEGORY_Fleeing or Failure to Return      0.01  0.00  \n",
       "OFFENSE_CATEGORY_Forgery                           0.02  0.00  \n",
       "OFFENSE_CATEGORY_Homicide                          0.03  0.17  \n",
       "OFFENSE_CATEGORY_Narcotics                         0.10  0.09  \n",
       "OFFENSE_CATEGORY_Other Offense                     0.02  0.02  \n",
       "OFFENSE_CATEGORY_Sex Crimes                        0.07  0.10  \n",
       "OFFENSE_CATEGORY_Theft                             0.07  0.48  \n",
       "OFFENSE_CATEGORY_UUW - Unlawful Use of Weapon      0.33  0.06  \n",
       "CHARGE_DISPOSITION_Dismissed                       0.01  0.00  \n",
       "CHARGE_DISPOSITION_Guilty                          0.99  0.99  \n",
       "CHARGE_DISPOSITION_Not Guilty                      0.00  0.01  \n",
       "GENDER_Female                                      0.11  0.06  \n",
       "GENDER_Male                                        0.89  0.94  \n",
       "GENDER_Unknown                                     0.00  0.00  "
      ]
     },
     "execution_count": 47,
     "metadata": {},
     "output_type": "execute_result"
    }
   ],
   "source": [
    "pd.options.display.float_format='{:,.2f}'.format\n",
    "\n",
    "raw_centroids = pd.DataFrame(centroids,columns = s.columns)\n",
    "raw_centroids.T"
   ]
  },
  {
   "cell_type": "code",
   "execution_count": 48,
   "metadata": {},
   "outputs": [
    {
     "data": {
      "text/plain": [
       "Text(0.5, 1.0, 'Histogram of Race Breakdown')"
      ]
     },
     "execution_count": 48,
     "metadata": {},
     "output_type": "execute_result"
    },
    {
     "data": {
      "image/png": "[encoded data removed]",
      "text/plain": [
       "<Figure size 432x288 with 1 Axes>"
      ]
     },
     "metadata": {
      "needs_background": "light"
     },
     "output_type": "display_data"
    }
   ],
   "source": [
    "plt.hist(x = target2 ,color= '#0504aa', alpha=0.5, rwidth=0.85)\n",
    "plt.xticks(rotation=45, ha = 'right')\n",
    "plt.xlabel('Race')\n",
    "plt.ylabel('Count')\n",
    "plt.title('Histogram of Race Breakdown')"
   ]
  },
  {
   "cell_type": "code",
   "execution_count": 49,
   "metadata": {},
   "outputs": [
    {
     "data": {
      "image/png": "[encoded data removed]",
      "text/plain": [
       "<Figure size 432x288 with 1 Axes>"
      ]
     },
     "metadata": {
      "needs_background": "light"
     },
     "output_type": "display_data"
    }
   ],
   "source": [
    "# With a basic eye test on the label distribution compared to the cluster\n",
    "fig = plt.figure()\n",
    "ax = fig.add_axes([0,0,1,1])\n",
    "ax.bar(cluster_df.unique_values, cluster_df.counts)\n",
    "plt.xlabel('Cluster')\n",
    "plt.ylabel('Counts')\n",
    "plt.title('Cluster versus Counts')\n",
    "plt.show()"
   ]
  },
  {
   "cell_type": "markdown",
   "metadata": {},
   "source": [
    "#### The distribution of the clusters is visibly inaccurate because there are items forced into clusters for which there were less than 0.1% of those items in the population. Now we can look at the breakdown of each of the clusters to see how the data was classified."
   ]
  },
  {
   "cell_type": "code",
   "execution_count": 50,
   "metadata": {},
   "outputs": [],
   "source": [
    "def cluster_receipt(cluster, idfData, n):\n",
    "    size = {}\n",
    "    #clus\n",
    "    cluster_labels = np.unique(cluster['cluster'])\n",
    "\n",
    "    for c in cluster_labels:\n",
    "        size[c] = len(cluster[cluster['cluster']== c])\n",
    "    #n\n",
    "    for i in size.keys():\n",
    "        cluster_rep = size[i]\n",
    "        #td_tfidf\n",
    "        sample = idfData[idfData['Cluster'] == i]\n",
    "        print(\"\\nCluster\", i, \"size = \", size[i])\n",
    "        print(\"-----------------------------------------\")\n",
    "        #head['Terms'] = sam[:n].index\n",
    "        sam = sample.iloc[:,:-1].astype(bool).sum(axis = 0).sort_values(ascending = False)\n",
    "        head = sam\n",
    "        perDocs = (head/size[i]) * 100\n",
    "        freq = raw_centroids.T[i]\n",
    "        head = pd.concat([head, freq, perDocs], axis = 1)\n",
    "        head.columns = [\"DF\",\"FREQ\",\"Per of Docs\"]\n",
    "        val = head.sort_values(by = \"DF\", ascending = False).iloc[:,:n]\n",
    "        print(val.iloc[:n])\n",
    "    return"
   ]
  },
  {
   "cell_type": "code",
   "execution_count": 51,
   "metadata": {},
   "outputs": [
    {
     "name": "stdout",
     "output_type": "stream",
     "text": [
      "\n",
      "Cluster 0.0 size =  76399\n",
      "-----------------------------------------\n",
      "                                                  DF  FREQ  Per of Docs\n",
      "CHARGE_COUNT                                   76399  1.06       100.00\n",
      "COMMITMENT_TERM                                76399  2.07       100.00\n",
      "GENDER_Male                                    76398  1.00       100.00\n",
      "CHARGE_DISPOSITION_Guilty                      76099  1.00        99.61\n",
      "OFFENSE_CATEGORY_Theft                         25581  0.33        33.48\n",
      "OFFENSE_CATEGORY_Narcotics                     23904  0.31        31.29\n",
      "OFFENSE_CATEGORY_DUI                            8622  0.11        11.29\n",
      "OFFENSE_CATEGORY_UUW - Unlawful Use of Weapon   4314  0.06         5.65\n",
      "\n",
      "Cluster 1.0 size =  19580\n",
      "-----------------------------------------\n",
      "                                        DF  FREQ  Per of Docs\n",
      "CHARGE_COUNT                         19580  1.13       100.00\n",
      "GENDER_Female                        19580  1.00       100.00\n",
      "COMMITMENT_TERM                      19543  1.84        99.81\n",
      "CHARGE_DISPOSITION_Guilty            19409  0.99        99.13\n",
      "OFFENSE_CATEGORY_Theft                6665  0.34        34.04\n",
      "OFFENSE_CATEGORY_Narcotics            6550  0.33        33.45\n",
      "OFFENSE_CATEGORY_DUI                  1674  0.09         8.55\n",
      "OFFENSE_CATEGORY_Aggravated Battery   1625  0.08         8.30\n",
      "\n",
      "Cluster 2.0 size =  33663\n",
      "-----------------------------------------\n",
      "                                                       DF  FREQ  Per of Docs\n",
      "CHARGE_COUNT                                        33663  1.22       100.00\n",
      "GENDER_Male                                         33661  1.00        99.99\n",
      "CHARGE_DISPOSITION_Guilty                           33635  1.00        99.92\n",
      "COMMITMENT_TERM                                     33454  1.06        99.38\n",
      "OFFENSE_CATEGORY_Narcotics                          18806  0.56        55.87\n",
      "OFFENSE_CATEGORY_UUW - Unlawful Use of Weapon        3874  0.12        11.51\n",
      "OFFENSE_CATEGORY_Driving With Suspended Or Revo...   3773  0.11        11.21\n",
      "OFFENSE_CATEGORY_DUI                                 2650  0.08         7.87\n",
      "\n",
      "Cluster 3.0 size =  16726\n",
      "-----------------------------------------\n",
      "                                                  DF  FREQ  Per of Docs\n",
      "CHARGE_COUNT                                   16726  4.16       100.00\n",
      "COMMITMENT_TERM                                16726  3.42       100.00\n",
      "CHARGE_DISPOSITION_Guilty                      16573  0.99        99.09\n",
      "GENDER_Male                                    15448  0.92        92.36\n",
      "OFFENSE_CATEGORY_UUW - Unlawful Use of Weapon   4692  0.28        28.05\n",
      "OFFENSE_CATEGORY_Narcotics                      3005  0.18        17.97\n",
      "OFFENSE_CATEGORY_Aggravated Battery             2598  0.16        15.53\n",
      "OFFENSE_CATEGORY_DUI                            1812  0.11        10.83\n",
      "\n",
      "Cluster 4.0 size =  32463\n",
      "-----------------------------------------\n",
      "                                                  DF  FREQ  Per of Docs\n",
      "CHARGE_COUNT                                   32463  1.50       100.00\n",
      "COMMITMENT_TERM                                32463  5.20       100.00\n",
      "CHARGE_DISPOSITION_Guilty                      32342  1.00        99.63\n",
      "GENDER_Male                                    31677  0.98        97.58\n",
      "OFFENSE_CATEGORY_Theft                         10014  0.31        30.85\n",
      "OFFENSE_CATEGORY_Narcotics                      7540  0.23        23.23\n",
      "OFFENSE_CATEGORY_UUW - Unlawful Use of Weapon   7054  0.22        21.73\n",
      "OFFENSE_CATEGORY_Aggravated Battery             2542  0.08         7.83\n",
      "\n",
      "Cluster 5.0 size =  10820\n",
      "-----------------------------------------\n",
      "                                                  DF  FREQ  Per of Docs\n",
      "CHARGE_COUNT                                   10820  8.95       100.00\n",
      "CHARGE_DISPOSITION_Guilty                      10726  0.99        99.13\n",
      "COMMITMENT_TERM                                10525  1.97        97.27\n",
      "GENDER_Male                                     9624  0.89        88.95\n",
      "OFFENSE_CATEGORY_UUW - Unlawful Use of Weapon   3583  0.33        33.11\n",
      "OFFENSE_CATEGORY_Aggravated Battery             1696  0.16        15.67\n",
      "OFFENSE_CATEGORY_DUI                            1547  0.14        14.30\n",
      "GENDER_Female                                   1196  0.11        11.05\n",
      "\n",
      "Cluster 6.0 size =  9695\n",
      "-----------------------------------------\n",
      "                               DF  FREQ  Per of Docs\n",
      "CHARGE_COUNT                 9695  1.95       100.00\n",
      "COMMITMENT_TERM              9695 20.28       100.00\n",
      "CHARGE_DISPOSITION_Guilty    9578  0.99        98.79\n",
      "GENDER_Male                  9110  0.94        93.97\n",
      "OFFENSE_CATEGORY_Theft       4697  0.48        48.45\n",
      "OFFENSE_CATEGORY_Homicide    1606  0.17        16.57\n",
      "OFFENSE_CATEGORY_Sex Crimes   972  0.10        10.03\n",
      "OFFENSE_CATEGORY_Narcotics    890  0.09         9.18\n"
     ]
    }
   ],
   "source": [
    "s['Cluster'] = clus['cluster']\n",
    "cluster_receipt(clus, s, 8)"
   ]
  },
  {
   "cell_type": "code",
   "execution_count": 52,
   "metadata": {},
   "outputs": [
    {
     "data": {
      "text/plain": [
       "0         3\n",
       "1         5\n",
       "2         5\n",
       "3         6\n",
       "4         6\n",
       "         ..\n",
       "199341    0\n",
       "199342    0\n",
       "199343    4\n",
       "199344    4\n",
       "199345    4\n",
       "Name: cluster, Length: 199346, dtype: int64"
      ]
     },
     "execution_count": 52,
     "metadata": {},
     "output_type": "execute_result"
    }
   ],
   "source": [
    "newC = clus[\"cluster\"].astype(int)\n",
    "newC"
   ]
  },
  {
   "cell_type": "code",
   "execution_count": 53,
   "metadata": {},
   "outputs": [
    {
     "name": "stdout",
     "output_type": "stream",
     "text": [
      "The Completeness Score is 0.005141614269385242 \n",
      "\n",
      "The Homogeneity Score is 0.009727307751501187 \n",
      "\n"
     ]
    }
   ],
   "source": [
    "from sklearn.metrics import completeness_score, homogeneity_score\n",
    "cs = completeness_score(target2, newC)\n",
    "print('The Completeness Score is', cs,'\\n')\n",
    "hs = homogeneity_score(target2, newC)\n",
    "print('The Homogeneity Score is', hs, '\\n')"
   ]
  },
  {
   "cell_type": "markdown",
   "metadata": {},
   "source": [
    "#### Based on the above we can see that clustering does not enable us to sort out the RACE of an individual being sentenced. The completeness score, which calculates whether all members of a give class are assigned to the same cluster, shows that the clustering method did not accurately classify the Race. Next, the homogeneity score, which measures each cluster contrains only members of a single class, shows that the levels with in RACE were scattered across multiple cluster. This makes sense because when we saw the initial distribution of the label data, a few of the categories only represented less than 0.1% of the population, however, the clustering algorithm calculated significant values for the smaller labels."
   ]
  },
  {
   "cell_type": "code",
   "execution_count": 54,
   "metadata": {},
   "outputs": [
    {
     "data": {
      "text/html": [
       "<div>\n",
       "<style scoped>\n",
       "    .dataframe tbody tr th:only-of-type {\n",
       "        vertical-align: middle;\n",
       "    }\n",
       "\n",
       "    .dataframe tbody tr th {\n",
       "        vertical-align: top;\n",
       "    }\n",
       "\n",
       "    .dataframe thead th {\n",
       "        text-align: right;\n",
       "    }\n",
       "</style>\n",
       "<table border=\"1\" class=\"dataframe\">\n",
       "  <thead>\n",
       "    <tr style=\"text-align: right;\">\n",
       "      <th></th>\n",
       "      <th>CHARGE_COUNT</th>\n",
       "      <th>COMMITMENT_TERM</th>\n",
       "      <th>OFFENSE_CATEGORY_Aggravated Battery</th>\n",
       "      <th>OFFENSE_CATEGORY_DUI</th>\n",
       "      <th>OFFENSE_CATEGORY_Driving With Suspended Or Revoked License</th>\n",
       "      <th>OFFENSE_CATEGORY_Failure to Register as a Sex Offender</th>\n",
       "      <th>OFFENSE_CATEGORY_Fleeing or Failure to Return</th>\n",
       "      <th>OFFENSE_CATEGORY_Forgery</th>\n",
       "      <th>OFFENSE_CATEGORY_Homicide</th>\n",
       "      <th>OFFENSE_CATEGORY_Narcotics</th>\n",
       "      <th>OFFENSE_CATEGORY_Other Offense</th>\n",
       "      <th>OFFENSE_CATEGORY_Sex Crimes</th>\n",
       "      <th>OFFENSE_CATEGORY_Theft</th>\n",
       "      <th>OFFENSE_CATEGORY_UUW - Unlawful Use of Weapon</th>\n",
       "      <th>CHARGE_DISPOSITION_Dismissed</th>\n",
       "      <th>CHARGE_DISPOSITION_Guilty</th>\n",
       "      <th>CHARGE_DISPOSITION_Not Guilty</th>\n",
       "      <th>GENDER_Female</th>\n",
       "      <th>GENDER_Male</th>\n",
       "      <th>GENDER_Unknown</th>\n",
       "    </tr>\n",
       "  </thead>\n",
       "  <tbody>\n",
       "    <tr>\n",
       "      <th>0</th>\n",
       "      <td>2</td>\n",
       "      <td>2.00</td>\n",
       "      <td>0</td>\n",
       "      <td>0</td>\n",
       "      <td>0</td>\n",
       "      <td>0</td>\n",
       "      <td>0</td>\n",
       "      <td>0</td>\n",
       "      <td>0</td>\n",
       "      <td>0</td>\n",
       "      <td>0</td>\n",
       "      <td>0</td>\n",
       "      <td>0</td>\n",
       "      <td>1</td>\n",
       "      <td>0</td>\n",
       "      <td>1</td>\n",
       "      <td>0</td>\n",
       "      <td>0</td>\n",
       "      <td>1</td>\n",
       "      <td>0</td>\n",
       "    </tr>\n",
       "    <tr>\n",
       "      <th>1</th>\n",
       "      <td>24</td>\n",
       "      <td>9.25</td>\n",
       "      <td>1</td>\n",
       "      <td>0</td>\n",
       "      <td>0</td>\n",
       "      <td>0</td>\n",
       "      <td>0</td>\n",
       "      <td>0</td>\n",
       "      <td>0</td>\n",
       "      <td>0</td>\n",
       "      <td>0</td>\n",
       "      <td>0</td>\n",
       "      <td>0</td>\n",
       "      <td>0</td>\n",
       "      <td>0</td>\n",
       "      <td>1</td>\n",
       "      <td>0</td>\n",
       "      <td>0</td>\n",
       "      <td>1</td>\n",
       "      <td>0</td>\n",
       "    </tr>\n",
       "    <tr>\n",
       "      <th>2</th>\n",
       "      <td>23</td>\n",
       "      <td>9.25</td>\n",
       "      <td>1</td>\n",
       "      <td>0</td>\n",
       "      <td>0</td>\n",
       "      <td>0</td>\n",
       "      <td>0</td>\n",
       "      <td>0</td>\n",
       "      <td>0</td>\n",
       "      <td>0</td>\n",
       "      <td>0</td>\n",
       "      <td>0</td>\n",
       "      <td>0</td>\n",
       "      <td>0</td>\n",
       "      <td>0</td>\n",
       "      <td>1</td>\n",
       "      <td>0</td>\n",
       "      <td>0</td>\n",
       "      <td>1</td>\n",
       "      <td>0</td>\n",
       "    </tr>\n",
       "    <tr>\n",
       "      <th>3</th>\n",
       "      <td>5</td>\n",
       "      <td>52.86</td>\n",
       "      <td>1</td>\n",
       "      <td>0</td>\n",
       "      <td>0</td>\n",
       "      <td>0</td>\n",
       "      <td>0</td>\n",
       "      <td>0</td>\n",
       "      <td>0</td>\n",
       "      <td>0</td>\n",
       "      <td>0</td>\n",
       "      <td>0</td>\n",
       "      <td>0</td>\n",
       "      <td>0</td>\n",
       "      <td>0</td>\n",
       "      <td>1</td>\n",
       "      <td>0</td>\n",
       "      <td>0</td>\n",
       "      <td>1</td>\n",
       "      <td>0</td>\n",
       "    </tr>\n",
       "    <tr>\n",
       "      <th>4</th>\n",
       "      <td>6</td>\n",
       "      <td>52.86</td>\n",
       "      <td>1</td>\n",
       "      <td>0</td>\n",
       "      <td>0</td>\n",
       "      <td>0</td>\n",
       "      <td>0</td>\n",
       "      <td>0</td>\n",
       "      <td>0</td>\n",
       "      <td>0</td>\n",
       "      <td>0</td>\n",
       "      <td>0</td>\n",
       "      <td>0</td>\n",
       "      <td>0</td>\n",
       "      <td>0</td>\n",
       "      <td>1</td>\n",
       "      <td>0</td>\n",
       "      <td>0</td>\n",
       "      <td>1</td>\n",
       "      <td>0</td>\n",
       "    </tr>\n",
       "  </tbody>\n",
       "</table>\n",
       "</div>"
      ],
      "text/plain": [
       "   CHARGE_COUNT  COMMITMENT_TERM  OFFENSE_CATEGORY_Aggravated Battery  \\\n",
       "0             2             2.00                                    0   \n",
       "1            24             9.25                                    1   \n",
       "2            23             9.25                                    1   \n",
       "3             5            52.86                                    1   \n",
       "4             6            52.86                                    1   \n",
       "\n",
       "   OFFENSE_CATEGORY_DUI  \\\n",
       "0                     0   \n",
       "1                     0   \n",
       "2                     0   \n",
       "3                     0   \n",
       "4                     0   \n",
       "\n",
       "   OFFENSE_CATEGORY_Driving With Suspended Or Revoked License  \\\n",
       "0                                                  0            \n",
       "1                                                  0            \n",
       "2                                                  0            \n",
       "3                                                  0            \n",
       "4                                                  0            \n",
       "\n",
       "   OFFENSE_CATEGORY_Failure to Register as a Sex Offender  \\\n",
       "0                                                  0        \n",
       "1                                                  0        \n",
       "2                                                  0        \n",
       "3                                                  0        \n",
       "4                                                  0        \n",
       "\n",
       "   OFFENSE_CATEGORY_Fleeing or Failure to Return  OFFENSE_CATEGORY_Forgery  \\\n",
       "0                                              0                         0   \n",
       "1                                              0                         0   \n",
       "2                                              0                         0   \n",
       "3                                              0                         0   \n",
       "4                                              0                         0   \n",
       "\n",
       "   OFFENSE_CATEGORY_Homicide  OFFENSE_CATEGORY_Narcotics  \\\n",
       "0                          0                           0   \n",
       "1                          0                           0   \n",
       "2                          0                           0   \n",
       "3                          0                           0   \n",
       "4                          0                           0   \n",
       "\n",
       "   OFFENSE_CATEGORY_Other Offense  OFFENSE_CATEGORY_Sex Crimes  \\\n",
       "0                               0                            0   \n",
       "1                               0                            0   \n",
       "2                               0                            0   \n",
       "3                               0                            0   \n",
       "4                               0                            0   \n",
       "\n",
       "   OFFENSE_CATEGORY_Theft  OFFENSE_CATEGORY_UUW - Unlawful Use of Weapon  \\\n",
       "0                       0                                              1   \n",
       "1                       0                                              0   \n",
       "2                       0                                              0   \n",
       "3                       0                                              0   \n",
       "4                       0                                              0   \n",
       "\n",
       "   CHARGE_DISPOSITION_Dismissed  CHARGE_DISPOSITION_Guilty  \\\n",
       "0                             0                          1   \n",
       "1                             0                          1   \n",
       "2                             0                          1   \n",
       "3                             0                          1   \n",
       "4                             0                          1   \n",
       "\n",
       "   CHARGE_DISPOSITION_Not Guilty  GENDER_Female  GENDER_Male  GENDER_Unknown  \n",
       "0                              0              0            1               0  \n",
       "1                              0              0            1               0  \n",
       "2                              0              0            1               0  \n",
       "3                              0              0            1               0  \n",
       "4                              0              0            1               0  "
      ]
     },
     "execution_count": 54,
     "metadata": {},
     "output_type": "execute_result"
    }
   ],
   "source": [
    "#Same subset of the data except we changed the target variable to Race instead of Commitment Term\n",
    "sentence2 = sen.loc[:,['OFFENSE_CATEGORY','CHARGE_DISPOSITION','CHARGE_COUNT',\n",
    "                       'RACE', 'GENDER', 'COMMITMENT_TERM']]\n",
    "target2 = sentence2['RACE']\n",
    "s = sentence2.drop('RACE', axis = 1)\n",
    "s = pd.get_dummies(s)\n",
    "s.head()"
   ]
  },
  {
   "cell_type": "code",
   "execution_count": 55,
   "metadata": {},
   "outputs": [],
   "source": [
    "#Retrying the clustering algorithm but using the function from the SKLEARN module\n",
    "from sklearn.cluster import KMeans"
   ]
  },
  {
   "cell_type": "code",
   "execution_count": 56,
   "metadata": {},
   "outputs": [
    {
     "name": "stdout",
     "output_type": "stream",
     "text": [
      "Initialization complete\n",
      "start iteration\n",
      "done sorting\n",
      "end inner loop\n",
      "Iteration 0, inertia 2711004.319803083\n",
      "start iteration\n",
      "done sorting\n",
      "end inner loop\n",
      "Iteration 1, inertia 2654852.5261021717\n",
      "start iteration\n",
      "done sorting\n",
      "end inner loop\n",
      "Iteration 2, inertia 2645375.117968533\n",
      "start iteration\n",
      "done sorting\n",
      "end inner loop\n",
      "Iteration 3, inertia 2639940.798090273\n",
      "start iteration\n",
      "done sorting\n",
      "end inner loop\n",
      "Iteration 4, inertia 2639376.3350221114\n",
      "start iteration\n",
      "done sorting\n",
      "end inner loop\n",
      "Iteration 5, inertia 2639321.9198980713\n",
      "start iteration\n",
      "done sorting\n",
      "end inner loop\n",
      "Iteration 6, inertia 2639279.8435463794\n",
      "start iteration\n",
      "done sorting\n",
      "end inner loop\n",
      "Iteration 7, inertia 2639279.8435463794\n",
      "center shift 0.000000e+00 within tolerance 5.616322e-04\n",
      "Initialization complete\n",
      "start iteration\n",
      "done sorting\n",
      "end inner loop\n",
      "Iteration 0, inertia 3117532.3058487237\n",
      "start iteration\n",
      "done sorting\n",
      "end inner loop\n",
      "Iteration 1, inertia 2883997.361015838\n",
      "start iteration\n",
      "done sorting\n",
      "end inner loop\n",
      "Iteration 2, inertia 2794453.7906981283\n",
      "start iteration\n",
      "done sorting\n",
      "end inner loop\n",
      "Iteration 3, inertia 2769186.1059965976\n",
      "start iteration\n",
      "done sorting\n",
      "end inner loop\n",
      "Iteration 4, inertia 2760529.649921755\n",
      "start iteration\n",
      "done sorting\n",
      "end inner loop\n",
      "Iteration 5, inertia 2759595.7127269716\n",
      "start iteration\n",
      "done sorting\n",
      "end inner loop\n",
      "Iteration 6, inertia 2759492.3520959904\n",
      "start iteration\n",
      "done sorting\n",
      "end inner loop\n",
      "Iteration 7, inertia 2759367.2785241744\n",
      "start iteration\n",
      "done sorting\n",
      "end inner loop\n",
      "Iteration 8, inertia 2759314.4551847163\n",
      "start iteration\n",
      "done sorting\n",
      "end inner loop\n",
      "Iteration 9, inertia 2759314.4551847163\n",
      "center shift 0.000000e+00 within tolerance 5.616322e-04\n",
      "Initialization complete\n",
      "start iteration\n",
      "done sorting\n",
      "end inner loop\n",
      "Iteration 0, inertia 3069405.2235276788\n",
      "start iteration\n",
      "done sorting\n",
      "end inner loop\n",
      "Iteration 1, inertia 2992827.0726729645\n",
      "start iteration\n",
      "done sorting\n",
      "end inner loop\n",
      "Iteration 2, inertia 2937463.655411387\n",
      "start iteration\n",
      "done sorting\n",
      "end inner loop\n",
      "Iteration 3, inertia 2900444.8466992276\n",
      "start iteration\n",
      "done sorting\n",
      "end inner loop\n",
      "Iteration 4, inertia 2882270.713857419\n",
      "start iteration\n",
      "done sorting\n",
      "end inner loop\n",
      "Iteration 5, inertia 2863536.489762074\n",
      "start iteration\n",
      "done sorting\n",
      "end inner loop\n",
      "Iteration 6, inertia 2847790.8656957797\n",
      "start iteration\n",
      "done sorting\n",
      "end inner loop\n",
      "Iteration 7, inertia 2839114.61688459\n",
      "start iteration\n",
      "done sorting\n",
      "end inner loop\n",
      "Iteration 8, inertia 2829442.3022055277\n",
      "start iteration\n",
      "done sorting\n",
      "end inner loop\n",
      "Iteration 9, inertia 2818018.4940236993\n",
      "start iteration\n",
      "done sorting\n",
      "end inner loop\n",
      "Iteration 10, inertia 2806595.2560424153\n",
      "start iteration\n",
      "done sorting\n",
      "end inner loop\n",
      "Iteration 11, inertia 2790001.998138773\n",
      "start iteration\n",
      "done sorting\n",
      "end inner loop\n",
      "Iteration 12, inertia 2787383.5683591827\n",
      "start iteration\n",
      "done sorting\n",
      "end inner loop\n",
      "Iteration 13, inertia 2787128.722902741\n",
      "start iteration\n",
      "done sorting\n",
      "end inner loop\n",
      "Iteration 14, inertia 2787063.8072268325\n",
      "start iteration\n",
      "done sorting\n",
      "end inner loop\n",
      "Iteration 15, inertia 2787051.4496268667\n",
      "start iteration\n",
      "done sorting\n",
      "end inner loop\n",
      "Iteration 16, inertia 2787036.822121144\n",
      "start iteration\n",
      "done sorting\n",
      "end inner loop\n",
      "Iteration 17, inertia 2787036.822121144\n",
      "center shift 0.000000e+00 within tolerance 5.616322e-04\n",
      "Initialization complete\n",
      "start iteration\n",
      "done sorting\n",
      "end inner loop\n",
      "Iteration 0, inertia 3371815.663750503\n",
      "start iteration\n",
      "done sorting\n",
      "end inner loop\n",
      "Iteration 1, inertia 3263119.9796615615\n",
      "start iteration\n",
      "done sorting\n",
      "end inner loop\n",
      "Iteration 2, inertia 3207028.7301660543\n",
      "start iteration\n",
      "done sorting\n",
      "end inner loop\n",
      "Iteration 3, inertia 3148810.3814162626\n",
      "start iteration\n",
      "done sorting\n",
      "end inner loop\n",
      "Iteration 4, inertia 3116065.368144651\n",
      "start iteration\n",
      "done sorting\n",
      "end inner loop\n",
      "Iteration 5, inertia 3104856.4545777766\n",
      "start iteration\n",
      "done sorting\n",
      "end inner loop\n",
      "Iteration 6, inertia 3101780.646172483\n",
      "start iteration\n",
      "done sorting\n",
      "end inner loop\n",
      "Iteration 7, inertia 3100991.3978924695\n",
      "start iteration\n",
      "done sorting\n",
      "end inner loop\n",
      "Iteration 8, inertia 3099783.873427979\n",
      "start iteration\n",
      "done sorting\n",
      "end inner loop\n",
      "Iteration 9, inertia 3098435.4241163605\n",
      "start iteration\n",
      "done sorting\n",
      "end inner loop\n",
      "Iteration 10, inertia 3098348.754897579\n",
      "start iteration\n",
      "done sorting\n",
      "end inner loop\n",
      "Iteration 11, inertia 3098305.6266378327\n",
      "start iteration\n",
      "done sorting\n",
      "end inner loop\n",
      "Iteration 12, inertia 3098264.869251853\n",
      "start iteration\n",
      "done sorting\n",
      "end inner loop\n",
      "Iteration 13, inertia 3098243.117579261\n",
      "start iteration\n",
      "done sorting\n",
      "end inner loop\n",
      "Iteration 14, inertia 3098198.6345818522\n",
      "start iteration\n",
      "done sorting\n",
      "end inner loop\n",
      "Iteration 15, inertia 3098198.6345818522\n",
      "center shift 0.000000e+00 within tolerance 5.616322e-04\n",
      "Initialization complete\n",
      "start iteration\n",
      "done sorting\n",
      "end inner loop\n",
      "Iteration 0, inertia 3403523.510315705\n",
      "start iteration\n",
      "done sorting\n",
      "end inner loop\n",
      "Iteration 1, inertia 3099850.7719992953\n",
      "start iteration\n",
      "done sorting\n",
      "end inner loop\n",
      "Iteration 2, inertia 3071504.4223603546\n",
      "start iteration\n",
      "done sorting\n",
      "end inner loop\n",
      "Iteration 3, inertia 3058749.0873735477\n",
      "start iteration\n",
      "done sorting\n",
      "end inner loop\n",
      "Iteration 4, inertia 3023201.4427748797\n",
      "start iteration\n",
      "done sorting\n",
      "end inner loop\n",
      "Iteration 5, inertia 2990620.2102508643\n",
      "start iteration\n",
      "done sorting\n",
      "end inner loop\n",
      "Iteration 6, inertia 2963055.7032619645\n",
      "start iteration\n",
      "done sorting\n",
      "end inner loop\n",
      "Iteration 7, inertia 2919781.8440572526\n",
      "start iteration\n",
      "done sorting\n",
      "end inner loop\n",
      "Iteration 8, inertia 2749940.101406417\n",
      "start iteration\n",
      "done sorting\n",
      "end inner loop\n",
      "Iteration 9, inertia 2677806.0471494216\n",
      "start iteration\n",
      "done sorting\n",
      "end inner loop\n",
      "Iteration 10, inertia 2662067.8487814306\n",
      "start iteration\n",
      "done sorting\n",
      "end inner loop\n",
      "Iteration 11, inertia 2640440.2241522595\n",
      "start iteration\n",
      "done sorting\n",
      "end inner loop\n",
      "Iteration 12, inertia 2637829.951575294\n",
      "start iteration\n",
      "done sorting\n",
      "end inner loop\n",
      "Iteration 13, inertia 2637388.550550651\n",
      "start iteration\n",
      "done sorting\n",
      "end inner loop\n",
      "Iteration 14, inertia 2637330.5328442655\n",
      "start iteration\n",
      "done sorting\n",
      "end inner loop\n",
      "Iteration 15, inertia 2637329.9942466207\n",
      "center shift 1.632661e-05 within tolerance 5.616322e-04\n",
      "Initialization complete\n",
      "start iteration\n",
      "done sorting\n",
      "end inner loop\n",
      "Iteration 0, inertia 2938935.2783473865\n",
      "start iteration\n",
      "done sorting\n",
      "end inner loop\n",
      "Iteration 1, inertia 2890571.8973291703\n",
      "start iteration\n",
      "done sorting\n",
      "end inner loop\n",
      "Iteration 2, inertia 2876901.838268401\n",
      "start iteration\n",
      "done sorting\n",
      "end inner loop\n",
      "Iteration 3, inertia 2874076.66559137\n",
      "start iteration\n",
      "done sorting\n",
      "end inner loop\n",
      "Iteration 4, inertia 2871939.5637902985\n",
      "start iteration\n",
      "done sorting\n",
      "end inner loop\n",
      "Iteration 5, inertia 2867753.787931481\n",
      "start iteration\n",
      "done sorting\n",
      "end inner loop\n",
      "Iteration 6, inertia 2866487.969991147\n",
      "start iteration\n",
      "done sorting\n",
      "end inner loop\n",
      "Iteration 7, inertia 2864623.6210513185\n",
      "start iteration\n",
      "done sorting\n",
      "end inner loop\n",
      "Iteration 8, inertia 2862867.7131703715\n",
      "start iteration\n",
      "done sorting\n",
      "end inner loop\n",
      "Iteration 9, inertia 2861510.216641786\n",
      "start iteration\n",
      "done sorting\n",
      "end inner loop\n",
      "Iteration 10, inertia 2860591.9763731617\n",
      "start iteration\n",
      "done sorting\n",
      "end inner loop\n",
      "Iteration 11, inertia 2860240.453475454\n",
      "start iteration\n",
      "done sorting\n",
      "end inner loop\n",
      "Iteration 12, inertia 2860048.8290381944\n",
      "start iteration\n",
      "done sorting\n",
      "end inner loop\n",
      "Iteration 13, inertia 2859987.2021595393\n",
      "start iteration\n",
      "done sorting\n",
      "end inner loop\n",
      "Iteration 14, inertia 2859962.105668604\n",
      "start iteration\n",
      "done sorting\n",
      "end inner loop\n",
      "Iteration 15, inertia 2859634.697524689\n",
      "start iteration\n",
      "done sorting\n",
      "end inner loop\n",
      "Iteration 16, inertia 2858111.3658557762\n",
      "start iteration\n",
      "done sorting\n",
      "end inner loop\n",
      "Iteration 17, inertia 2854358.267881721\n",
      "start iteration\n",
      "done sorting\n",
      "end inner loop\n",
      "Iteration 18, inertia 2852035.1917990204\n",
      "start iteration\n",
      "done sorting\n",
      "end inner loop\n",
      "Iteration 19, inertia 2851010.846349215\n",
      "start iteration\n",
      "done sorting\n",
      "end inner loop\n",
      "Iteration 20, inertia 2850384.454504935\n",
      "start iteration\n",
      "done sorting\n",
      "end inner loop\n",
      "Iteration 21, inertia 2850086.7235066993\n",
      "start iteration\n",
      "done sorting\n",
      "end inner loop\n",
      "Iteration 22, inertia 2849044.4142223326\n",
      "start iteration\n",
      "done sorting\n",
      "end inner loop\n",
      "Iteration 23, inertia 2847882.065359604\n",
      "start iteration\n",
      "done sorting\n",
      "end inner loop\n",
      "Iteration 24, inertia 2847772.9687325894\n",
      "start iteration\n",
      "done sorting\n",
      "end inner loop\n"
     ]
    },
    {
     "name": "stdout",
     "output_type": "stream",
     "text": [
      "Iteration 25, inertia 2847639.991263546\n",
      "start iteration\n",
      "done sorting\n",
      "end inner loop\n",
      "Iteration 26, inertia 2847526.0858846228\n",
      "start iteration\n",
      "done sorting\n",
      "end inner loop\n",
      "Iteration 27, inertia 2847456.6642451817\n",
      "start iteration\n",
      "done sorting\n",
      "end inner loop\n",
      "Iteration 28, inertia 2847413.7061885395\n",
      "start iteration\n",
      "done sorting\n",
      "end inner loop\n",
      "Iteration 29, inertia 2847383.589276455\n",
      "start iteration\n",
      "done sorting\n",
      "end inner loop\n",
      "Iteration 30, inertia 2847310.8406186793\n",
      "start iteration\n",
      "done sorting\n",
      "end inner loop\n",
      "Iteration 31, inertia 2847254.669921869\n",
      "start iteration\n",
      "done sorting\n",
      "end inner loop\n",
      "Iteration 32, inertia 2847116.6519437386\n",
      "start iteration\n",
      "done sorting\n",
      "end inner loop\n",
      "Iteration 33, inertia 2847029.9060027655\n",
      "start iteration\n",
      "done sorting\n",
      "end inner loop\n",
      "Iteration 34, inertia 2847029.9060027655\n",
      "center shift 0.000000e+00 within tolerance 5.616322e-04\n",
      "Initialization complete\n",
      "start iteration\n",
      "done sorting\n",
      "end inner loop\n",
      "Iteration 0, inertia 2836611.677424137\n",
      "start iteration\n",
      "done sorting\n",
      "end inner loop\n",
      "Iteration 1, inertia 2757856.1198799196\n",
      "start iteration\n",
      "done sorting\n",
      "end inner loop\n",
      "Iteration 2, inertia 2717243.8576298887\n",
      "start iteration\n",
      "done sorting\n",
      "end inner loop\n",
      "Iteration 3, inertia 2700878.2754431977\n",
      "start iteration\n",
      "done sorting\n",
      "end inner loop\n",
      "Iteration 4, inertia 2691357.7548187547\n",
      "start iteration\n",
      "done sorting\n",
      "end inner loop\n",
      "Iteration 5, inertia 2685943.582874532\n",
      "start iteration\n",
      "done sorting\n",
      "end inner loop\n",
      "Iteration 6, inertia 2682699.2504754737\n",
      "start iteration\n",
      "done sorting\n",
      "end inner loop\n",
      "Iteration 7, inertia 2682411.740031842\n",
      "start iteration\n",
      "done sorting\n",
      "end inner loop\n",
      "Iteration 8, inertia 2682155.349012\n",
      "start iteration\n",
      "done sorting\n",
      "end inner loop\n",
      "Iteration 9, inertia 2682046.7201678613\n",
      "start iteration\n",
      "done sorting\n",
      "end inner loop\n",
      "Iteration 10, inertia 2682041.9108604966\n",
      "center shift 1.923439e-05 within tolerance 5.616322e-04\n",
      "Initialization complete\n",
      "start iteration\n",
      "done sorting\n",
      "end inner loop\n",
      "Iteration 0, inertia 3428282.325072322\n",
      "start iteration\n",
      "done sorting\n",
      "end inner loop\n",
      "Iteration 1, inertia 3238016.417531142\n",
      "start iteration\n",
      "done sorting\n",
      "end inner loop\n",
      "Iteration 2, inertia 3171657.793809988\n",
      "start iteration\n",
      "done sorting\n",
      "end inner loop\n",
      "Iteration 3, inertia 3088095.6809091684\n",
      "start iteration\n",
      "done sorting\n",
      "end inner loop\n",
      "Iteration 4, inertia 3057232.0582277095\n",
      "start iteration\n",
      "done sorting\n",
      "end inner loop\n",
      "Iteration 5, inertia 3043402.9807402636\n",
      "start iteration\n",
      "done sorting\n",
      "end inner loop\n",
      "Iteration 6, inertia 3023564.031367559\n",
      "start iteration\n",
      "done sorting\n",
      "end inner loop\n",
      "Iteration 7, inertia 3008793.291103158\n",
      "start iteration\n",
      "done sorting\n",
      "end inner loop\n",
      "Iteration 8, inertia 2990299.9973606067\n",
      "start iteration\n",
      "done sorting\n",
      "end inner loop\n",
      "Iteration 9, inertia 2962493.5108952248\n",
      "start iteration\n",
      "done sorting\n",
      "end inner loop\n",
      "Iteration 10, inertia 2908545.041420346\n",
      "start iteration\n",
      "done sorting\n",
      "end inner loop\n",
      "Iteration 11, inertia 2830571.822955997\n",
      "start iteration\n",
      "done sorting\n",
      "end inner loop\n",
      "Iteration 12, inertia 2779308.8763107033\n",
      "start iteration\n",
      "done sorting\n",
      "end inner loop\n",
      "Iteration 13, inertia 2743463.7234968473\n",
      "start iteration\n",
      "done sorting\n",
      "end inner loop\n",
      "Iteration 14, inertia 2703148.4739553574\n",
      "start iteration\n",
      "done sorting\n",
      "end inner loop\n",
      "Iteration 15, inertia 2691239.673147713\n",
      "start iteration\n",
      "done sorting\n",
      "end inner loop\n",
      "Iteration 16, inertia 2685925.8974841717\n",
      "start iteration\n",
      "done sorting\n",
      "end inner loop\n",
      "Iteration 17, inertia 2682762.124344523\n",
      "start iteration\n",
      "done sorting\n",
      "end inner loop\n",
      "Iteration 18, inertia 2682112.398541675\n",
      "start iteration\n",
      "done sorting\n",
      "end inner loop\n",
      "Iteration 19, inertia 2682041.9108604966\n",
      "start iteration\n",
      "done sorting\n",
      "end inner loop\n",
      "Iteration 20, inertia 2682041.8436808554\n",
      "center shift 6.841287e-08 within tolerance 5.616322e-04\n",
      "Initialization complete\n",
      "start iteration\n",
      "done sorting\n",
      "end inner loop\n",
      "Iteration 0, inertia 3068941.663285191\n",
      "start iteration\n",
      "done sorting\n",
      "end inner loop\n",
      "Iteration 1, inertia 2952461.230805214\n",
      "start iteration\n",
      "done sorting\n",
      "end inner loop\n",
      "Iteration 2, inertia 2924573.089134006\n",
      "start iteration\n",
      "done sorting\n",
      "end inner loop\n",
      "Iteration 3, inertia 2913194.907604389\n",
      "start iteration\n",
      "done sorting\n",
      "end inner loop\n",
      "Iteration 4, inertia 2900504.46141802\n",
      "start iteration\n",
      "done sorting\n",
      "end inner loop\n",
      "Iteration 5, inertia 2880286.3451675777\n",
      "start iteration\n",
      "done sorting\n",
      "end inner loop\n",
      "Iteration 6, inertia 2858588.5242782966\n",
      "start iteration\n",
      "done sorting\n",
      "end inner loop\n",
      "Iteration 7, inertia 2836972.3211609316\n",
      "start iteration\n",
      "done sorting\n",
      "end inner loop\n",
      "Iteration 8, inertia 2815037.327660991\n",
      "start iteration\n",
      "done sorting\n",
      "end inner loop\n",
      "Iteration 9, inertia 2783013.150986473\n",
      "start iteration\n",
      "done sorting\n",
      "end inner loop\n",
      "Iteration 10, inertia 2772037.1085769455\n",
      "start iteration\n",
      "done sorting\n",
      "end inner loop\n",
      "Iteration 11, inertia 2759181.0857897317\n",
      "start iteration\n",
      "done sorting\n",
      "end inner loop\n",
      "Iteration 12, inertia 2754010.6737454566\n",
      "start iteration\n",
      "done sorting\n",
      "end inner loop\n",
      "Iteration 13, inertia 2749998.5089920065\n",
      "start iteration\n",
      "done sorting\n",
      "end inner loop\n",
      "Iteration 14, inertia 2749069.4572712714\n",
      "start iteration\n",
      "done sorting\n",
      "end inner loop\n",
      "Iteration 15, inertia 2747545.899389903\n",
      "start iteration\n",
      "done sorting\n",
      "end inner loop\n",
      "Iteration 16, inertia 2747334.1708696755\n",
      "start iteration\n",
      "done sorting\n",
      "end inner loop\n",
      "Iteration 17, inertia 2747334.109903544\n",
      "center shift 1.144003e-07 within tolerance 5.616322e-04\n",
      "Initialization complete\n",
      "start iteration\n",
      "done sorting\n",
      "end inner loop\n",
      "Iteration 0, inertia 2960869.6917424835\n",
      "start iteration\n",
      "done sorting\n",
      "end inner loop\n",
      "Iteration 1, inertia 2782870.7053752644\n",
      "start iteration\n",
      "done sorting\n",
      "end inner loop\n",
      "Iteration 2, inertia 2748480.1216113525\n",
      "start iteration\n",
      "done sorting\n",
      "end inner loop\n",
      "Iteration 3, inertia 2733230.4390873485\n",
      "start iteration\n",
      "done sorting\n",
      "end inner loop\n",
      "Iteration 4, inertia 2724833.7007965646\n",
      "start iteration\n",
      "done sorting\n",
      "end inner loop\n",
      "Iteration 5, inertia 2715318.7434997926\n",
      "start iteration\n",
      "done sorting\n",
      "end inner loop\n",
      "Iteration 6, inertia 2712076.0029736566\n",
      "start iteration\n",
      "done sorting\n",
      "end inner loop\n",
      "Iteration 7, inertia 2709665.0035330993\n",
      "start iteration\n",
      "done sorting\n",
      "end inner loop\n",
      "Iteration 8, inertia 2706865.703280917\n",
      "start iteration\n",
      "done sorting\n",
      "end inner loop\n",
      "Iteration 9, inertia 2703928.253124699\n",
      "start iteration\n",
      "done sorting\n",
      "end inner loop\n",
      "Iteration 10, inertia 2701829.7413551887\n",
      "start iteration\n",
      "done sorting\n",
      "end inner loop\n",
      "Iteration 11, inertia 2700600.31178857\n",
      "start iteration\n",
      "done sorting\n",
      "end inner loop\n",
      "Iteration 12, inertia 2699720.0388521324\n",
      "start iteration\n",
      "done sorting\n",
      "end inner loop\n",
      "Iteration 13, inertia 2699474.357321168\n",
      "start iteration\n",
      "done sorting\n",
      "end inner loop\n",
      "Iteration 14, inertia 2699065.5178880487\n",
      "start iteration\n",
      "done sorting\n",
      "end inner loop\n",
      "Iteration 15, inertia 2697368.9867897085\n",
      "start iteration\n",
      "done sorting\n",
      "end inner loop\n",
      "Iteration 16, inertia 2692775.574195328\n",
      "start iteration\n",
      "done sorting\n",
      "end inner loop\n",
      "Iteration 17, inertia 2690201.393513013\n",
      "start iteration\n",
      "done sorting\n",
      "end inner loop\n",
      "Iteration 18, inertia 2687616.482008808\n",
      "start iteration\n",
      "done sorting\n",
      "end inner loop\n",
      "Iteration 19, inertia 2683758.582089277\n",
      "start iteration\n",
      "done sorting\n",
      "end inner loop\n",
      "Iteration 20, inertia 2677990.708253565\n",
      "start iteration\n",
      "done sorting\n",
      "end inner loop\n",
      "Iteration 21, inertia 2665884.693163519\n",
      "start iteration\n",
      "done sorting\n",
      "end inner loop\n",
      "Iteration 22, inertia 2664882.609430256\n",
      "start iteration\n",
      "done sorting\n",
      "end inner loop\n",
      "Iteration 23, inertia 2664835.07347681\n",
      "start iteration\n",
      "done sorting\n",
      "end inner loop\n",
      "Iteration 24, inertia 2664715.9985603266\n",
      "start iteration\n",
      "done sorting\n",
      "end inner loop\n",
      "Iteration 25, inertia 2664715.9985603266\n",
      "center shift 0.000000e+00 within tolerance 5.616322e-04\n"
     ]
    }
   ],
   "source": [
    "kmeans = KMeans (n_clusters = 7, max_iter = 500, verbose = 1)\n",
    "kmeans.fit(s)\n",
    "clusters = kmeans.predict(s)"
   ]
  },
  {
   "cell_type": "code",
   "execution_count": 57,
   "metadata": {},
   "outputs": [
    {
     "data": {
      "text/plain": [
       "array([0, 5, 5, ..., 6, 6, 6], dtype=int32)"
      ]
     },
     "execution_count": 57,
     "metadata": {},
     "output_type": "execute_result"
    }
   ],
   "source": [
    "clusters"
   ]
  },
  {
   "cell_type": "code",
   "execution_count": 58,
   "metadata": {},
   "outputs": [
    {
     "data": {
      "text/html": [
       "<div>\n",
       "<style scoped>\n",
       "    .dataframe tbody tr th:only-of-type {\n",
       "        vertical-align: middle;\n",
       "    }\n",
       "\n",
       "    .dataframe tbody tr th {\n",
       "        vertical-align: top;\n",
       "    }\n",
       "\n",
       "    .dataframe thead th {\n",
       "        text-align: right;\n",
       "    }\n",
       "</style>\n",
       "<table border=\"1\" class=\"dataframe\">\n",
       "  <thead>\n",
       "    <tr style=\"text-align: right;\">\n",
       "      <th></th>\n",
       "      <th>CHARGE_COUNT</th>\n",
       "      <th>COMMITMENT_TERM</th>\n",
       "      <th>OFFENSE_CATEGORY_Aggravated Battery</th>\n",
       "      <th>OFFENSE_CATEGORY_DUI</th>\n",
       "      <th>OFFENSE_CATEGORY_Driving With Suspended Or Revoked License</th>\n",
       "      <th>OFFENSE_CATEGORY_Failure to Register as a Sex Offender</th>\n",
       "      <th>OFFENSE_CATEGORY_Fleeing or Failure to Return</th>\n",
       "      <th>OFFENSE_CATEGORY_Forgery</th>\n",
       "      <th>OFFENSE_CATEGORY_Homicide</th>\n",
       "      <th>OFFENSE_CATEGORY_Narcotics</th>\n",
       "      <th>OFFENSE_CATEGORY_Other Offense</th>\n",
       "      <th>OFFENSE_CATEGORY_Sex Crimes</th>\n",
       "      <th>OFFENSE_CATEGORY_Theft</th>\n",
       "      <th>OFFENSE_CATEGORY_UUW - Unlawful Use of Weapon</th>\n",
       "      <th>CHARGE_DISPOSITION_Dismissed</th>\n",
       "      <th>CHARGE_DISPOSITION_Guilty</th>\n",
       "      <th>CHARGE_DISPOSITION_Not Guilty</th>\n",
       "      <th>GENDER_Female</th>\n",
       "      <th>GENDER_Male</th>\n",
       "      <th>GENDER_Unknown</th>\n",
       "    </tr>\n",
       "  </thead>\n",
       "  <tbody>\n",
       "    <tr>\n",
       "      <th>0</th>\n",
       "      <td>1.39</td>\n",
       "      <td>2.00</td>\n",
       "      <td>0.06</td>\n",
       "      <td>0.10</td>\n",
       "      <td>0.05</td>\n",
       "      <td>0.01</td>\n",
       "      <td>0.03</td>\n",
       "      <td>0.02</td>\n",
       "      <td>0.00</td>\n",
       "      <td>0.34</td>\n",
       "      <td>0.02</td>\n",
       "      <td>0.01</td>\n",
       "      <td>0.24</td>\n",
       "      <td>0.11</td>\n",
       "      <td>0.00</td>\n",
       "      <td>1.00</td>\n",
       "      <td>0.00</td>\n",
       "      <td>0.13</td>\n",
       "      <td>0.87</td>\n",
       "      <td>0.00</td>\n",
       "    </tr>\n",
       "    <tr>\n",
       "      <th>1</th>\n",
       "      <td>22.09</td>\n",
       "      <td>1,039.65</td>\n",
       "      <td>0.00</td>\n",
       "      <td>0.00</td>\n",
       "      <td>0.00</td>\n",
       "      <td>0.00</td>\n",
       "      <td>0.09</td>\n",
       "      <td>0.00</td>\n",
       "      <td>0.73</td>\n",
       "      <td>0.18</td>\n",
       "      <td>-0.00</td>\n",
       "      <td>0.00</td>\n",
       "      <td>0.00</td>\n",
       "      <td>-0.00</td>\n",
       "      <td>-0.00</td>\n",
       "      <td>1.00</td>\n",
       "      <td>-0.00</td>\n",
       "      <td>0.00</td>\n",
       "      <td>1.00</td>\n",
       "      <td>0.00</td>\n",
       "    </tr>\n",
       "    <tr>\n",
       "      <th>2</th>\n",
       "      <td>86.77</td>\n",
       "      <td>23.08</td>\n",
       "      <td>-0.00</td>\n",
       "      <td>-0.00</td>\n",
       "      <td>-0.00</td>\n",
       "      <td>0.00</td>\n",
       "      <td>0.00</td>\n",
       "      <td>-0.00</td>\n",
       "      <td>0.88</td>\n",
       "      <td>-0.00</td>\n",
       "      <td>0.00</td>\n",
       "      <td>0.12</td>\n",
       "      <td>-0.00</td>\n",
       "      <td>0.01</td>\n",
       "      <td>-0.00</td>\n",
       "      <td>1.00</td>\n",
       "      <td>0.00</td>\n",
       "      <td>0.04</td>\n",
       "      <td>0.96</td>\n",
       "      <td>-0.00</td>\n",
       "    </tr>\n",
       "    <tr>\n",
       "      <th>3</th>\n",
       "      <td>9.77</td>\n",
       "      <td>61.95</td>\n",
       "      <td>0.03</td>\n",
       "      <td>-0.00</td>\n",
       "      <td>0.00</td>\n",
       "      <td>0.00</td>\n",
       "      <td>0.00</td>\n",
       "      <td>-0.00</td>\n",
       "      <td>0.80</td>\n",
       "      <td>0.01</td>\n",
       "      <td>0.02</td>\n",
       "      <td>0.09</td>\n",
       "      <td>0.05</td>\n",
       "      <td>0.00</td>\n",
       "      <td>0.01</td>\n",
       "      <td>0.95</td>\n",
       "      <td>0.04</td>\n",
       "      <td>0.02</td>\n",
       "      <td>0.98</td>\n",
       "      <td>0.00</td>\n",
       "    </tr>\n",
       "    <tr>\n",
       "      <th>4</th>\n",
       "      <td>3.39</td>\n",
       "      <td>25.12</td>\n",
       "      <td>0.05</td>\n",
       "      <td>0.01</td>\n",
       "      <td>0.00</td>\n",
       "      <td>0.00</td>\n",
       "      <td>0.00</td>\n",
       "      <td>0.00</td>\n",
       "      <td>0.28</td>\n",
       "      <td>0.04</td>\n",
       "      <td>0.03</td>\n",
       "      <td>0.12</td>\n",
       "      <td>0.45</td>\n",
       "      <td>0.02</td>\n",
       "      <td>0.00</td>\n",
       "      <td>1.00</td>\n",
       "      <td>0.00</td>\n",
       "      <td>0.03</td>\n",
       "      <td>0.97</td>\n",
       "      <td>0.00</td>\n",
       "    </tr>\n",
       "    <tr>\n",
       "      <th>5</th>\n",
       "      <td>11.49</td>\n",
       "      <td>3.37</td>\n",
       "      <td>0.19</td>\n",
       "      <td>0.12</td>\n",
       "      <td>0.02</td>\n",
       "      <td>0.00</td>\n",
       "      <td>0.01</td>\n",
       "      <td>0.01</td>\n",
       "      <td>0.04</td>\n",
       "      <td>0.05</td>\n",
       "      <td>0.02</td>\n",
       "      <td>0.13</td>\n",
       "      <td>0.07</td>\n",
       "      <td>0.34</td>\n",
       "      <td>0.00</td>\n",
       "      <td>0.99</td>\n",
       "      <td>0.00</td>\n",
       "      <td>0.09</td>\n",
       "      <td>0.91</td>\n",
       "      <td>-0.00</td>\n",
       "    </tr>\n",
       "    <tr>\n",
       "      <th>6</th>\n",
       "      <td>1.72</td>\n",
       "      <td>7.33</td>\n",
       "      <td>0.07</td>\n",
       "      <td>0.02</td>\n",
       "      <td>0.00</td>\n",
       "      <td>0.01</td>\n",
       "      <td>0.00</td>\n",
       "      <td>0.00</td>\n",
       "      <td>0.01</td>\n",
       "      <td>0.21</td>\n",
       "      <td>0.01</td>\n",
       "      <td>0.07</td>\n",
       "      <td>0.41</td>\n",
       "      <td>0.18</td>\n",
       "      <td>0.00</td>\n",
       "      <td>1.00</td>\n",
       "      <td>0.00</td>\n",
       "      <td>0.04</td>\n",
       "      <td>0.96</td>\n",
       "      <td>0.00</td>\n",
       "    </tr>\n",
       "  </tbody>\n",
       "</table>\n",
       "</div>"
      ],
      "text/plain": [
       "   CHARGE_COUNT  COMMITMENT_TERM  OFFENSE_CATEGORY_Aggravated Battery  \\\n",
       "0          1.39             2.00                                 0.06   \n",
       "1         22.09         1,039.65                                 0.00   \n",
       "2         86.77            23.08                                -0.00   \n",
       "3          9.77            61.95                                 0.03   \n",
       "4          3.39            25.12                                 0.05   \n",
       "5         11.49             3.37                                 0.19   \n",
       "6          1.72             7.33                                 0.07   \n",
       "\n",
       "   OFFENSE_CATEGORY_DUI  \\\n",
       "0                  0.10   \n",
       "1                  0.00   \n",
       "2                 -0.00   \n",
       "3                 -0.00   \n",
       "4                  0.01   \n",
       "5                  0.12   \n",
       "6                  0.02   \n",
       "\n",
       "   OFFENSE_CATEGORY_Driving With Suspended Or Revoked License  \\\n",
       "0                                               0.05            \n",
       "1                                               0.00            \n",
       "2                                              -0.00            \n",
       "3                                               0.00            \n",
       "4                                               0.00            \n",
       "5                                               0.02            \n",
       "6                                               0.00            \n",
       "\n",
       "   OFFENSE_CATEGORY_Failure to Register as a Sex Offender  \\\n",
       "0                                               0.01        \n",
       "1                                               0.00        \n",
       "2                                               0.00        \n",
       "3                                               0.00        \n",
       "4                                               0.00        \n",
       "5                                               0.00        \n",
       "6                                               0.01        \n",
       "\n",
       "   OFFENSE_CATEGORY_Fleeing or Failure to Return  OFFENSE_CATEGORY_Forgery  \\\n",
       "0                                           0.03                      0.02   \n",
       "1                                           0.09                      0.00   \n",
       "2                                           0.00                     -0.00   \n",
       "3                                           0.00                     -0.00   \n",
       "4                                           0.00                      0.00   \n",
       "5                                           0.01                      0.01   \n",
       "6                                           0.00                      0.00   \n",
       "\n",
       "   OFFENSE_CATEGORY_Homicide  OFFENSE_CATEGORY_Narcotics  \\\n",
       "0                       0.00                        0.34   \n",
       "1                       0.73                        0.18   \n",
       "2                       0.88                       -0.00   \n",
       "3                       0.80                        0.01   \n",
       "4                       0.28                        0.04   \n",
       "5                       0.04                        0.05   \n",
       "6                       0.01                        0.21   \n",
       "\n",
       "   OFFENSE_CATEGORY_Other Offense  OFFENSE_CATEGORY_Sex Crimes  \\\n",
       "0                            0.02                         0.01   \n",
       "1                           -0.00                         0.00   \n",
       "2                            0.00                         0.12   \n",
       "3                            0.02                         0.09   \n",
       "4                            0.03                         0.12   \n",
       "5                            0.02                         0.13   \n",
       "6                            0.01                         0.07   \n",
       "\n",
       "   OFFENSE_CATEGORY_Theft  OFFENSE_CATEGORY_UUW - Unlawful Use of Weapon  \\\n",
       "0                    0.24                                           0.11   \n",
       "1                    0.00                                          -0.00   \n",
       "2                   -0.00                                           0.01   \n",
       "3                    0.05                                           0.00   \n",
       "4                    0.45                                           0.02   \n",
       "5                    0.07                                           0.34   \n",
       "6                    0.41                                           0.18   \n",
       "\n",
       "   CHARGE_DISPOSITION_Dismissed  CHARGE_DISPOSITION_Guilty  \\\n",
       "0                          0.00                       1.00   \n",
       "1                         -0.00                       1.00   \n",
       "2                         -0.00                       1.00   \n",
       "3                          0.01                       0.95   \n",
       "4                          0.00                       1.00   \n",
       "5                          0.00                       0.99   \n",
       "6                          0.00                       1.00   \n",
       "\n",
       "   CHARGE_DISPOSITION_Not Guilty  GENDER_Female  GENDER_Male  GENDER_Unknown  \n",
       "0                           0.00           0.13         0.87            0.00  \n",
       "1                          -0.00           0.00         1.00            0.00  \n",
       "2                           0.00           0.04         0.96           -0.00  \n",
       "3                           0.04           0.02         0.98            0.00  \n",
       "4                           0.00           0.03         0.97            0.00  \n",
       "5                           0.00           0.09         0.91           -0.00  \n",
       "6                           0.00           0.04         0.96            0.00  "
      ]
     },
     "execution_count": 58,
     "metadata": {},
     "output_type": "execute_result"
    }
   ],
   "source": [
    "pd.options.display.float_format='{:,.2f}'.format\n",
    "\n",
    "centroids = pd.DataFrame(kmeans.cluster_centers_, columns= s.columns)\n",
    "centroids "
   ]
  },
  {
   "cell_type": "code",
   "execution_count": 59,
   "metadata": {},
   "outputs": [
    {
     "name": "stdout",
     "output_type": "stream",
     "text": [
      "Seconds =  387.0120460987091\n"
     ]
    },
    {
     "data": {
      "text/plain": [
       "array([0.65812133, 0.32602801, 0.33145444, ..., 0.39737954, 0.39737954,\n",
       "       0.39737954])"
      ]
     },
     "execution_count": 59,
     "metadata": {},
     "output_type": "execute_result"
    }
   ],
   "source": [
    "import time\n",
    "start = time.time()\n",
    "from sklearn import metrics\n",
    "silhouettes = metrics.silhouette_samples(s, clusters)\n",
    "end = time.time()\n",
    "print('Seconds = ', str(end - start))\n",
    "silhouettes"
   ]
  },
  {
   "cell_type": "code",
   "execution_count": 60,
   "metadata": {},
   "outputs": [
    {
     "data": {
      "text/plain": [
       "0.5799571995071428"
      ]
     },
     "execution_count": 60,
     "metadata": {},
     "output_type": "execute_result"
    }
   ],
   "source": [
    "silhouettes.mean()"
   ]
  },
  {
   "cell_type": "code",
   "execution_count": 61,
   "metadata": {},
   "outputs": [],
   "source": [
    "def plot_silhouettes(data, clusters, silhouettes):\n",
    "    \n",
    "    from matplotlib import cm\n",
    "    from sklearn.metrics import silhouette_samples\n",
    "    import matplotlib.pyplot as pl\n",
    "    \n",
    "    cluster_labels = np.unique(clusters)\n",
    "    n_clusters = cluster_labels.shape[0]\n",
    "    silhouette_vals = silhouettes\n",
    "    c_ax_lower, c_ax_upper = 0, 0\n",
    "    cticks = []\n",
    "    for i, k in enumerate(cluster_labels):\n",
    "        c_silhouette_vals = silhouette_vals[clusters == k]\n",
    "        c_silhouette_vals.sort()\n",
    "        c_ax_upper += len(c_silhouette_vals)\n",
    "        color = cm.jet(float(i) / n_clusters)\n",
    "        pl.barh(range(c_ax_lower, c_ax_upper), c_silhouette_vals, height=1.0, \n",
    "                      edgecolor='none', color=color)\n",
    "\n",
    "        cticks.append((c_ax_lower + c_ax_upper) / 2)\n",
    "        c_ax_lower += len(c_silhouette_vals)\n",
    "    \n",
    "    silhouette_avg = np.mean(silhouette_vals)\n",
    "    pl.axvline(silhouette_avg, color=\"red\", linestyle=\"--\") \n",
    "\n",
    "    pl.yticks(cticks, cluster_labels)\n",
    "    pl.ylabel('Cluster')\n",
    "    pl.xlabel('Silhouette coefficient')\n",
    "\n",
    "    pl.tight_layout()\n",
    "    #pl.savefig('images/11_04.png', dpi=300)\n",
    "    pl.show()\n",
    "    \n",
    "    return"
   ]
  },
  {
   "cell_type": "code",
   "execution_count": 62,
   "metadata": {},
   "outputs": [
    {
     "data": {
      "image/png": "[encoded data removed]",
      "text/plain": [
       "<Figure size 432x288 with 1 Axes>"
      ]
     },
     "metadata": {
      "needs_background": "light"
     },
     "output_type": "display_data"
    },
    {
     "name": "stdout",
     "output_type": "stream",
     "text": [
      "Seconds =  268.25747084617615\n"
     ]
    }
   ],
   "source": [
    "start = time.time()\n",
    "plot_silhouettes(s, clusters, silhouettes)\n",
    "end = time.time()\n",
    "print('Seconds = ', str(end - start))"
   ]
  },
  {
   "cell_type": "code",
   "execution_count": 63,
   "metadata": {},
   "outputs": [
    {
     "name": "stdout",
     "output_type": "stream",
     "text": [
      "The Completeness Score is 0.0038271455206739346 \n",
      "\n",
      "The Homogeneity Score is 0.005714088614275527 \n",
      "\n"
     ]
    }
   ],
   "source": [
    "from sklearn.metrics import completeness_score, homogeneity_score\n",
    "cs = completeness_score(clusters, target2)\n",
    "print('The Completeness Score is', cs,'\\n')\n",
    "hs = homogeneity_score(clusters, target2)\n",
    "print('The Homogeneity Score is', hs, '\\n')"
   ]
  },
  {
   "cell_type": "code",
   "execution_count": 64,
   "metadata": {},
   "outputs": [],
   "source": [
    "def cluster_sizes(clusters):\n",
    "    #clusters is an array of cluster labels for each instance in the data\n",
    "    \n",
    "    size = {}\n",
    "    cluster_labels = np.unique(clusters)\n",
    "    n_clusters = cluster_labels.shape[0]\n",
    "\n",
    "    for c in cluster_labels:\n",
    "        size[c] = len(s[clusters == c])\n",
    "    return size"
   ]
  },
  {
   "cell_type": "code",
   "execution_count": 65,
   "metadata": {},
   "outputs": [
    {
     "name": "stdout",
     "output_type": "stream",
     "text": [
      "Size of Cluster 0 =  165989\n",
      "Size of Cluster 1 =  11\n",
      "Size of Cluster 2 =  193\n",
      "Size of Cluster 3 =  1131\n",
      "Size of Cluster 4 =  2589\n",
      "Size of Cluster 5 =  6124\n",
      "Size of Cluster 6 =  23309\n"
     ]
    }
   ],
   "source": [
    "#Showing the size of the clusters\n",
    "\n",
    "size = cluster_sizes(clusters)\n",
    "\n",
    "for c in size.keys():\n",
    "    print(\"Size of Cluster\", c, \"= \", size[c])"
   ]
  },
  {
   "cell_type": "markdown",
   "metadata": {},
   "source": [
    "#### While the distribution of the clusters mimics the distributions of the RACE labels, the Completeness and Homogeneity tell a different story. The clustering miss labels and classifies the data incorrectly where the items of the same labels are a part of multiple groups and each cluster contains members of more than one level. Lastly, we will attempt a Principal Component Analysis and redo the clustering."
   ]
  },
  {
   "cell_type": "code",
   "execution_count": 66,
   "metadata": {},
   "outputs": [
    {
     "data": {
      "text/plain": [
       "array([[5.00000000e+00, 3.55211538e-03],\n",
       "       [4.00000000e+00, 1.35893743e-04],\n",
       "       [4.00000000e+00, 1.53879761e-04],\n",
       "       ...,\n",
       "       [0.00000000e+00, 2.45884271e-04],\n",
       "       [0.00000000e+00, 2.45884271e-04],\n",
       "       [0.00000000e+00, 2.45884271e-04]])"
      ]
     },
     "execution_count": 66,
     "metadata": {},
     "output_type": "execute_result"
    }
   ],
   "source": [
    "#Calculating the centroids for the clusters\n",
    "pd.options.display.float_format='{:,.2f}'.format\n",
    "\n",
    "import kMeans\n",
    "centroids_pca, clusters_pca = kMeans.kMeans(s, 7, kMeans.distCosine, kMeans.randCent)\n",
    "clusters_pca"
   ]
  },
  {
   "cell_type": "code",
   "execution_count": 67,
   "metadata": {},
   "outputs": [
    {
     "data": {
      "text/plain": [
       "5.00    42080\n",
       "3.00    40813\n",
       "0.00    34319\n",
       "6.00    33020\n",
       "2.00    19031\n",
       "4.00    18948\n",
       "1.00    11135\n",
       "Name: 0, dtype: int64"
      ]
     },
     "execution_count": 67,
     "metadata": {},
     "output_type": "execute_result"
    }
   ],
   "source": [
    "clusters_df = pd.DataFrame(clusters_pca)\n",
    "clusters_df[0].value_counts()"
   ]
  },
  {
   "cell_type": "code",
   "execution_count": 68,
   "metadata": {},
   "outputs": [
    {
     "name": "stdout",
     "output_type": "stream",
     "text": [
      "The Completeness Score is 0.1366286446295922 \n",
      "\n",
      "The Homogeneity Score is 0.022290523526335336 \n",
      "\n"
     ]
    }
   ],
   "source": [
    "cs = completeness_score(clusters_df.iloc[:,1], target2)\n",
    "print('The Completeness Score is', cs,'\\n')\n",
    "hs = homogeneity_score(clusters_df.iloc[:,1], target2)\n",
    "print('The Homogeneity Score is', hs, '\\n')"
   ]
  },
  {
   "cell_type": "markdown",
   "metadata": {},
   "source": [
    "#### Of all the clustering models, the clustering with Principle Component Analysis fit the data best. However, it is only a small increment better than the KMeans clustering (both methods). "
   ]
  },
  {
   "cell_type": "markdown",
   "metadata": {},
   "source": [
    "## Part 3: Ensemble Methods"
   ]
  },
  {
   "cell_type": "markdown",
   "metadata": {},
   "source": [
    "#### Lastly, we are going to attempt an Ensemble Method to classify the RACE levels in the data. The idea here is that the aggregate of weak models could be put together to create a stronger and more robust model. We are going to first build a Decision Tree Classifier and then run a RandomForest Classifier and rate the performance."
   ]
  },
  {
   "cell_type": "code",
   "execution_count": 69,
   "metadata": {},
   "outputs": [],
   "source": [
    "from sklearn.model_selection import train_test_split\n",
    "X_train, X_test, y_train, y_test = train_test_split(s, target2, test_size=0.2, random_state=33)"
   ]
  },
  {
   "cell_type": "code",
   "execution_count": 70,
   "metadata": {},
   "outputs": [],
   "source": [
    "from sklearn import metrics\n",
    "\n",
    "def measure_performance(X, y, clf, show_accuracy=True, show_classification_report=True, show_confussion_matrix=True):\n",
    "    y_pred = clf.predict(X)   \n",
    "    if show_accuracy:\n",
    "         print(\"Accuracy:{0:.3f}\".format(metrics.accuracy_score(y, y_pred)),\"\\n\")\n",
    "    if show_classification_report:\n",
    "        print(\"Classification report\")\n",
    "        print(metrics.classification_report(y, y_pred),\"\\n\")\n",
    "      \n",
    "    if show_confussion_matrix:\n",
    "        print(\"Confussion matrix\")\n",
    "        print(metrics.confusion_matrix(y, y_pred),\"\\n\")"
   ]
  },
  {
   "cell_type": "code",
   "execution_count": 71,
   "metadata": {},
   "outputs": [],
   "source": [
    "from sklearn import tree\n",
    "dt = tree.DecisionTreeClassifier(criterion='gini')\n",
    "dt = dt.fit(X_train, y_train)"
   ]
  },
  {
   "cell_type": "code",
   "execution_count": 72,
   "metadata": {},
   "outputs": [
    {
     "name": "stdout",
     "output_type": "stream",
     "text": [
      "Accuracy:0.689 \n",
      "\n",
      "Classification report\n"
     ]
    },
    {
     "name": "stderr",
     "output_type": "stream",
     "text": [
      "/Users/srikanthnanduri/opt/anaconda3/lib/python3.7/site-packages/sklearn/metrics/_classification.py:1272: UndefinedMetricWarning: Precision and F-score are ill-defined and being set to 0.0 in labels with no predicted samples. Use `zero_division` parameter to control this behavior.\n",
      "  _warn_prf(average, modifier, msg_start, len(result))\n"
     ]
    },
    {
     "name": "stdout",
     "output_type": "stream",
     "text": [
      "                 precision    recall  f1-score   support\n",
      "\n",
      "American Indian       0.00      0.00      0.00        21\n",
      "          Asian       0.22      0.01      0.02       232\n",
      "       Biracial       0.00      0.00      0.00         7\n",
      "          Black       0.71      0.95      0.81     26602\n",
      "       Hispanic       0.54      0.28      0.37      7403\n",
      "        Unknown       0.20      0.02      0.03        59\n",
      "          White       0.33      0.02      0.04      5546\n",
      "\n",
      "       accuracy                           0.69     39870\n",
      "      macro avg       0.29      0.18      0.18     39870\n",
      "   weighted avg       0.62      0.69      0.62     39870\n",
      " \n",
      "\n",
      "Confussion matrix\n",
      "[[    0     0     0    19     1     0     1]\n",
      " [    0     2     0   205    25     0     0]\n",
      " [    0     0     0     7     0     0     0]\n",
      " [    0     5     0 25289  1145     2   161]\n",
      " [    0     0     0  5275  2078     2    48]\n",
      " [    0     0     0    52     5     1     1]\n",
      " [    0     2     0  4864   574     0   106]] \n",
      "\n"
     ]
    }
   ],
   "source": [
    "from sklearn import metrics\n",
    "measure_performance(X_test, y_test, dt, show_confussion_matrix=True, show_classification_report=True)"
   ]
  },
  {
   "cell_type": "markdown",
   "metadata": {},
   "source": [
    "#### Looking at the above classification report, we see some promising results on the testing data. This is the best model yet. Next, we can run the RandomForestClassifier to see if we can produce a better model in the aggregate."
   ]
  },
  {
   "cell_type": "code",
   "execution_count": 73,
   "metadata": {},
   "outputs": [],
   "source": [
    "from sklearn.ensemble import RandomForestClassifier\n",
    "rf = RandomForestClassifier(n_estimators=10, random_state=294)\n",
    "rf = rf.fit(X_train, y_train)"
   ]
  },
  {
   "cell_type": "code",
   "execution_count": 74,
   "metadata": {},
   "outputs": [
    {
     "name": "stdout",
     "output_type": "stream",
     "text": [
      "Accuracy:0.688 \n",
      "\n"
     ]
    }
   ],
   "source": [
    "measure_performance(X_test, y_test, rf, show_confussion_matrix=False, show_classification_report=False)"
   ]
  },
  {
   "cell_type": "code",
   "execution_count": 75,
   "metadata": {},
   "outputs": [],
   "source": [
    "from sklearn.model_selection import KFold\n",
    "\n",
    "def calc_params(X, y, clf, param_values, param_name, K):\n",
    "    \n",
    "    # Convert input to Numpy arrays\n",
    "    X = np.array(X)\n",
    "    y = np.array(y)\n",
    "\n",
    "    # initialize training and testing score arrays with zeros\n",
    "    train_scores = np.zeros(len(param_values))\n",
    "    test_scores = np.zeros(len(param_values))\n",
    "    \n",
    "    # iterate over the different parameter values\n",
    "    for i, param_value in enumerate(param_values):\n",
    "\n",
    "        # set classifier parameters\n",
    "        clf.set_params(**{param_name:param_value})\n",
    "        \n",
    "        # initialize the K scores obtained for each fold\n",
    "        k_train_scores = np.zeros(K)\n",
    "        k_test_scores = np.zeros(K)\n",
    "        \n",
    "        # create KFold cross validation\n",
    "        cv = KFold(n_splits=K, shuffle=True, random_state=0)\n",
    "        \n",
    "        # iterate over the K folds\n",
    "        j = 0\n",
    "        for train, test in cv.split(X):\n",
    "            # fit the classifier in the corresponding fold\n",
    "            # and obtain the corresponding accuracy scores on train and test sets\n",
    "            clf.fit(X[train], y[train])\n",
    "            k_train_scores[j] = clf.score(X[train], y[train])\n",
    "            k_test_scores[j] = clf.score(X[test], y[test])\n",
    "            j += 1\n",
    "            \n",
    "        # store the mean of the K fold scores\n",
    "        train_scores[i] = np.mean(k_train_scores)\n",
    "        test_scores[i] = np.mean(k_test_scores)\n",
    "        print(param_name, '=', param_value, \"Train =\", train_scores[i], \"Test =\", test_scores[i])\n",
    "       \n",
    "    # plot the training and testing scores in a log scale\n",
    "    plt.plot(param_values, train_scores, label='Train', alpha=0.4, lw=2, c='b')\n",
    "    plt.plot(param_values, test_scores, label='X-Val', alpha=0.4, lw=2, c='g')\n",
    "    plt.legend(loc=7)\n",
    "    plt.xlabel(param_name + \" values\")\n",
    "    plt.ylabel(\"Mean cross validation accuracy\")\n",
    "\n",
    "    # return the training and testing scores on each parameter value\n",
    "    return train_scores, test_scores"
   ]
  },
  {
   "cell_type": "code",
   "execution_count": 76,
   "metadata": {},
   "outputs": [
    {
     "name": "stdout",
     "output_type": "stream",
     "text": [
      "range(1, 6)\n"
     ]
    }
   ],
   "source": [
    "msl = range(1,6)\n",
    "print(msl)"
   ]
  },
  {
   "cell_type": "code",
   "execution_count": 77,
   "metadata": {},
   "outputs": [
    {
     "name": "stdout",
     "output_type": "stream",
     "text": [
      "min_samples_leaf = 1 Train = 0.7034287293895757 Test = 0.6855890625171406\n",
      "min_samples_leaf = 2 Train = 0.6984828435377441 Test = 0.6896335586344599\n",
      "min_samples_leaf = 3 Train = 0.6958601931264312 Test = 0.6905177062166259\n",
      "min_samples_leaf = 4 Train = 0.694272180087015 Test = 0.6908500441531388\n",
      "min_samples_leaf = 5 Train = 0.6937109671956215 Test = 0.6907810699870991\n"
     ]
    },
    {
     "data": {
      "image/png": "[encoded data removed]",
      "text/plain": [
       "<Figure size 432x288 with 1 Axes>"
      ]
     },
     "metadata": {
      "needs_background": "light"
     },
     "output_type": "display_data"
    }
   ],
   "source": [
    "rf = RandomForestClassifier(n_estimators=10, random_state=33)\n",
    "train_scores, test_scores = calc_params(X_train, y_train, rf, msl, 'min_samples_leaf', 5)"
   ]
  },
  {
   "cell_type": "code",
   "execution_count": 78,
   "metadata": {},
   "outputs": [
    {
     "name": "stdout",
     "output_type": "stream",
     "text": [
      "max_depth = 1 Train = 0.6678308963095301 Test = 0.6678308981773456\n",
      "max_depth = 2 Train = 0.6678308963095301 Test = 0.6678308981773456\n",
      "max_depth = 3 Train = 0.6678308963095301 Test = 0.6678308981773456\n",
      "max_depth = 4 Train = 0.6678512755441754 Test = 0.6678497097067271\n",
      "max_depth = 5 Train = 0.6678465726864061 Test = 0.6678308981773456\n",
      "max_depth = 6 Train = 0.6873385359753359 Test = 0.6875266543685067\n",
      "max_depth = 7 Train = 0.6885503145689594 Test = 0.6880032249740328\n",
      "max_depth = 8 Train = 0.6891130948830101 Test = 0.6884170827489073\n"
     ]
    },
    {
     "data": {
      "image/png": "[encoded data removed]",
      "text/plain": [
       "<Figure size 432x288 with 1 Axes>"
      ]
     },
     "metadata": {
      "needs_background": "light"
     },
     "output_type": "display_data"
    }
   ],
   "source": [
    "m_depth = [1,2,3,4,5,6,7,8]\n",
    "\n",
    "rf = RandomForestClassifier(n_estimators=10, random_state=33)\n",
    "train_scores, test_scores = calc_params(X_train, y_train, rf, m_depth, 'max_depth', 5)"
   ]
  },
  {
   "cell_type": "code",
   "execution_count": 79,
   "metadata": {},
   "outputs": [],
   "source": [
    "nest = range(5, 101, 5)"
   ]
  },
  {
   "cell_type": "code",
   "execution_count": 80,
   "metadata": {},
   "outputs": [
    {
     "name": "stdout",
     "output_type": "stream",
     "text": [
      "n_estimators = 5 Train = 0.702406631423513 Test = 0.6848365964270224\n",
      "n_estimators = 10 Train = 0.7034287293895757 Test = 0.6855890625171406\n",
      "n_estimators = 15 Train = 0.7039241015718143 Test = 0.6858022569667457\n",
      "n_estimators = 20 Train = 0.7040824326034951 Test = 0.6862600038540368\n",
      "n_estimators = 25 Train = 0.7042282225951124 Test = 0.6864418515214423\n",
      "n_estimators = 30 Train = 0.7042736840327593 Test = 0.6863415217264544\n",
      "n_estimators = 35 Train = 0.7043473628259088 Test = 0.6864293105673861\n",
      "n_estimators = 40 Train = 0.7043661744290103 Test = 0.6862850885144709\n",
      "n_estimators = 45 Train = 0.704402230052819 Test = 0.6863666050107275\n",
      "n_estimators = 50 Train = 0.7044069329351632 Test = 0.6864104980550326\n",
      "n_estimators = 55 Train = 0.704416338736714 Test = 0.6864543938516592\n",
      "n_estimators = 60 Train = 0.7044163387121392 Test = 0.6863979582805427\n",
      "n_estimators = 65 Train = 0.7044304474328963 Test = 0.6863979592635149\n",
      "n_estimators = 70 Train = 0.7044398532221596 Test = 0.6865108274568315\n",
      "n_estimators = 75 Train = 0.7044523943113731 Test = 0.6865045568815062\n",
      "n_estimators = 80 Train = 0.7044461237606227 Test = 0.6865735320305179\n",
      "n_estimators = 85 Train = 0.7044508266798293 Test = 0.6865045557019398\n",
      "n_estimators = 90 Train = 0.7044508266798293 Test = 0.6865233684108876\n",
      "n_estimators = 95 Train = 0.7044523943236605 Test = 0.6865359093649438\n",
      "n_estimators = 100 Train = 0.7044555295867483 Test = 0.6864857441725584\n"
     ]
    },
    {
     "data": {
      "image/png": "[encoded data removed]",
      "text/plain": [
       "<Figure size 432x288 with 1 Axes>"
      ]
     },
     "metadata": {
      "needs_background": "light"
     },
     "output_type": "display_data"
    }
   ],
   "source": [
    "rf = RandomForestClassifier(n_estimators=10, random_state=33)\n",
    "train_scores, test_scores = calc_params(X_train, y_train, rf, nest, 'n_estimators', 5)"
   ]
  },
  {
   "cell_type": "code",
   "execution_count": 81,
   "metadata": {},
   "outputs": [
    {
     "name": "stdout",
     "output_type": "stream",
     "text": [
      "Accuracy:0.690 \n",
      "\n",
      "Classification report\n"
     ]
    },
    {
     "name": "stderr",
     "output_type": "stream",
     "text": [
      "/Users/srikanthnanduri/opt/anaconda3/lib/python3.7/site-packages/sklearn/metrics/_classification.py:1272: UndefinedMetricWarning: Precision and F-score are ill-defined and being set to 0.0 in labels with no predicted samples. Use `zero_division` parameter to control this behavior.\n",
      "  _warn_prf(average, modifier, msg_start, len(result))\n"
     ]
    },
    {
     "name": "stdout",
     "output_type": "stream",
     "text": [
      "                 precision    recall  f1-score   support\n",
      "\n",
      "American Indian       0.00      0.00      0.00        21\n",
      "          Asian       0.00      0.00      0.00       232\n",
      "       Biracial       0.00      0.00      0.00         7\n",
      "          Black       0.70      0.97      0.81     26602\n",
      "       Hispanic       0.56      0.25      0.34      7403\n",
      "        Unknown       0.00      0.00      0.00        59\n",
      "          White       0.67      0.00      0.00      5546\n",
      "\n",
      "       accuracy                           0.69     39870\n",
      "      macro avg       0.28      0.17      0.17     39870\n",
      "   weighted avg       0.67      0.69      0.61     39870\n",
      " \n",
      "\n",
      "Confussion matrix\n",
      "[[    0     0     0    21     0     0     0]\n",
      " [    0     0     0   213    19     0     0]\n",
      " [    0     0     0     7     0     0     0]\n",
      " [    0     0     0 25692   908     0     2]\n",
      " [    0     0     0  5588  1815     0     0]\n",
      " [    0     0     0    57     2     0     0]\n",
      " [    0     0     0  5067   475     0     4]] \n",
      "\n"
     ]
    }
   ],
   "source": [
    "rf = RandomForestClassifier(n_estimators=80, min_samples_leaf=4, max_depth=8)\n",
    "rf = rf.fit(X_train, y_train)\n",
    "\n",
    "measure_performance(X_test, y_test, rf)"
   ]
  },
  {
   "cell_type": "code",
   "execution_count": 82,
   "metadata": {},
   "outputs": [
    {
     "data": {
      "image/png": "[encoded data removed]",
      "text/plain": [
       "<Figure size 432x288 with 1 Axes>"
      ]
     },
     "metadata": {
      "needs_background": "light"
     },
     "output_type": "display_data"
    }
   ],
   "source": [
    "def plot_feature_importances(model, n_features, feature_names):\n",
    "    plt.barh(range(n_features), model.feature_importances_, align='center')\n",
    "    plt.yticks(np.arange(n_features), feature_names)\n",
    "    plt.xlabel(\"Feature importance\")\n",
    "    plt.ylabel(\"Feature\")\n",
    "    plt.ylim(-1, n_features)\n",
    "\n",
    "features = s.columns\n",
    "plot_feature_importances(rf, len(features), features)"
   ]
  },
  {
   "cell_type": "markdown",
   "metadata": {},
   "source": [
    "#### Based on the analysis, the Random Forest Classifier with the most optimized parameters generates a 69% accuracy in correctly classifying the data. This is not significantly different from the regular decision tree classifier. Moreover, the most important feature in correctly classifying the data are 'OFFENSE_CATEGORY_Narcotics', 'OFFENSE_CATEGORY_DUI', and 'COMMITMENT_TERM'. Lastly, the verdict of the sentencing did not provide any discernable value in classifying the data according."
   ]
  }
 ],
 "metadata": {
  "kernelspec": {
   "display_name": "Python 3",
   "language": "python",
   "name": "python3"
  },
  "language_info": {
   "codemirror_mode": {
    "name": "ipython",
    "version": 3
   },
   "file_extension": ".py",
   "mimetype": "text/x-python",
   "name": "python",
   "nbconvert_exporter": "python",
   "pygments_lexer": "ipython3",
   "version": "3.8.3"
  }
 },
 "nbformat": 4,
 "nbformat_minor": 4
}
