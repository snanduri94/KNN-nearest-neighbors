{
 "cells": [
  {
   "cell_type": "markdown",
   "metadata": {},
   "source": [
    "#### In light of the recent police violence instances that has caused uproar in the United States,  I wanted to learn and research about the topic to educate ourselves and, hopefully, the people around us. The data is structured (241659, 41). The data is not highly dimensional, but we definitely need to scrub through to ascertain a basic understanding as to what each feature entails."
   ]
  },
  {
   "cell_type": "code",
   "execution_count": 2,
   "metadata": {},
   "outputs": [],
   "source": [
    "#Import the basic libraries for exploratory analysis\n",
    "import os\n",
    "import numpy as np\n",
    "import pandas as pd"
   ]
  },
  {
   "cell_type": "markdown",
   "metadata": {},
   "source": [
    "# Initial Exploratory Analysis"
   ]
  },
  {
   "cell_type": "code",
   "execution_count": 3,
   "metadata": {},
   "outputs": [
    {
     "name": "stderr",
     "output_type": "stream",
     "text": [
      "/Users/srikanthnanduri/opt/anaconda3/lib/python3.7/site-packages/IPython/core/interactiveshell.py:3063: DtypeWarning: Columns (10,11,25) have mixed types.Specify dtype option on import or set low_memory=False.\n",
      "  interactivity=interactivity, compiler=compiler, result=result)\n"
     ]
    },
    {
     "data": {
      "text/plain": [
       "Index(['CASE_ID', 'CASE_PARTICIPANT_ID', 'RECEIVED_DATE', 'OFFENSE_CATEGORY',\n",
       "       'PRIMARY_CHARGE_FLAG', 'CHARGE_ID', 'CHARGE_VERSION_ID',\n",
       "       'DISPOSITION_CHARGED_OFFENSE_TITLE', 'CHARGE_COUNT', 'DISPOSITION_DATE',\n",
       "       'DISPOSITION_CHARGED_CHAPTER', 'DISPOSITION_CHARGED_ACT',\n",
       "       'DISPOSITION_CHARGED_SECTION', 'DISPOSITION_CHARGED_CLASS',\n",
       "       'DISPOSITION_CHARGED_AOIC', 'CHARGE_DISPOSITION',\n",
       "       'CHARGE_DISPOSITION_REASON', 'SENTENCE_JUDGE', 'SENTENCE_COURT_NAME',\n",
       "       'SENTENCE_COURT_FACILITY', 'SENTENCE_PHASE', 'SENTENCE_DATE',\n",
       "       'SENTENCE_TYPE', 'CURRENT_SENTENCE_FLAG', 'COMMITMENT_TYPE',\n",
       "       'COMMITMENT_TERM', 'COMMITMENT_UNIT', 'LENGTH_OF_CASE_in_Days',\n",
       "       'AGE_AT_INCIDENT', 'RACE', 'GENDER', 'INCIDENT_CITY',\n",
       "       'INCIDENT_BEGIN_DATE', 'INCIDENT_END_DATE', 'LAW_ENFORCEMENT_AGENCY',\n",
       "       'LAW_ENFORCEMENT_UNIT', 'ARREST_DATE', 'FELONY_REVIEW_DATE',\n",
       "       'FELONY_REVIEW_RESULT', 'ARRAIGNMENT_DATE', 'UPDATED_OFFENSE_CATEGORY'],\n",
       "      dtype='object')"
      ]
     },
     "execution_count": 3,
     "metadata": {},
     "output_type": "execute_result"
    }
   ],
   "source": [
    "#Read the Sentencing file\n",
    "sentencing = pd.read_csv(\"Sentencing.csv\")\n",
    "\n",
    "sentencing.columns\n"
   ]
  },
  {
   "cell_type": "code",
   "execution_count": 4,
   "metadata": {},
   "outputs": [
    {
     "data": {
      "text/plain": [
       "(241659, 41)"
      ]
     },
     "execution_count": 4,
     "metadata": {},
     "output_type": "execute_result"
    }
   ],
   "source": [
    "sentencing.shape"
   ]
  },
  {
   "cell_type": "markdown",
   "metadata": {},
   "source": [
    "#### My first goal is to understand what exactly the makeup of the data is. Specifically, key fields such as, 'RACE','GENDER', 'SENTENCE_PHASE', 'SENTENCE_TYPE', 'SENTENCE_JUDGE', 'COMMITMENT_TYPE', 'COMMITMENT_TERM', 'COMMITMENT_UNIT', 'OFFENSE_CATEGORY', 'UPDATED_OFFENSE_CATEGORY', 'INCIDENT_BEGIN_DATE', and 'ARRAIGNMENT_DATE' are a few of the columns or attributes that standout. \n",
    "\n",
    "#### This is for a few reasons:\n",
    "1. This will help us determine distribution of charges for RACE\n",
    "2. Understand the sentence type and offense committed\n",
    "3. The length of time between incident and arraignment\n",
    "4. The overall result of the hearing\n",
    "\n",
    "#### Through this exploratory analysis, other columns might become relevant to the analysis. We will go back and add additional information as required."
   ]
  },
  {
   "cell_type": "code",
   "execution_count": 5,
   "metadata": {},
   "outputs": [
    {
     "name": "stdout",
     "output_type": "stream",
     "text": [
      "Black                               160366\n",
      "White [Hispanic or Latino]           36657\n",
      "White                                34364\n",
      "HISPANIC                              5871\n",
      "Asian                                 1385\n",
      "White/Black [Hispanic or Latino]      1194\n",
      "Unknown                                343\n",
      "American Indian                        124\n",
      "ASIAN                                   65\n",
      "Biracial                                35\n",
      "Name: RACE, dtype: int64\n",
      " \n",
      "Male                          211862\n",
      "Female                         28981\n",
      "Unknown                            6\n",
      "Unknown Gender                     3\n",
      "Male name, no gender given         3\n",
      "Name: GENDER, dtype: int64\n",
      " \n",
      "Original Sentencing               231059\n",
      "Probation Violation Sentencing      6788\n",
      "Resentenced                         1912\n",
      "Amended/Corrected Sentencing        1587\n",
      "Remanded Sentencing                  309\n",
      "Summary Charge Info                    4\n",
      "Name: SENTENCE_PHASE, dtype: int64\n",
      " \n",
      "Prison                                   129197\n",
      "Probation                                 92032\n",
      "Jail                                       8011\n",
      "Conditional Discharge                      3477\n",
      "Cook County Boot Camp                      2764\n",
      "Supervision                                2477\n",
      "2nd Chance Probation                       2124\n",
      "Probation Terminated Unsatisfactorily       823\n",
      "Conversion                                  230\n",
      "Inpatient Mental Health Services            213\n",
      "Probation Terminated Instanter               92\n",
      "Conditional Release                          90\n",
      "Probation Terminated Satisfactorily          66\n",
      "Death                                        63\n",
      "Name: SENTENCE_TYPE, dtype: int64\n",
      " \n",
      "James B Linn           6276\n",
      "Nicholas R Ford        5340\n",
      "Colleen Ann Hyland     5069\n",
      "Charles P Burns        5044\n",
      "Thaddeus L Wilson      4539\n",
      "                       ... \n",
      "Marya  Nega               1\n",
      "Themis N Karnezis         1\n",
      "J  HYNES                  1\n",
      "James R Epstein           1\n",
      "Pamela E. Hill Veal       1\n",
      "Name: SENTENCE_JUDGE, Length: 328, dtype: int64\n",
      " \n",
      "Illinois Department of Corrections               130978\n",
      "Probation                                         76773\n",
      "Cook County Department of Corrections              6830\n",
      "710/410 Probation                                  6105\n",
      "Intensive Probation Services                       3756\n",
      "Conditional Discharge                              3125\n",
      "Cook County Boot Camp                              2351\n",
      "Mental Health Probation                            2332\n",
      "Court Supervision                                  2204\n",
      "Intensive Drug Probation Services                  1888\n",
      "Drug Court Probation                               1018\n",
      "Sex Offender Probation                              658\n",
      "Gang Probation                                      658\n",
      "2nd Chance Probation                                414\n",
      "Cook County Impact Incarceration Program            277\n",
      "Veteran's Court Probation                           224\n",
      "Inpatient Mental Health Services                    181\n",
      "Drug School                                          73\n",
      "Juvenile IDOC                                        54\n",
      "Conditional Release                                  29\n",
      "Domestic Violence Probation                          26\n",
      "Repeat Offender Probation                            25\n",
      "Natural Life                                         20\n",
      "Periodic Imprisonment                                10\n",
      "Death                                                 9\n",
      "Home Confinement                                      4\n",
      "Probation Terminated Unsatisfactorily                 2\n",
      "Vocational Rehabilitation Impact Center(VRIC)         1\n",
      "Probation Terminated Instanter                        1\n",
      "Name: COMMITMENT_TYPE, dtype: int64\n",
      " \n",
      "2.0      48803\n",
      "1.0      24784\n",
      "2        18856\n",
      "3.0      16135\n",
      "24.0     14230\n",
      "         ...  \n",
      "358          1\n",
      "251.0        1\n",
      "231          1\n",
      "169          1\n",
      "380.0        1\n",
      "Name: COMMITMENT_TERM, Length: 679, dtype: int64\n",
      " \n",
      "Year(s)         174355\n",
      "Months           55679\n",
      "Days              6798\n",
      "Term              2340\n",
      "Natural Life       714\n",
      "Dollars             72\n",
      "Hours               19\n",
      "Weeks               16\n",
      "Pounds               2\n",
      "Ounces               1\n",
      "Kilos                1\n",
      "Name: COMMITMENT_UNIT, dtype: int64\n",
      " \n",
      "Narcotics                       64836\n",
      "UUW - Unlawful Use of Weapon    25254\n",
      "Retail Theft                    14896\n",
      "Aggravated DUI                  14840\n",
      "Burglary                        11847\n",
      "                                ...  \n",
      "Tampering                          14\n",
      "Failure To Pay Child Support       13\n",
      "Gambling                           12\n",
      "Benefit Recipient Fraud             2\n",
      "Compelling Gang Membership          2\n",
      "Name: OFFENSE_CATEGORY, Length: 88, dtype: int64\n",
      " \n",
      "Narcotics                                 68186\n",
      "UUW - Unlawful Use of Weapon              25706\n",
      "Aggravated DUI                            18589\n",
      "Retail Theft                              14774\n",
      "Burglary                                  11459\n",
      "                                          ...  \n",
      "Pandering                                    10\n",
      "Arson and Attempt Arson                       5\n",
      "Violation of Sex Offender Registration        3\n",
      "Tampering                                     1\n",
      "Attempt Sex Crimes                            1\n",
      "Name: UPDATED_OFFENSE_CATEGORY, Length: 80, dtype: int64\n",
      " \n",
      "4/14/2011 12:00:00 AM    183\n",
      "8/10/2013 12:00:00 AM    168\n",
      "1/1/2012 12:00:00 AM     165\n",
      "8/1/2012 12:00:00 AM     164\n",
      "8/25/2011 12:00:00 AM    155\n",
      "                        ... \n",
      "7/7/2002 12:00:00 AM       1\n",
      "1/23/1912 12:00:00 AM      1\n",
      "4/20/2000 12:00:00 AM      1\n",
      "8/19/2003 12:00:00 AM      1\n",
      "1/30/2020 12:00:00 AM      1\n",
      "Name: INCIDENT_BEGIN_DATE, Length: 5670, dtype: int64\n",
      " \n",
      "9/3/2013 12:00:00 AM      269\n",
      "11/12/2013 12:00:00 AM    262\n",
      "10/10/2012 12:00:00 AM    248\n",
      "11/22/2011 12:00:00 AM    235\n",
      "2/19/2013 12:00:00 AM     233\n",
      "                         ... \n",
      "10/24/2006 12:00:00 AM      1\n",
      "1/22/2017 12:00:00 AM       1\n",
      "6/19/2008 12:00:00 AM       1\n",
      "3/12/2010 12:00:00 AM       1\n",
      "12/26/2015 12:00:00 AM      1\n",
      "Name: ARRAIGNMENT_DATE, Length: 3134, dtype: int64\n",
      " \n"
     ]
    }
   ],
   "source": [
    "a_lst = ['RACE','GENDER', 'SENTENCE_PHASE', 'SENTENCE_TYPE', \n",
    "         'SENTENCE_JUDGE', 'COMMITMENT_TYPE','COMMITMENT_TERM', \n",
    "         'COMMITMENT_UNIT', 'OFFENSE_CATEGORY', 'UPDATED_OFFENSE_CATEGORY', \n",
    "         'INCIDENT_BEGIN_DATE', 'ARRAIGNMENT_DATE']\n",
    "\n",
    "for i in a_lst:\n",
    "    print(sentencing[i].value_counts())\n",
    "    print(\" \")"
   ]
  },
  {
   "cell_type": "markdown",
   "metadata": {},
   "source": [
    "#### Based on the above, there are not very many columns that need significant cleaning. 'RACE', 'GENDER', 'COMMITMENT_TYPE' and 'COMMITMENT_TERM'."
   ]
  },
  {
   "cell_type": "code",
   "execution_count": 6,
   "metadata": {},
   "outputs": [
    {
     "data": {
      "text/plain": [
       "Black              160366\n",
       "Hispanic            43722\n",
       "White               34364\n",
       "Asian                1450\n",
       "Unknown               343\n",
       "American Indian       124\n",
       "Biracial               35\n",
       "Name: RACE, dtype: int64"
      ]
     },
     "execution_count": 6,
     "metadata": {},
     "output_type": "execute_result"
    }
   ],
   "source": [
    "rlst = ['White [Hispanic or Latino]', 'White/Black [Hispanic or Latino]', 'HISPANIC']\n",
    "for i in rlst:\n",
    "    sentencing['RACE'] = sentencing['RACE'].replace(i, 'Hispanic')\n",
    "\n",
    "#consolidating the ASIAN and Asian into one category\n",
    "sentencing['RACE'] = sentencing['RACE'].replace('ASIAN', 'Asian')\n",
    "\n",
    "sentencing['RACE'].value_counts()"
   ]
  },
  {
   "cell_type": "code",
   "execution_count": 7,
   "metadata": {},
   "outputs": [
    {
     "data": {
      "text/plain": [
       "Male       211862\n",
       "Female      28981\n",
       "Unknown        12\n",
       "Name: GENDER, dtype: int64"
      ]
     },
     "execution_count": 7,
     "metadata": {},
     "output_type": "execute_result"
    }
   ],
   "source": [
    "glst = ['Unknown', 'Unknown Gender', 'Male name, no gender given']\n",
    "for i in glst:\n",
    "    sentencing['GENDER'] = sentencing['GENDER'].replace(i, 'Unknown')\n",
    "\n",
    "sentencing['GENDER'].value_counts()"
   ]
  },
  {
   "cell_type": "code",
   "execution_count": 8,
   "metadata": {},
   "outputs": [
    {
     "data": {
      "text/plain": [
       "count     239997.0\n",
       "unique       679.0\n",
       "top            2.0\n",
       "freq       48803.0\n",
       "Name: COMMITMENT_TERM, dtype: float64"
      ]
     },
     "execution_count": 8,
     "metadata": {},
     "output_type": "execute_result"
    }
   ],
   "source": [
    "sentencing['COMMITMENT_TERM'].describe()"
   ]
  },
  {
   "cell_type": "code",
   "execution_count": 9,
   "metadata": {},
   "outputs": [
    {
     "data": {
      "text/plain": [
       "Illinois Department of Corrections               130978\n",
       "Probation                                         76773\n",
       "Cook County Department of Corrections              6830\n",
       "710/410 Probation                                  6105\n",
       "Intensive Probation Services                       3756\n",
       "Conditional Discharge                              3125\n",
       "Cook County Boot Camp                              2351\n",
       "Mental Health Probation                            2332\n",
       "Court Supervision                                  2204\n",
       "Intensive Drug Probation Services                  1888\n",
       "Drug Court Probation                               1018\n",
       "Sex Offender Probation                              658\n",
       "Gang Probation                                      658\n",
       "2nd Chance Probation                                414\n",
       "Cook County Impact Incarceration Program            277\n",
       "Veteran's Court Probation                           224\n",
       "Inpatient Mental Health Services                    181\n",
       "Drug School                                          73\n",
       "Juvenile IDOC                                        54\n",
       "Conditional Release                                  29\n",
       "Domestic Violence Probation                          26\n",
       "Repeat Offender Probation                            25\n",
       "Natural Life                                         20\n",
       "Periodic Imprisonment                                10\n",
       "Death                                                 9\n",
       "Home Confinement                                      4\n",
       "Probation Terminated Unsatisfactorily                 2\n",
       "Vocational Rehabilitation Impact Center(VRIC)         1\n",
       "Probation Terminated Instanter                        1\n",
       "Name: COMMITMENT_TYPE, dtype: int64"
      ]
     },
     "execution_count": 9,
     "metadata": {},
     "output_type": "execute_result"
    }
   ],
   "source": [
    "sentencing['COMMITMENT_TYPE'].value_counts()"
   ]
  },
  {
   "cell_type": "markdown",
   "metadata": {},
   "source": [
    "The three terms are difficult to manuever, primarily becauses the measurement is not standardized. We need to figure out how to make this more unified. One way would be to remove any fields that are less that 2% of the total population.\n"
   ]
  },
  {
   "cell_type": "code",
   "execution_count": 10,
   "metadata": {},
   "outputs": [
    {
     "data": {
      "text/plain": [
       "Drug Court Graduate                                     413\n",
       "PG to Other Count/s                                     151\n",
       "Mental Health Graduate                                  151\n",
       "Veteran's Court Graduate                                 35\n",
       "Proceeding on Other Count/s                              32\n",
       "Judgement & Conviction Vacated                           19\n",
       "Adjudicated Minor                                        16\n",
       "PG to Misdemeanor                                         6\n",
       "Proceeding on Other Case/s                                5\n",
       "Complaining Witness Not in Court                          4\n",
       "Re-Indictment                                             4\n",
       "Motion to Quash Arrest & Suppress Evidence/Sustained      3\n",
       "Nolle - AONIC                                             2\n",
       "Deferred Prosecution Program Completed                    2\n",
       "Name: CHARGE_DISPOSITION_REASON, dtype: int64"
      ]
     },
     "execution_count": 10,
     "metadata": {},
     "output_type": "execute_result"
    }
   ],
   "source": [
    "sentencing['CHARGE_DISPOSITION_REASON'].value_counts()"
   ]
  },
  {
   "cell_type": "code",
   "execution_count": 11,
   "metadata": {},
   "outputs": [
    {
     "data": {
      "text/plain": [
       "Year(s)         174355\n",
       "Months           55679\n",
       "Days              6798\n",
       "Term              2340\n",
       "Natural Life       714\n",
       "Dollars             72\n",
       "Hours               19\n",
       "Weeks               16\n",
       "Pounds               2\n",
       "Ounces               1\n",
       "Kilos                1\n",
       "Name: COMMITMENT_UNIT, dtype: int64"
      ]
     },
     "execution_count": 11,
     "metadata": {},
     "output_type": "execute_result"
    }
   ],
   "source": [
    "sentencing['COMMITMENT_UNIT'].value_counts()"
   ]
  },
  {
   "cell_type": "markdown",
   "metadata": {},
   "source": [
    "# Data Cleaning: Commitment Term and Commitment Unit"
   ]
  },
  {
   "cell_type": "markdown",
   "metadata": {},
   "source": [
    "#### Next step is to standardize the values from above. The easiest method of measurement would be to stick with years becuase it will be the largest increment of measurement. Therefore, I will begin with first removing the unnecessary fields such as 'Pounds','Ounces' and 'Kilos'. Collectively, Dollars through Kilos make up an insignificant amount of the total population."
   ]
  },
  {
   "cell_type": "code",
   "execution_count": 12,
   "metadata": {},
   "outputs": [
    {
     "data": {
      "text/plain": [
       "(241659, 41)"
      ]
     },
     "execution_count": 12,
     "metadata": {},
     "output_type": "execute_result"
    }
   ],
   "source": [
    "sentencing.shape"
   ]
  },
  {
   "cell_type": "code",
   "execution_count": 13,
   "metadata": {},
   "outputs": [
    {
     "data": {
      "text/plain": [
       "0"
      ]
     },
     "execution_count": 13,
     "metadata": {},
     "output_type": "execute_result"
    }
   ],
   "source": [
    "#Dealing with Dollars, Pounds, Ounces and Kilos\n",
    "rlst = ['Dollars','Pounds','Ounces','Kilos']\n",
    "\n",
    "for i in rlst:\n",
    "    sentencing['COMMITMENT_UNIT'] = sentencing['COMMITMENT_UNIT'].replace(i,np.nan)\n",
    "\n",
    "sentencing['COMMITMENT_UNIT'].dropna(axis = 0, inplace = True)\n",
    "sentencing['COMMITMENT_UNIT'].isnull().sum()"
   ]
  },
  {
   "cell_type": "markdown",
   "metadata": {},
   "source": [
    "Dealing with the time attributes will be tricky because I am going to need to update the COMMITMENT_TERM column first based on the unit value. Then, I can convert replace the unit values so everything is standardized to 'Years'."
   ]
  },
  {
   "cell_type": "code",
   "execution_count": 14,
   "metadata": {},
   "outputs": [
    {
     "data": {
      "text/plain": [
       "Year(s)         174355\n",
       "Months           55679\n",
       "Days              6798\n",
       "Term              2340\n",
       "Natural Life       714\n",
       "Hours               19\n",
       "Weeks               16\n",
       "Name: COMMITMENT_UNIT, dtype: int64"
      ]
     },
     "execution_count": 14,
     "metadata": {},
     "output_type": "execute_result"
    }
   ],
   "source": [
    "sentencing['COMMITMENT_UNIT'].value_counts()"
   ]
  },
  {
   "cell_type": "code",
   "execution_count": 15,
   "metadata": {},
   "outputs": [
    {
     "data": {
      "text/plain": [
       "0      10\n",
       "1      26\n",
       "2      26\n",
       "3      26\n",
       "4       1\n",
       "5     NaN\n",
       "6       5\n",
       "7       2\n",
       "8       5\n",
       "9       2\n",
       "10      0\n",
       "11      0\n",
       "12     30\n",
       "13      0\n",
       "14     75\n",
       "15     75\n",
       "16     75\n",
       "17     75\n",
       "18     75\n",
       "19     75\n",
       "Name: COMMITMENT_TERM, dtype: object"
      ]
     },
     "execution_count": 15,
     "metadata": {},
     "output_type": "execute_result"
    }
   ],
   "source": [
    "sentencing['COMMITMENT_TERM'].head(20)"
   ]
  },
  {
   "cell_type": "code",
   "execution_count": 16,
   "metadata": {},
   "outputs": [
    {
     "data": {
      "text/plain": [
       "(241659,)"
      ]
     },
     "execution_count": 16,
     "metadata": {},
     "output_type": "execute_result"
    }
   ],
   "source": [
    "sentencing['COMMITMENT_TERM'].shape"
   ]
  },
  {
   "cell_type": "code",
   "execution_count": 17,
   "metadata": {
    "scrolled": true
   },
   "outputs": [
    {
     "data": {
      "text/plain": [
       "count    2.399970e+05\n",
       "mean     2.878190e+01\n",
       "std      5.865984e+03\n",
       "min      0.000000e+00\n",
       "25%      2.000000e+00\n",
       "50%      3.000000e+00\n",
       "75%      1.800000e+01\n",
       "max      2.032012e+06\n",
       "Name: COMMITMENT_TERM, dtype: float64"
      ]
     },
     "execution_count": 17,
     "metadata": {},
     "output_type": "execute_result"
    }
   ],
   "source": [
    "sentencing['COMMITMENT_TERM'] = sentencing['COMMITMENT_TERM'].replace(r'^\\s*$', np.NaN, regex=True)\n",
    "\n",
    "sentencing['COMMITMENT_TERM'] = sentencing['COMMITMENT_TERM'].replace('18 months', 18)\n",
    "sentencing['COMMITMENT_TERM'] = sentencing['COMMITMENT_TERM'].replace('30 months', 18)\n",
    "sentencing['COMMITMENT_TERM'] = sentencing['COMMITMENT_TERM'].replace('two', 2)\n",
    "sentencing['COMMITMENT_TERM'] = sentencing['COMMITMENT_TERM'].replace('24 wrap', 24)\n",
    "sentencing['COMMITMENT_TERM'] = sentencing['COMMITMENT_TERM'].replace(\"1,154.00\", 1154.00)\n",
    "sentencing['COMMITMENT_TERM'] = sentencing['COMMITMENT_TERM'].replace(\"2`\", 2)\n",
    "\n",
    "sentencing['COMMITMENT_TERM'] = sentencing['COMMITMENT_TERM'].astype(float)\n",
    "sentencing['COMMITMENT_TERM'].describe()"
   ]
  },
  {
   "cell_type": "code",
   "execution_count": 18,
   "metadata": {},
   "outputs": [],
   "source": [
    "sen_chg = sentencing.loc[:,[\"COMMITMENT_TERM\",\"COMMITMENT_UNIT\"]]\n",
    "sen_chg.head()\n",
    "\n",
    "#df.A = np.where(df.A.eq(0), df.B, df.A)\n",
    "\n",
    "#Months\n",
    "sen_chg.COMMITMENT_TERM = np.where(sen_chg.COMMITMENT_UNIT.eq(\"Months\"), sen_chg['COMMITMENT_TERM']/12, sen_chg['COMMITMENT_TERM'])\n",
    "\n",
    "#Days\n",
    "sen_chg.COMMITMENT_TERM = np.where(sen_chg.COMMITMENT_UNIT.eq(\"Days\"), sen_chg['COMMITMENT_TERM']/365, sen_chg['COMMITMENT_TERM'])\n",
    "\n",
    "\n",
    "#Hours\n",
    "sen_chg.COMMITMENT_TERM = np.where(sen_chg.COMMITMENT_UNIT.eq(\"Hours\"), sen_chg['COMMITMENT_TERM']/24/365, sen_chg['COMMITMENT_TERM'])\n",
    "\n",
    "#Weeks\n",
    "sen_chg.COMMITMENT_TERM = np.where(sen_chg.COMMITMENT_UNIT.eq(\"Weeks\"), sen_chg['COMMITMENT_TERM']/52, sen_chg['COMMITMENT_TERM'])\n",
    "sen_chg.COMMITMENT_UNIT.value_counts()\n",
    "\n",
    "termLst = [\"Months\", \"Days\", \"Hours\", \"Weeks\"]\n",
    "\n",
    "for i in termLst:\n",
    "    sen_chg['COMMITMENT_UNIT'] = sen_chg[\"COMMITMENT_UNIT\"].replace(i, \"Year(s)\")\n"
   ]
  },
  {
   "cell_type": "code",
   "execution_count": 19,
   "metadata": {},
   "outputs": [
    {
     "data": {
      "text/plain": [
       "0    10.0\n",
       "1    26.0\n",
       "2    26.0\n",
       "3    26.0\n",
       "4     1.0\n",
       "Name: COMMITMENT_TERM, dtype: float64"
      ]
     },
     "execution_count": 19,
     "metadata": {},
     "output_type": "execute_result"
    }
   ],
   "source": [
    "sen_chg.COMMITMENT_UNIT.value_counts()\n",
    "sen_chg.COMMITMENT_TERM.head()"
   ]
  },
  {
   "cell_type": "markdown",
   "metadata": {},
   "source": [
    "To clean up the 'Term' and 'Natural Life', we are going to need to understand the measurement standard. Starting with natural life, we need to consider the average lifespan of a man and woman and use that as measuring tool to calculate the length of their sentence. We need to do a few cleaning procedures to 'age_at_incident' column, add it to the sen_chg dataframe and calculate the number of years. However, this makes up less than 0.2% of the population, but a good data cleaning exercise."
   ]
  },
  {
   "cell_type": "code",
   "execution_count": 20,
   "metadata": {},
   "outputs": [
    {
     "data": {
      "text/plain": [
       "COMMITMENT_TERM    1662\n",
       "COMMITMENT_UNIT    1738\n",
       "AGE_AT_INCIDENT    9449\n",
       "dtype: int64"
      ]
     },
     "execution_count": 20,
     "metadata": {},
     "output_type": "execute_result"
    }
   ],
   "source": [
    "sentencing[\"AGE_AT_INCIDENT\"].astype(float)\n",
    "sentencing.replace(r'^\\s*$', np.nan, regex = True)\n",
    "\n",
    "sen_chg[\"AGE_AT_INCIDENT\"] = sentencing[\"AGE_AT_INCIDENT\"]\n",
    "\n",
    "sd = sen_chg[sen_chg[\"AGE_AT_INCIDENT\"].notnull()]\n",
    "\n",
    "age_mean = round(sen_chg[\"AGE_AT_INCIDENT\"].notnull().mean(), 2)\n",
    "\n",
    "sen_chg.isnull().sum()"
   ]
  },
  {
   "cell_type": "code",
   "execution_count": 21,
   "metadata": {},
   "outputs": [
    {
     "data": {
      "text/plain": [
       "COMMITMENT_TERM    1662\n",
       "COMMITMENT_UNIT    1738\n",
       "AGE_AT_INCIDENT       0\n",
       "dtype: int64"
      ]
     },
     "execution_count": 21,
     "metadata": {},
     "output_type": "execute_result"
    }
   ],
   "source": [
    "sen_chg[\"AGE_AT_INCIDENT\"] = sen_chg[\"AGE_AT_INCIDENT\"].replace(np.nan, 32.29)\n",
    "\n",
    "sen_chg.isnull().sum()"
   ]
  },
  {
   "cell_type": "code",
   "execution_count": 22,
   "metadata": {},
   "outputs": [
    {
     "data": {
      "text/plain": [
       "Year(s)    237581\n",
       "Term         2340\n",
       "Name: COMMITMENT_UNIT, dtype: int64"
      ]
     },
     "execution_count": 22,
     "metadata": {},
     "output_type": "execute_result"
    }
   ],
   "source": [
    "#Men's life expectancy in Illinois is 78.86. So we will subtract the actual age of the individual from the average \n",
    "#life expectancy\n",
    "\n",
    "age_exp = 78.86\n",
    "\n",
    "sen_chg.COMMITMENT_TERM.head()\n",
    "\n",
    "sen_chg.COMMITMENT_TERM = np.where(sen_chg.COMMITMENT_UNIT.eq(\"Natural Life\"), \n",
    "                                    age_exp - sen_chg.AGE_AT_INCIDENT, sen_chg.COMMITMENT_TERM)\n",
    "\n",
    "sen_chg['COMMITMENT_UNIT'] = sen_chg[\"COMMITMENT_UNIT\"].replace(\"Natural Life\", \"Year(s)\")\n",
    "sen_chg['COMMITMENT_UNIT'].value_counts()\n"
   ]
  },
  {
   "cell_type": "markdown",
   "metadata": {},
   "source": [
    "#### As term is difficult to determine with finite time and the charges vary from one offense to another, we attempted reviewing the details to see what the values were, but it seems that the COMMITMENT_TERM shows binary value. As this only represents <1% of the population, we are going to drop theme from the dataframe."
   ]
  },
  {
   "cell_type": "code",
   "execution_count": 23,
   "metadata": {},
   "outputs": [],
   "source": [
    "colLst = [\"COMMITMENT_UNIT\", \"COMMITMENT_TERM\", \"AGE_AT_INCIDENT\"]\n",
    "for i in colLst:\n",
    "    sentencing[i] = sen_chg[i]"
   ]
  },
  {
   "cell_type": "code",
   "execution_count": 24,
   "metadata": {},
   "outputs": [
    {
     "data": {
      "text/plain": [
       "0         10.0\n",
       "1         26.0\n",
       "2         26.0\n",
       "3         26.0\n",
       "4          1.0\n",
       "          ... \n",
       "241654     2.0\n",
       "241655     6.0\n",
       "241656     6.0\n",
       "241657     6.0\n",
       "241658     2.0\n",
       "Name: COMMITMENT_TERM, Length: 237657, dtype: float64"
      ]
     },
     "execution_count": 24,
     "metadata": {},
     "output_type": "execute_result"
    }
   ],
   "source": [
    "sentencing[\"COMMITMENT_TERM\"] = np.where(sentencing[\"COMMITMENT_UNIT\"].eq(\"Term\"), \n",
    "                                         np.nan, sentencing[\"COMMITMENT_TERM\"])\n",
    "sentencing[\"COMMITMENT_TERM\"].dropna()"
   ]
  },
  {
   "cell_type": "code",
   "execution_count": 25,
   "metadata": {},
   "outputs": [
    {
     "data": {
      "text/html": [
       "<div>\n",
       "<style scoped>\n",
       "    .dataframe tbody tr th:only-of-type {\n",
       "        vertical-align: middle;\n",
       "    }\n",
       "\n",
       "    .dataframe tbody tr th {\n",
       "        vertical-align: top;\n",
       "    }\n",
       "\n",
       "    .dataframe thead th {\n",
       "        text-align: right;\n",
       "    }\n",
       "</style>\n",
       "<table border=\"1\" class=\"dataframe\">\n",
       "  <thead>\n",
       "    <tr style=\"text-align: right;\">\n",
       "      <th></th>\n",
       "      <th>CASE_ID</th>\n",
       "      <th>CASE_PARTICIPANT_ID</th>\n",
       "      <th>RECEIVED_DATE</th>\n",
       "      <th>OFFENSE_CATEGORY</th>\n",
       "      <th>PRIMARY_CHARGE_FLAG</th>\n",
       "      <th>CHARGE_ID</th>\n",
       "      <th>CHARGE_VERSION_ID</th>\n",
       "      <th>DISPOSITION_CHARGED_OFFENSE_TITLE</th>\n",
       "      <th>CHARGE_COUNT</th>\n",
       "      <th>DISPOSITION_DATE</th>\n",
       "      <th>...</th>\n",
       "      <th>INCIDENT_CITY</th>\n",
       "      <th>INCIDENT_BEGIN_DATE</th>\n",
       "      <th>INCIDENT_END_DATE</th>\n",
       "      <th>LAW_ENFORCEMENT_AGENCY</th>\n",
       "      <th>LAW_ENFORCEMENT_UNIT</th>\n",
       "      <th>ARREST_DATE</th>\n",
       "      <th>FELONY_REVIEW_DATE</th>\n",
       "      <th>FELONY_REVIEW_RESULT</th>\n",
       "      <th>ARRAIGNMENT_DATE</th>\n",
       "      <th>UPDATED_OFFENSE_CATEGORY</th>\n",
       "    </tr>\n",
       "  </thead>\n",
       "  <tbody>\n",
       "    <tr>\n",
       "      <th>0</th>\n",
       "      <td>388416976380</td>\n",
       "      <td>131818052297</td>\n",
       "      <td>10/10/2008 12:00:00 AM</td>\n",
       "      <td>PROMIS Conversion</td>\n",
       "      <td>True</td>\n",
       "      <td>100146244186</td>\n",
       "      <td>128099542174</td>\n",
       "      <td>ARMED ROBBERY</td>\n",
       "      <td>1</td>\n",
       "      <td>6/19/2012 12:00:00 AM</td>\n",
       "      <td>...</td>\n",
       "      <td>NaN</td>\n",
       "      <td>10/8/2008 12:00:00 AM</td>\n",
       "      <td>NaN</td>\n",
       "      <td>PROMIS Data Conversion</td>\n",
       "      <td>NaN</td>\n",
       "      <td>10/8/2008 11:45:00 PM</td>\n",
       "      <td>10/10/2008 12:00:00 AM</td>\n",
       "      <td>Charge(S) Approved</td>\n",
       "      <td>11/20/2008 12:00:00 AM</td>\n",
       "      <td>PROMIS Conversion</td>\n",
       "    </tr>\n",
       "    <tr>\n",
       "      <th>1</th>\n",
       "      <td>388421850391</td>\n",
       "      <td>126135811747</td>\n",
       "      <td>5/6/2007 12:00:00 AM</td>\n",
       "      <td>PROMIS Conversion</td>\n",
       "      <td>False</td>\n",
       "      <td>88007585793</td>\n",
       "      <td>132242146381</td>\n",
       "      <td>ATTEMPT FIRST DEGREE MURDER</td>\n",
       "      <td>3</td>\n",
       "      <td>6/6/2011 12:00:00 AM</td>\n",
       "      <td>...</td>\n",
       "      <td>NaN</td>\n",
       "      <td>5/5/2007 12:00:00 AM</td>\n",
       "      <td>NaN</td>\n",
       "      <td>MARKHAM POLICE DEPARTMENT</td>\n",
       "      <td>NaN</td>\n",
       "      <td>5/5/2007 2:07:00 AM</td>\n",
       "      <td>05/06/2007 12:00:00 AM</td>\n",
       "      <td>Charge(S) Approved</td>\n",
       "      <td>6/12/2007 12:00:00 AM</td>\n",
       "      <td>Domestic Battery</td>\n",
       "    </tr>\n",
       "    <tr>\n",
       "      <th>2</th>\n",
       "      <td>388421850391</td>\n",
       "      <td>126135811747</td>\n",
       "      <td>5/6/2007 12:00:00 AM</td>\n",
       "      <td>PROMIS Conversion</td>\n",
       "      <td>False</td>\n",
       "      <td>88007685791</td>\n",
       "      <td>132242545514</td>\n",
       "      <td>ATTEMPT FIRST DEGREE MURDER</td>\n",
       "      <td>5</td>\n",
       "      <td>6/6/2011 12:00:00 AM</td>\n",
       "      <td>...</td>\n",
       "      <td>NaN</td>\n",
       "      <td>5/5/2007 12:00:00 AM</td>\n",
       "      <td>NaN</td>\n",
       "      <td>MARKHAM POLICE DEPARTMENT</td>\n",
       "      <td>NaN</td>\n",
       "      <td>5/5/2007 2:07:00 AM</td>\n",
       "      <td>05/06/2007 12:00:00 AM</td>\n",
       "      <td>Charge(S) Approved</td>\n",
       "      <td>6/12/2007 12:00:00 AM</td>\n",
       "      <td>Domestic Battery</td>\n",
       "    </tr>\n",
       "    <tr>\n",
       "      <th>3</th>\n",
       "      <td>388421850391</td>\n",
       "      <td>126135811747</td>\n",
       "      <td>5/6/2007 12:00:00 AM</td>\n",
       "      <td>PROMIS Conversion</td>\n",
       "      <td>True</td>\n",
       "      <td>88007485795</td>\n",
       "      <td>132240264752</td>\n",
       "      <td>ATTEMPT FIRST DEGREE MURDER</td>\n",
       "      <td>1</td>\n",
       "      <td>6/6/2011 12:00:00 AM</td>\n",
       "      <td>...</td>\n",
       "      <td>NaN</td>\n",
       "      <td>5/5/2007 12:00:00 AM</td>\n",
       "      <td>NaN</td>\n",
       "      <td>MARKHAM POLICE DEPARTMENT</td>\n",
       "      <td>NaN</td>\n",
       "      <td>5/5/2007 2:07:00 AM</td>\n",
       "      <td>05/06/2007 12:00:00 AM</td>\n",
       "      <td>Charge(S) Approved</td>\n",
       "      <td>6/12/2007 12:00:00 AM</td>\n",
       "      <td>Domestic Battery</td>\n",
       "    </tr>\n",
       "    <tr>\n",
       "      <th>4</th>\n",
       "      <td>388456780803</td>\n",
       "      <td>131287533968</td>\n",
       "      <td>12/4/2008 12:00:00 AM</td>\n",
       "      <td>PROMIS Conversion</td>\n",
       "      <td>True</td>\n",
       "      <td>99773703135</td>\n",
       "      <td>86932879710</td>\n",
       "      <td>REVOKED/SUSPENDED 2ND+ DUI</td>\n",
       "      <td>1</td>\n",
       "      <td>4/5/2011 12:00:00 AM</td>\n",
       "      <td>...</td>\n",
       "      <td>NaN</td>\n",
       "      <td>12/3/2008 12:00:00 AM</td>\n",
       "      <td>12/3/2008 12:00:00 AM</td>\n",
       "      <td>RIVER FOREST POLICE DEPARTMENT</td>\n",
       "      <td>NaN</td>\n",
       "      <td>12/3/2008 4:13:00 AM</td>\n",
       "      <td>12/04/2008 12:00:00 AM</td>\n",
       "      <td>Charge(S) Approved</td>\n",
       "      <td>NaN</td>\n",
       "      <td>PROMIS Conversion</td>\n",
       "    </tr>\n",
       "    <tr>\n",
       "      <th>...</th>\n",
       "      <td>...</td>\n",
       "      <td>...</td>\n",
       "      <td>...</td>\n",
       "      <td>...</td>\n",
       "      <td>...</td>\n",
       "      <td>...</td>\n",
       "      <td>...</td>\n",
       "      <td>...</td>\n",
       "      <td>...</td>\n",
       "      <td>...</td>\n",
       "      <td>...</td>\n",
       "      <td>...</td>\n",
       "      <td>...</td>\n",
       "      <td>...</td>\n",
       "      <td>...</td>\n",
       "      <td>...</td>\n",
       "      <td>...</td>\n",
       "      <td>...</td>\n",
       "      <td>...</td>\n",
       "      <td>...</td>\n",
       "      <td>...</td>\n",
       "    </tr>\n",
       "    <tr>\n",
       "      <th>10852</th>\n",
       "      <td>693644333108</td>\n",
       "      <td>97739802000</td>\n",
       "      <td>9/23/1999 12:00:00 AM</td>\n",
       "      <td>PROMIS Conversion</td>\n",
       "      <td>True</td>\n",
       "      <td>179980876318</td>\n",
       "      <td>390871496190</td>\n",
       "      <td>ATTEMPT POSSESSION OF A CONTROLLED SUBSTANCE</td>\n",
       "      <td>1</td>\n",
       "      <td>4/21/2011 12:00:00 AM</td>\n",
       "      <td>...</td>\n",
       "      <td>NaN</td>\n",
       "      <td>9/22/1999 12:00:00 AM</td>\n",
       "      <td>NaN</td>\n",
       "      <td>C P D AREA 5 DIST 14</td>\n",
       "      <td>NaN</td>\n",
       "      <td>9/22/1999 7:00:00 PM</td>\n",
       "      <td>NaN</td>\n",
       "      <td>NaN</td>\n",
       "      <td>NaN</td>\n",
       "      <td>Narcotics</td>\n",
       "    </tr>\n",
       "    <tr>\n",
       "      <th>10853</th>\n",
       "      <td>693881805755</td>\n",
       "      <td>98182460039</td>\n",
       "      <td>12/16/1999 12:00:00 AM</td>\n",
       "      <td>PROMIS Conversion</td>\n",
       "      <td>False</td>\n",
       "      <td>180146922329</td>\n",
       "      <td>84533461549</td>\n",
       "      <td>AGGRAVATED DUI/GREAT BODILY HARM(INACTIVE 12-2...</td>\n",
       "      <td>2</td>\n",
       "      <td>1/5/2011 12:00:00 AM</td>\n",
       "      <td>...</td>\n",
       "      <td>NaN</td>\n",
       "      <td>12/9/1999 12:00:00 AM</td>\n",
       "      <td>NaN</td>\n",
       "      <td>C P D AREA 1 DIST 7</td>\n",
       "      <td>NaN</td>\n",
       "      <td>12/9/1999 5:10:00 AM</td>\n",
       "      <td>NaN</td>\n",
       "      <td>NaN</td>\n",
       "      <td>NaN</td>\n",
       "      <td>PROMIS Conversion</td>\n",
       "    </tr>\n",
       "    <tr>\n",
       "      <th>10854</th>\n",
       "      <td>693881805755</td>\n",
       "      <td>98182460039</td>\n",
       "      <td>12/16/1999 12:00:00 AM</td>\n",
       "      <td>PROMIS Conversion</td>\n",
       "      <td>True</td>\n",
       "      <td>180146872330</td>\n",
       "      <td>84533347511</td>\n",
       "      <td>AGGRAVATED DUI/GREAT BODILY HARM(INACTIVE 12-2...</td>\n",
       "      <td>1</td>\n",
       "      <td>1/5/2011 12:00:00 AM</td>\n",
       "      <td>...</td>\n",
       "      <td>NaN</td>\n",
       "      <td>12/9/1999 12:00:00 AM</td>\n",
       "      <td>NaN</td>\n",
       "      <td>C P D AREA 1 DIST 7</td>\n",
       "      <td>NaN</td>\n",
       "      <td>12/9/1999 5:10:00 AM</td>\n",
       "      <td>NaN</td>\n",
       "      <td>NaN</td>\n",
       "      <td>NaN</td>\n",
       "      <td>PROMIS Conversion</td>\n",
       "    </tr>\n",
       "    <tr>\n",
       "      <th>10855</th>\n",
       "      <td>694294201241</td>\n",
       "      <td>98129225655</td>\n",
       "      <td>3/1/2000 12:00:00 AM</td>\n",
       "      <td>PROMIS Conversion</td>\n",
       "      <td>True</td>\n",
       "      <td>180928853545</td>\n",
       "      <td>433756598437</td>\n",
       "      <td>CRIMINAL TRESPASS TO VEHICLES</td>\n",
       "      <td>1</td>\n",
       "      <td>6/24/2014 12:00:00 AM</td>\n",
       "      <td>...</td>\n",
       "      <td>NaN</td>\n",
       "      <td>2/29/2000 12:00:00 AM</td>\n",
       "      <td>NaN</td>\n",
       "      <td>C P D AREA 2 DIST 22</td>\n",
       "      <td>NaN</td>\n",
       "      <td>2/29/2000 11:15:00 PM</td>\n",
       "      <td>03/01/2000 12:00:00 AM</td>\n",
       "      <td>Charge(S) Approved</td>\n",
       "      <td>NaN</td>\n",
       "      <td>PROMIS Conversion</td>\n",
       "    </tr>\n",
       "    <tr>\n",
       "      <th>10856</th>\n",
       "      <td>695519744228</td>\n",
       "      <td>105371221890</td>\n",
       "      <td>9/25/1999 12:00:00 AM</td>\n",
       "      <td>PROMIS Conversion</td>\n",
       "      <td>True</td>\n",
       "      <td>326133365296</td>\n",
       "      <td>358258829887</td>\n",
       "      <td>POSSESSION OF A CONTROLLED SUBSTANCE</td>\n",
       "      <td>1</td>\n",
       "      <td>7/19/2012 12:00:00 AM</td>\n",
       "      <td>...</td>\n",
       "      <td>NaN</td>\n",
       "      <td>9/25/1999 12:00:00 AM</td>\n",
       "      <td>NaN</td>\n",
       "      <td>ELGIN POLICE DEPARTMENT</td>\n",
       "      <td>NaN</td>\n",
       "      <td>9/25/1999 12:00:00 AM</td>\n",
       "      <td>09/25/1999 12:00:00 AM</td>\n",
       "      <td>Charge(S) Approved</td>\n",
       "      <td>7/19/2012 12:00:00 AM</td>\n",
       "      <td>Narcotics</td>\n",
       "    </tr>\n",
       "  </tbody>\n",
       "</table>\n",
       "<p>10712 rows × 41 columns</p>\n",
       "</div>"
      ],
      "text/plain": [
       "            CASE_ID  CASE_PARTICIPANT_ID           RECEIVED_DATE  \\\n",
       "0      388416976380         131818052297  10/10/2008 12:00:00 AM   \n",
       "1      388421850391         126135811747    5/6/2007 12:00:00 AM   \n",
       "2      388421850391         126135811747    5/6/2007 12:00:00 AM   \n",
       "3      388421850391         126135811747    5/6/2007 12:00:00 AM   \n",
       "4      388456780803         131287533968   12/4/2008 12:00:00 AM   \n",
       "...             ...                  ...                     ...   \n",
       "10852  693644333108          97739802000   9/23/1999 12:00:00 AM   \n",
       "10853  693881805755          98182460039  12/16/1999 12:00:00 AM   \n",
       "10854  693881805755          98182460039  12/16/1999 12:00:00 AM   \n",
       "10855  694294201241          98129225655    3/1/2000 12:00:00 AM   \n",
       "10856  695519744228         105371221890   9/25/1999 12:00:00 AM   \n",
       "\n",
       "        OFFENSE_CATEGORY  PRIMARY_CHARGE_FLAG     CHARGE_ID  \\\n",
       "0      PROMIS Conversion                 True  100146244186   \n",
       "1      PROMIS Conversion                False   88007585793   \n",
       "2      PROMIS Conversion                False   88007685791   \n",
       "3      PROMIS Conversion                 True   88007485795   \n",
       "4      PROMIS Conversion                 True   99773703135   \n",
       "...                  ...                  ...           ...   \n",
       "10852  PROMIS Conversion                 True  179980876318   \n",
       "10853  PROMIS Conversion                False  180146922329   \n",
       "10854  PROMIS Conversion                 True  180146872330   \n",
       "10855  PROMIS Conversion                 True  180928853545   \n",
       "10856  PROMIS Conversion                 True  326133365296   \n",
       "\n",
       "       CHARGE_VERSION_ID                  DISPOSITION_CHARGED_OFFENSE_TITLE  \\\n",
       "0           128099542174                                      ARMED ROBBERY   \n",
       "1           132242146381                        ATTEMPT FIRST DEGREE MURDER   \n",
       "2           132242545514                        ATTEMPT FIRST DEGREE MURDER   \n",
       "3           132240264752                        ATTEMPT FIRST DEGREE MURDER   \n",
       "4            86932879710                         REVOKED/SUSPENDED 2ND+ DUI   \n",
       "...                  ...                                                ...   \n",
       "10852       390871496190       ATTEMPT POSSESSION OF A CONTROLLED SUBSTANCE   \n",
       "10853        84533461549  AGGRAVATED DUI/GREAT BODILY HARM(INACTIVE 12-2...   \n",
       "10854        84533347511  AGGRAVATED DUI/GREAT BODILY HARM(INACTIVE 12-2...   \n",
       "10855       433756598437                      CRIMINAL TRESPASS TO VEHICLES   \n",
       "10856       358258829887               POSSESSION OF A CONTROLLED SUBSTANCE   \n",
       "\n",
       "       CHARGE_COUNT       DISPOSITION_DATE  ... INCIDENT_CITY  \\\n",
       "0                 1  6/19/2012 12:00:00 AM  ...           NaN   \n",
       "1                 3   6/6/2011 12:00:00 AM  ...           NaN   \n",
       "2                 5   6/6/2011 12:00:00 AM  ...           NaN   \n",
       "3                 1   6/6/2011 12:00:00 AM  ...           NaN   \n",
       "4                 1   4/5/2011 12:00:00 AM  ...           NaN   \n",
       "...             ...                    ...  ...           ...   \n",
       "10852             1  4/21/2011 12:00:00 AM  ...           NaN   \n",
       "10853             2   1/5/2011 12:00:00 AM  ...           NaN   \n",
       "10854             1   1/5/2011 12:00:00 AM  ...           NaN   \n",
       "10855             1  6/24/2014 12:00:00 AM  ...           NaN   \n",
       "10856             1  7/19/2012 12:00:00 AM  ...           NaN   \n",
       "\n",
       "         INCIDENT_BEGIN_DATE      INCIDENT_END_DATE  \\\n",
       "0      10/8/2008 12:00:00 AM                    NaN   \n",
       "1       5/5/2007 12:00:00 AM                    NaN   \n",
       "2       5/5/2007 12:00:00 AM                    NaN   \n",
       "3       5/5/2007 12:00:00 AM                    NaN   \n",
       "4      12/3/2008 12:00:00 AM  12/3/2008 12:00:00 AM   \n",
       "...                      ...                    ...   \n",
       "10852  9/22/1999 12:00:00 AM                    NaN   \n",
       "10853  12/9/1999 12:00:00 AM                    NaN   \n",
       "10854  12/9/1999 12:00:00 AM                    NaN   \n",
       "10855  2/29/2000 12:00:00 AM                    NaN   \n",
       "10856  9/25/1999 12:00:00 AM                    NaN   \n",
       "\n",
       "               LAW_ENFORCEMENT_AGENCY LAW_ENFORCEMENT_UNIT  \\\n",
       "0              PROMIS Data Conversion                  NaN   \n",
       "1           MARKHAM POLICE DEPARTMENT                  NaN   \n",
       "2           MARKHAM POLICE DEPARTMENT                  NaN   \n",
       "3           MARKHAM POLICE DEPARTMENT                  NaN   \n",
       "4      RIVER FOREST POLICE DEPARTMENT                  NaN   \n",
       "...                               ...                  ...   \n",
       "10852            C P D AREA 5 DIST 14                  NaN   \n",
       "10853             C P D AREA 1 DIST 7                  NaN   \n",
       "10854             C P D AREA 1 DIST 7                  NaN   \n",
       "10855            C P D AREA 2 DIST 22                  NaN   \n",
       "10856         ELGIN POLICE DEPARTMENT                  NaN   \n",
       "\n",
       "                 ARREST_DATE      FELONY_REVIEW_DATE FELONY_REVIEW_RESULT  \\\n",
       "0      10/8/2008 11:45:00 PM  10/10/2008 12:00:00 AM   Charge(S) Approved   \n",
       "1        5/5/2007 2:07:00 AM  05/06/2007 12:00:00 AM   Charge(S) Approved   \n",
       "2        5/5/2007 2:07:00 AM  05/06/2007 12:00:00 AM   Charge(S) Approved   \n",
       "3        5/5/2007 2:07:00 AM  05/06/2007 12:00:00 AM   Charge(S) Approved   \n",
       "4       12/3/2008 4:13:00 AM  12/04/2008 12:00:00 AM   Charge(S) Approved   \n",
       "...                      ...                     ...                  ...   \n",
       "10852   9/22/1999 7:00:00 PM                     NaN                  NaN   \n",
       "10853   12/9/1999 5:10:00 AM                     NaN                  NaN   \n",
       "10854   12/9/1999 5:10:00 AM                     NaN                  NaN   \n",
       "10855  2/29/2000 11:15:00 PM  03/01/2000 12:00:00 AM   Charge(S) Approved   \n",
       "10856  9/25/1999 12:00:00 AM  09/25/1999 12:00:00 AM   Charge(S) Approved   \n",
       "\n",
       "             ARRAIGNMENT_DATE UPDATED_OFFENSE_CATEGORY  \n",
       "0      11/20/2008 12:00:00 AM        PROMIS Conversion  \n",
       "1       6/12/2007 12:00:00 AM         Domestic Battery  \n",
       "2       6/12/2007 12:00:00 AM         Domestic Battery  \n",
       "3       6/12/2007 12:00:00 AM         Domestic Battery  \n",
       "4                         NaN        PROMIS Conversion  \n",
       "...                       ...                      ...  \n",
       "10852                     NaN                Narcotics  \n",
       "10853                     NaN        PROMIS Conversion  \n",
       "10854                     NaN        PROMIS Conversion  \n",
       "10855                     NaN        PROMIS Conversion  \n",
       "10856   7/19/2012 12:00:00 AM                Narcotics  \n",
       "\n",
       "[10712 rows x 41 columns]"
      ]
     },
     "execution_count": 25,
     "metadata": {},
     "output_type": "execute_result"
    }
   ],
   "source": [
    "sentencing[sentencing[\"OFFENSE_CATEGORY\"] == \"PROMIS Conversion\"] "
   ]
  },
  {
   "cell_type": "code",
   "execution_count": 26,
   "metadata": {},
   "outputs": [
    {
     "data": {
      "text/plain": [
       "0"
      ]
     },
     "execution_count": 26,
     "metadata": {},
     "output_type": "execute_result"
    }
   ],
   "source": [
    "sentencing['CHARGE_COUNT'].isnull().sum()"
   ]
  },
  {
   "cell_type": "markdown",
   "metadata": {},
   "source": [
    "# Subsetting the Data"
   ]
  },
  {
   "cell_type": "markdown",
   "metadata": {},
   "source": [
    "#### From the above, I want to gauge the columns that we want so that we can reduce the dimensionality of the data. \n",
    "\n",
    "#### The following is the short list:\n",
    "1. 'OFFENSE_CATEGORY'\n",
    "2. 'DISPOSITION_CHARGED_OFFENSE_TITLE'\n",
    "3. 'CHARGE_COUNT'\n",
    "4. 'ARREST_DATE'\n",
    "5. 'SENTENCE_DATE\n",
    "7. 'RACE'\n",
    "8. 'GENDER'\n",
    "9. 'COMMITMENT_TYPE'\n",
    "10. 'COMMITMENT_TERM'\n",
    "11. 'UPDATED_OFFENSE_CATEGORY'\n",
    "\n",
    "#### Based on this, we will have a more condensed version of the data which then can be used to tell clearer stories."
   ]
  },
  {
   "cell_type": "code",
   "execution_count": 27,
   "metadata": {},
   "outputs": [],
   "source": [
    "s2 = sentencing.loc[:,['OFFENSE_CATEGORY','DISPOSITION_CHARGED_OFFENSE_TITLE','CHARGE_DISPOSITION','CHARGE_COUNT',\n",
    "                       'ARREST_DATE','SENTENCE_DATE','RACE', 'GENDER', 'COMMITMENT_TYPE', 'COMMITMENT_TERM', \n",
    "                       'UPDATED_OFFENSE_CATEGORY']]"
   ]
  },
  {
   "cell_type": "code",
   "execution_count": 28,
   "metadata": {},
   "outputs": [
    {
     "data": {
      "text/plain": [
       "POSSESSION OF A CONTROLLED SUBSTANCE                                                                              36661\n",
       "AGGRAVATED DRIVING UNDER THE INFLUENCE OF ALCOHOL                                                                 15192\n",
       "RETAIL THEFT                                                                                                      13514\n",
       "FELONY DRIVING WHILE DRIVER?S LICENSE, PERMIT, OR PRIVILEGE TO OPERATE A MOTOR VEHICLE IS SUSPENDED OR REVOKED    10734\n",
       "AGGRAVATED UNLAWFUL USE OF WEAPON                                                                                  9985\n",
       "                                                                                                                  ...  \n",
       "CYBERSTALK/WEBPAGE/THREAT                                                                                             1\n",
       "PROMOTE DOG FIGHTING/WAGERING                                                                                         1\n",
       "POSS/FIC/ALT ID CARD/VIO ACT                                                                                          1\n",
       "DECEPTION/FIN INSTITUTION EMP                                                                                         1\n",
       "AGGRAVATED ID THEFT/AGE 60+/PERSONAL INFO                                                                             1\n",
       "Name: DISPOSITION_CHARGED_OFFENSE_TITLE, Length: 1214, dtype: int64"
      ]
     },
     "execution_count": 28,
     "metadata": {},
     "output_type": "execute_result"
    }
   ],
   "source": [
    "s3 = s2[s2['OFFENSE_CATEGORY'] != 'PROMIS Conversion']\n",
    "s3['DISPOSITION_CHARGED_OFFENSE_TITLE'].value_counts()"
   ]
  },
  {
   "cell_type": "code",
   "execution_count": 29,
   "metadata": {},
   "outputs": [
    {
     "data": {
      "text/plain": [
       "Narcotics                       64836\n",
       "UUW - Unlawful Use of Weapon    25254\n",
       "Retail Theft                    14896\n",
       "Aggravated DUI                  14840\n",
       "Burglary                        11847\n",
       "                                ...  \n",
       "Tampering                          14\n",
       "Failure To Pay Child Support       13\n",
       "Gambling                           12\n",
       "Benefit Recipient Fraud             2\n",
       "Compelling Gang Membership          2\n",
       "Name: OFFENSE_CATEGORY, Length: 87, dtype: int64"
      ]
     },
     "execution_count": 29,
     "metadata": {},
     "output_type": "execute_result"
    }
   ],
   "source": [
    "s3['OFFENSE_CATEGORY'].value_counts()"
   ]
  },
  {
   "cell_type": "markdown",
   "metadata": {},
   "source": [
    "#### The cost of spending time and energy to standarding the 10,000 rows of 'PROMIS Conversion' does not provide any additional benefit. The 'PROMIS Category' makes up 3% of the data. "
   ]
  },
  {
   "cell_type": "code",
   "execution_count": 30,
   "metadata": {},
   "outputs": [
    {
     "data": {
      "text/plain": [
       "(221208, 11)"
      ]
     },
     "execution_count": 30,
     "metadata": {},
     "output_type": "execute_result"
    }
   ],
   "source": [
    "s2['OFFENSE_CATEGORY'] = s2['OFFENSE_CATEGORY'].replace('PROMIS Conversion', np.nan)\n",
    "s4 = s2.dropna()\n",
    "s4.shape"
   ]
  },
  {
   "cell_type": "code",
   "execution_count": 31,
   "metadata": {},
   "outputs": [
    {
     "data": {
      "text/plain": [
       "<matplotlib.axes._subplots.AxesSubplot at 0x7f8869767050>"
      ]
     },
     "execution_count": 31,
     "metadata": {},
     "output_type": "execute_result"
    },
    {
     "data": {
      "image/png": "[encoded data removed]",
      "text/plain": [
       "<Figure size 432x288 with 1 Axes>"
      ]
     },
     "metadata": {
      "needs_background": "light"
     },
     "output_type": "display_data"
    }
   ],
   "source": [
    "gg = pd.crosstab(s4['OFFENSE_CATEGORY'],s4[\"RACE\"])\n",
    "s4['OFFENSE_CATEGORY'].value_counts().plot(kind = 'bar')"
   ]
  },
  {
   "cell_type": "code",
   "execution_count": 32,
   "metadata": {},
   "outputs": [
    {
     "data": {
      "text/plain": [
       "(199346, 11)"
      ]
     },
     "execution_count": 32,
     "metadata": {},
     "output_type": "execute_result"
    }
   ],
   "source": [
    "s5 = s4.groupby(\"OFFENSE_CATEGORY\").filter(lambda x: len(x) > 2200)\n",
    "s5.shape"
   ]
  },
  {
   "cell_type": "code",
   "execution_count": 33,
   "metadata": {},
   "outputs": [
    {
     "data": {
      "text/plain": [
       "Narcotics                                    61806\n",
       "UUW - Unlawful Use of Weapon                 24571\n",
       "Aggravated DUI                               14338\n",
       "Retail Theft                                 14107\n",
       "Burglary                                     11259\n",
       "Driving With Suspended Or Revoked License     9295\n",
       "Aggravated Battery Police Officer             6246\n",
       "Theft                                         5938\n",
       "Armed Robbery                                 5739\n",
       "Residential Burglary                          5260\n",
       "Sex Crimes                                    4851\n",
       "Robbery                                       4535\n",
       "Aggravated Battery                            4523\n",
       "Other Offense                                 4153\n",
       "Possession of Stolen Motor Vehicle            3901\n",
       "DUI                                           3709\n",
       "Escape - Failure to Return                    2887\n",
       "Forgery                                       2739\n",
       "Homicide                                      2541\n",
       "Failure to Register as a Sex Offender         2352\n",
       "Domestic Battery                              2306\n",
       "Aggravated Fleeing and Eluding                2290\n",
       "Name: OFFENSE_CATEGORY, dtype: int64"
      ]
     },
     "execution_count": 33,
     "metadata": {},
     "output_type": "execute_result"
    }
   ],
   "source": [
    "s5['OFFENSE_CATEGORY'].value_counts()"
   ]
  },
  {
   "cell_type": "code",
   "execution_count": 34,
   "metadata": {},
   "outputs": [
    {
     "data": {
      "text/plain": [
       "<matplotlib.axes._subplots.AxesSubplot at 0x7f8877935a10>"
      ]
     },
     "execution_count": 34,
     "metadata": {},
     "output_type": "execute_result"
    },
    {
     "data": {
      "image/png": "[encoded data removed]",
      "text/plain": [
       "<Figure size 432x288 with 1 Axes>"
      ]
     },
     "metadata": {
      "needs_background": "light"
     },
     "output_type": "display_data"
    }
   ],
   "source": [
    "s5['OFFENSE_CATEGORY'].value_counts().plot(kind = 'bar')"
   ]
  },
  {
   "cell_type": "markdown",
   "metadata": {},
   "source": [
    "#### From the above, Narcotics is the by far the largest offense category which makes up for 60,000 individuals followed by Unlawful Use of weapon, Aggravated DUI, Retail Theft and Burgulary. Moreover, as I scan the other categories, it is evident that a few of these categories can be consolidated further as they relate to the same crime/illegal activity. "
   ]
  },
  {
   "cell_type": "code",
   "execution_count": 35,
   "metadata": {},
   "outputs": [
    {
     "data": {
      "text/plain": [
       "Narcotics                                    61806\n",
       "UUW - Unlawful Use of Weapon                 24571\n",
       "Aggravated DUI                               14338\n",
       "Retail Theft                                 14107\n",
       "Burglary                                     11259\n",
       "Driving With Suspended Or Revoked License     9295\n",
       "Aggravated Battery Police Officer             6246\n",
       "Theft                                         5938\n",
       "Armed Robbery                                 5739\n",
       "Residential Burglary                          5260\n",
       "Sex Crimes                                    4851\n",
       "Robbery                                       4535\n",
       "Aggravated Battery                            4523\n",
       "Other Offense                                 4153\n",
       "Possession of Stolen Motor Vehicle            3901\n",
       "DUI                                           3709\n",
       "Escape - Failure to Return                    2887\n",
       "Forgery                                       2739\n",
       "Homicide                                      2541\n",
       "Failure to Register as a Sex Offender         2352\n",
       "Domestic Battery                              2306\n",
       "Aggravated Fleeing and Eluding                2290\n",
       "Name: OFFENSE_CATEGORY, dtype: int64"
      ]
     },
     "execution_count": 35,
     "metadata": {},
     "output_type": "execute_result"
    }
   ],
   "source": [
    "s5[\"OFFENSE_CATEGORY\"].value_counts()"
   ]
  },
  {
   "cell_type": "code",
   "execution_count": 36,
   "metadata": {},
   "outputs": [
    {
     "data": {
      "text/plain": [
       "Narcotics                                    61806\n",
       "Theft                                        50739\n",
       "UUW - Unlawful Use of Weapon                 24571\n",
       "DUI                                          18047\n",
       "Aggravated Battery                           13075\n",
       "Driving With Suspended Or Revoked License     9295\n",
       "Fleeing or Failure to Return                  5177\n",
       "Sex Crimes                                    4851\n",
       "Other Offense                                 4153\n",
       "Forgery                                       2739\n",
       "Homicide                                      2541\n",
       "Failure to Register as a Sex Offender         2352\n",
       "Name: OFFENSE_CATEGORY, dtype: int64"
      ]
     },
     "execution_count": 36,
     "metadata": {},
     "output_type": "execute_result"
    }
   ],
   "source": [
    "\n",
    "#First, I will consolidate all the thefts/burglury into one category\n",
    "blst = [\"Retail Theft\", \"Burglary\",\"Theft\",\"Armed Robbery\", \"Residential Burglary\", \"Robbery\",\n",
    "        \"Possession of Stolen Motor Vehicle\"]\n",
    "\n",
    "for i in blst:\n",
    "    s5[\"OFFENSE_CATEGORY\"] = s5[\"OFFENSE_CATEGORY\"].replace(i,\"Theft\")\n",
    "\n",
    "#Second a list for all battery\n",
    "clst = [\"Aggravated Battery Police Officer\",\"Aggravated Battery\",\"Domestic Battery\"]\n",
    "\n",
    "for i in clst:\n",
    "    s5[\"OFFENSE_CATEGORY\"] = s5[\"OFFENSE_CATEGORY\"].replace(i,\"Aggravated Battery\")\n",
    "    \n",
    "#Third, DUI followed by Fleeing\n",
    "s5[\"OFFENSE_CATEGORY\"] = s5[\"OFFENSE_CATEGORY\"].replace(\"Aggravated DUI\",\"DUI\")\n",
    "\n",
    "dlst = [\"Escape - Failure to Return\",\"Aggravated Fleeing and Eluding\"]\n",
    "for i in dlst:\n",
    "    s5[\"OFFENSE_CATEGORY\"] = s5[\"OFFENSE_CATEGORY\"].replace(i,\"Fleeing or Failure to Return\")\n",
    "\n",
    "s5['CHARGE_DISPOSITION'] = s5['CHARGE_DISPOSITION'].replace('GUILTY','Guilty')\n",
    "    \n",
    "s5[\"OFFENSE_CATEGORY\"].value_counts()"
   ]
  },
  {
   "cell_type": "code",
   "execution_count": 37,
   "metadata": {},
   "outputs": [
    {
     "data": {
      "text/plain": [
       "Plea Of Guilty                      180186\n",
       "Finding Guilty                       15468\n",
       "Verdict Guilty                        2584\n",
       "Case Dismissed                         555\n",
       "Nolle Prosecution                      220\n",
       "Finding Not Not Guilty                  86\n",
       "FNG Reason Insanity                     50\n",
       "Finding Guilty - Lesser Included        29\n",
       "FNG                                     26\n",
       "Charge Vacated                          26\n",
       "BFW                                     25\n",
       "Plea of Guilty - Amended Charge         23\n",
       "Finding Guilty But Mentally Ill         20\n",
       "Plea of Guilty But Mentally Ill         17\n",
       "Death Suggested-Cause Abated            11\n",
       "WOWI                                     4\n",
       "Verdict Guilty - Lesser Included         4\n",
       "Plea of Guilty - Lesser Included         3\n",
       "Nolle On Remand                          3\n",
       "Superseded by Indictment                 1\n",
       "SOLW                                     1\n",
       "FNPC                                     1\n",
       "Finding Guilty - Amended Charge          1\n",
       "Verdict-Not Guilty                       1\n",
       "Verdict Guilty But Mentally Ill          1\n",
       "Name: CHARGE_DISPOSITION, dtype: int64"
      ]
     },
     "execution_count": 37,
     "metadata": {},
     "output_type": "execute_result"
    }
   ],
   "source": [
    "s5.columns\n",
    "s5[\"CHARGE_DISPOSITION\"].value_counts()"
   ]
  },
  {
   "cell_type": "code",
   "execution_count": 42,
   "metadata": {},
   "outputs": [
    {
     "data": {
      "text/plain": [
       "(199346, 11)"
      ]
     },
     "execution_count": 42,
     "metadata": {},
     "output_type": "execute_result"
    }
   ],
   "source": [
    "#First to consolidate the Plea's, Finding Guilty, and Verdict Guilty into Guilty\n",
    "ct = 0\n",
    "\n",
    "def guilty(inp):\n",
    "    s5[\"CHARGE_DISPOSITION\"] = s5[\"CHARGE_DISPOSITION\"].replace(inp,\"Guilty\")\n",
    "    \n",
    "\n",
    "glst = [\"Plea Of Guilty\",\"Plea of Guilty - Lesser Included\",\n",
    "        \"Plea of Guilty - Amended Charge\",\n",
    "        \"Finding Guilty But Mentally Ill\",\n",
    "        \"Plea of Guilty But Mentally Ill\",\n",
    "        \"Verdict Guilty\", \"Finding Guilty\",\n",
    "       \"Verdict Guilty - Lesser Included\",\n",
    "        \"Finding Guilty - Amended Charge\",\n",
    "        \"Finding Guilty - Lesser Included\",\n",
    "       \"Verdict Guilty But Mentally Ill\",\n",
    "       \"Superseded by Indictment\",\n",
    "       \"BFW\"]\n",
    "\n",
    "for i in glst:\n",
    "    guilty(i)\n",
    "    \n",
    "\n",
    "disLst = [\"Case Dismissed\", \"Nolle Prosecution\", \"Nolle On Remand\", \"Charge Vacated\", \n",
    "          \"Death Suggested-Cause Abated\"]\n",
    "for i in disLst:\n",
    "    s5[\"CHARGE_DISPOSITION\"] = s5[\"CHARGE_DISPOSITION\"].replace(i,\"Dismissed\")\n",
    "    \n",
    "ngLst = [\"Finding Not Not Guilty\", \"FNG\", \"FNG Reason Insanity\", \"FNPC\", \"Verdict-Not Guilty\"]\n",
    "for i in ngLst:\n",
    "    s5[\"CHARGE_DISPOSITION\"] = s5[\"CHARGE_DISPOSITION\"].replace(i,\"Not Guilty\")\n",
    "\n",
    "#Cleaning up the remaining by turning them into NAs. These make up less than 0.0001% so they add very little value.\n",
    "noLst = [\"WOWI\",\"SOLW\"]\n",
    "for i in noLst:\n",
    "    s5[\"CHARGE_DISPOSITION\"] = s5[\"CHARGE_DISPOSITION\"].replace(i,np.nan)\n",
    "\n",
    "s5.dropna()\n",
    "s5.shape"
   ]
  },
  {
   "cell_type": "code",
   "execution_count": 43,
   "metadata": {},
   "outputs": [
    {
     "data": {
      "text/plain": [
       "Black              133105\n",
       "Hispanic            36964\n",
       "White               27698\n",
       "Asian                1159\n",
       "Unknown               289\n",
       "American Indian       100\n",
       "Biracial               31\n",
       "Name: RACE, dtype: int64"
      ]
     },
     "execution_count": 43,
     "metadata": {},
     "output_type": "execute_result"
    }
   ],
   "source": [
    "s5[\"RACE\"].value_counts()"
   ]
  },
  {
   "cell_type": "code",
   "execution_count": 44,
   "metadata": {},
   "outputs": [
    {
     "data": {
      "text/plain": [
       "Index(['OFFENSE_CATEGORY', 'DISPOSITION_CHARGED_OFFENSE_TITLE',\n",
       "       'CHARGE_DISPOSITION', 'CHARGE_COUNT', 'ARREST_DATE', 'SENTENCE_DATE',\n",
       "       'RACE', 'GENDER', 'COMMITMENT_TYPE', 'COMMITMENT_TERM',\n",
       "       'UPDATED_OFFENSE_CATEGORY'],\n",
       "      dtype='object')"
      ]
     },
     "execution_count": 44,
     "metadata": {},
     "output_type": "execute_result"
    }
   ],
   "source": [
    "s5.columns"
   ]
  },
  {
   "cell_type": "code",
   "execution_count": 52,
   "metadata": {},
   "outputs": [
    {
     "data": {
      "text/plain": [
       "120       Guilty\n",
       "289       Guilty\n",
       "290       Guilty\n",
       "661       Guilty\n",
       "662       Guilty\n",
       "           ...  \n",
       "241653    Guilty\n",
       "241654    Guilty\n",
       "241655    Guilty\n",
       "241656    Guilty\n",
       "241657    Guilty\n",
       "Name: CHARGE_DISPOSITION, Length: 199346, dtype: object"
      ]
     },
     "execution_count": 52,
     "metadata": {},
     "output_type": "execute_result"
    }
   ],
   "source": [
    "s5['CHARGE_DISPOSITION'].replace(s5['CHARGE_DISPOSITION'].isnull(),np.nan)\n",
    "s5['CHARGE_DISPOSITION']"
   ]
  },
  {
   "cell_type": "markdown",
   "metadata": {},
   "source": [
    "#### Although we lost 35k rows in the data cleansing process, the existing dataset contains most of the data and can be used for further data analysis. "
   ]
  },
  {
   "cell_type": "code",
   "execution_count": 45,
   "metadata": {},
   "outputs": [],
   "source": [
    "s5.to_csv(\"Sentencing_Data_v2.csv\")"
   ]
  }
 ],
 "metadata": {
  "kernelspec": {
   "display_name": "Python 3",
   "language": "python",
   "name": "python3"
  },
  "language_info": {
   "codemirror_mode": {
    "name": "ipython",
    "version": 3
   },
   "file_extension": ".py",
   "mimetype": "text/x-python",
   "name": "python",
   "nbconvert_exporter": "python",
   "pygments_lexer": "ipython3",
   "version": "3.7.6"
  }
 },
 "nbformat": 4,
 "nbformat_minor": 4
}
