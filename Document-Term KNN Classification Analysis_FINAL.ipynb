{
 "cells": [
  {
   "cell_type": "markdown",
   "metadata": {},
   "source": [
    "# Assignment 2"
   ]
  },
  {
   "cell_type": "markdown",
   "metadata": {},
   "source": [
    "## Question 1a: Building a KNN classifier function"
   ]
  },
  {
   "cell_type": "code",
   "execution_count": 1,
   "metadata": {},
   "outputs": [],
   "source": [
    "import pandas as pd\n",
    "import numpy as np\n",
    "from collections import Counter"
   ]
  },
  {
   "cell_type": "markdown",
   "metadata": {},
   "source": [
    "### This is the process to ingest the training and test matrices. The matrices are already divided into separate matries and the respective labels have also been spearated."
   ]
  },
  {
   "cell_type": "code",
   "execution_count": 2,
   "metadata": {},
   "outputs": [
    {
     "name": "stdout",
     "output_type": "stream",
     "text": [
      "(200, 2)\n"
     ]
    },
    {
     "data": {
      "text/plain": [
       "array([[  0.,   0.],\n",
       "       [  1.,   1.],\n",
       "       [  2.,   0.],\n",
       "       ...,\n",
       "       [797.,   1.],\n",
       "       [798.,   1.],\n",
       "       [799.,   1.]])"
      ]
     },
     "execution_count": 2,
     "metadata": {},
     "output_type": "execute_result"
    }
   ],
   "source": [
    "#Reading the files\n",
    "trainMatrix = np.loadtxt(\"trainMatrixModified.txt\")\n",
    "trainClasses = np.loadtxt(\"trainClasses.txt\") #, sep = \"\\t\", header = None, index_col = 0)\n",
    "testMatrix = np.loadtxt(\"testMatrixModified.txt\")\n",
    "testClasses = np.loadtxt(\"testClasses.txt\")\n",
    "\n",
    "trm = trainMatrix.T\n",
    "\n",
    "tem = testMatrix.T\n",
    "a = tem[0]\n",
    "\n",
    "numTerms = trm.shape[1]\n",
    "NDocs = trm.shape[0]\n",
    "\n",
    "type(testClasses)\n",
    "\n",
    "print (testClasses.shape)\n",
    "\n",
    "trainClasses"
   ]
  },
  {
   "cell_type": "markdown",
   "metadata": {},
   "source": [
    "#### The below is the classifier function calculate the two distances (Euclidean and Cosine Similarity). The function returns the most common label from the K-neighbors requested by the user."
   ]
  },
  {
   "cell_type": "code",
   "execution_count": 3,
   "metadata": {},
   "outputs": [],
   "source": [
    "def knn_classifier(D, x, labels, K, distType):\n",
    "    if distType == 0: #Euclidean Distance\n",
    "        dist = np.sqrt(((D - x)**2).sum(axis = 1))\n",
    "    \n",
    "    elif distType == 1: #Cosine Similarity\n",
    "        #Finding the norm for the training data\n",
    "        D_norm = np.array([np.linalg.norm(D[i]) for i in range(len(D))])\n",
    "        #Finding the norm of the test data\n",
    "        x_norm = np.linalg.norm(x)\n",
    "        #Calculating the similarity\n",
    "        sim = np.dot(D,x)/(D_norm * x_norm)\n",
    "        #Calculating the distance\n",
    "        dist = 1 - sim\n",
    "    \n",
    "    #Sorting the list and getting the neighbor's lables\n",
    "    idx = np.argsort(dist)\n",
    "    labs = idx[:K]\n",
    "    neigh_labels = labels[labs].T\n",
    "    neigh_labels = neigh_labels[1]\n",
    "    #Counting the K Neighbors labels associated with the sample\n",
    "    count = Counter(neigh_labels)\n",
    "    ##print('Labels for top ', K, ' neighbors: ', count)\n",
    "    \n",
    "    return count.most_common(1)[0][0]"
   ]
  },
  {
   "cell_type": "markdown",
   "metadata": {},
   "source": [
    "#### Testing the function is working"
   ]
  },
  {
   "cell_type": "code",
   "execution_count": 4,
   "metadata": {},
   "outputs": [
    {
     "data": {
      "text/plain": [
       "1.0"
      ]
     },
     "execution_count": 4,
     "metadata": {},
     "output_type": "execute_result"
    }
   ],
   "source": [
    "#Running the algorithm to make sure calculations work\n",
    "knn_classifier(trm, a, trainClasses, 5, 1)\n"
   ]
  },
  {
   "cell_type": "markdown",
   "metadata": {},
   "source": [
    "## Q1b: Evaluating the KNN Classifier"
   ]
  },
  {
   "cell_type": "markdown",
   "metadata": {},
   "source": [
    "### The function below ingests the training matrix, training labels, testing matrix, testing labels, number of K-Neighbors requested by the user. This runs the knn classifier for every single element in the test dataset."
   ]
  },
  {
   "cell_type": "code",
   "execution_count": 5,
   "metadata": {},
   "outputs": [],
   "source": [
    "def test_knn(D, labels, x, tlab, K, measure):\n",
    "    'D is the full training dataset'\n",
    "    'labels is the training labels'\n",
    "    'x is the test dataset'\n",
    "    'tlab is the testing labels'\n",
    "    'K is the number of neighbors'\n",
    "    'Measure is the choice between 0 (Euclidean Distance) or 1 (Cosine Similarity)'\n",
    "    alst = [knn_classifier(D, i, labels, K, measure) for i in x]\n",
    "        \n",
    "    arr = np.array(alst)\n",
    "    \n",
    "    total = np.count_nonzero(tlab.T[1] == arr)\n",
    "    \n",
    "    accuracy = total/len(alst)\n",
    "    return accuracy"
   ]
  },
  {
   "cell_type": "code",
   "execution_count": 6,
   "metadata": {},
   "outputs": [
    {
     "data": {
      "text/plain": [
       "0.815"
      ]
     },
     "execution_count": 6,
     "metadata": {},
     "output_type": "execute_result"
    }
   ],
   "source": [
    "test_knn(trm, trainClasses, tem, testClasses, 5, 0)"
   ]
  },
  {
   "cell_type": "markdown",
   "metadata": {},
   "source": [
    "## Q1c: Iterating K neighbors 5 - 105 to test which number of neighbors provides the best classification"
   ]
  },
  {
   "cell_type": "markdown",
   "metadata": {},
   "source": [
    "### The below are list comprehensions to run the KNN Test function for K values incrementing by 5. This will help evaluate the the differences between the Euclidean and 1-Cosine Similarity in prediciting the class labels."
   ]
  },
  {
   "cell_type": "code",
   "execution_count": 7,
   "metadata": {},
   "outputs": [],
   "source": [
    "elst = [test_knn(trm, trainClasses, tem, testClasses, j, 0) for j in range(5, 105, 5)]"
   ]
  },
  {
   "cell_type": "code",
   "execution_count": 8,
   "metadata": {},
   "outputs": [],
   "source": [
    "clst = [test_knn(trm, trainClasses, tem, testClasses, j, 1) for j in range(5, 105, 5)]"
   ]
  },
  {
   "cell_type": "code",
   "execution_count": 9,
   "metadata": {},
   "outputs": [
    {
     "data": {
      "text/html": [
       "<div>\n",
       "<style scoped>\n",
       "    .dataframe tbody tr th:only-of-type {\n",
       "        vertical-align: middle;\n",
       "    }\n",
       "\n",
       "    .dataframe tbody tr th {\n",
       "        vertical-align: top;\n",
       "    }\n",
       "\n",
       "    .dataframe thead th {\n",
       "        text-align: right;\n",
       "    }\n",
       "</style>\n",
       "<table border=\"1\" class=\"dataframe\">\n",
       "  <thead>\n",
       "    <tr style=\"text-align: right;\">\n",
       "      <th></th>\n",
       "      <th>K</th>\n",
       "      <th>Euclidean Distance</th>\n",
       "      <th>1 - Cosine Similarity</th>\n",
       "    </tr>\n",
       "  </thead>\n",
       "  <tbody>\n",
       "    <tr>\n",
       "      <th>0</th>\n",
       "      <td>5</td>\n",
       "      <td>0.815</td>\n",
       "      <td>0.970</td>\n",
       "    </tr>\n",
       "    <tr>\n",
       "      <th>1</th>\n",
       "      <td>10</td>\n",
       "      <td>0.850</td>\n",
       "      <td>0.985</td>\n",
       "    </tr>\n",
       "    <tr>\n",
       "      <th>2</th>\n",
       "      <td>15</td>\n",
       "      <td>0.785</td>\n",
       "      <td>0.985</td>\n",
       "    </tr>\n",
       "    <tr>\n",
       "      <th>3</th>\n",
       "      <td>20</td>\n",
       "      <td>0.765</td>\n",
       "      <td>0.975</td>\n",
       "    </tr>\n",
       "    <tr>\n",
       "      <th>4</th>\n",
       "      <td>25</td>\n",
       "      <td>0.730</td>\n",
       "      <td>0.970</td>\n",
       "    </tr>\n",
       "  </tbody>\n",
       "</table>\n",
       "</div>"
      ],
      "text/plain": [
       "    K  Euclidean Distance  1 - Cosine Similarity\n",
       "0   5               0.815                  0.970\n",
       "1  10               0.850                  0.985\n",
       "2  15               0.785                  0.985\n",
       "3  20               0.765                  0.975\n",
       "4  25               0.730                  0.970"
      ]
     },
     "execution_count": 9,
     "metadata": {},
     "output_type": "execute_result"
    }
   ],
   "source": [
    "klst = [i for i in range(5, 105, 5)]\n",
    "\n",
    "df = pd.DataFrame()\n",
    "df[\"K\"] = klst\n",
    "df[\"Euclidean Distance\"] = elst\n",
    "df[\"1 - Cosine Similarity\"] = clst\n",
    "\n",
    "df.head()"
   ]
  },
  {
   "cell_type": "code",
   "execution_count": 10,
   "metadata": {},
   "outputs": [
    {
     "data": {
      "text/plain": [
       "<matplotlib.legend.Legend at 0x7fe90a87f2e0>"
      ]
     },
     "execution_count": 10,
     "metadata": {},
     "output_type": "execute_result"
    },
    {
     "data": {
      "image/png": "[encoded data removed]",
      "text/plain": [
       "<Figure size 432x288 with 1 Axes>"
      ]
     },
     "metadata": {
      "needs_background": "light"
     },
     "output_type": "display_data"
    }
   ],
   "source": [
    "import matplotlib.pyplot as plt\n",
    "plt.plot('K', 'Euclidean Distance', data = df, color = 'red')\n",
    "plt.plot('K', '1 - Cosine Similarity', data = df, color = 'blue')\n",
    "plt.xlabel('K-Neighbors Value')\n",
    "plt.ylabel('Accuracy (in Percentage)')\n",
    "plt.legend()"
   ]
  },
  {
   "cell_type": "markdown",
   "metadata": {},
   "source": [
    "### From the above analysis, we can see a few things. First, in relation to the Cosine similarity, the prediction accuracy starts and remains high with very little change due to the K-neighbors with accuracy at 97% consistently. Secondly, we notice that the Euclidean distance's accuracy decreases as the number of K Neighbors increases. (1 - Consine similarity) is a more stable measure of distance as the accuracy remains relatively unchanged."
   ]
  },
  {
   "cell_type": "markdown",
   "metadata": {},
   "source": [
    "## Q1d: TF x IDF weights for document term frequencies"
   ]
  },
  {
   "cell_type": "code",
   "execution_count": 11,
   "metadata": {},
   "outputs": [],
   "source": [
    "trm2 = pd.DataFrame(trainMatrix)\n",
    "trmFreqs = trm2.sum(axis = 1)"
   ]
  },
  {
   "cell_type": "code",
   "execution_count": 12,
   "metadata": {},
   "outputs": [],
   "source": [
    "import matplotlib.pyplot as plt"
   ]
  },
  {
   "cell_type": "code",
   "execution_count": 13,
   "metadata": {},
   "outputs": [
    {
     "data": {
      "text/plain": [
       "[<matplotlib.lines.Line2D at 0x7fe90a921b50>]"
      ]
     },
     "execution_count": 13,
     "metadata": {},
     "output_type": "execute_result"
    },
    {
     "data": {
      "image/png": "[encoded data removed]",
      "text/plain": [
       "<Figure size 432x288 with 1 Axes>"
      ]
     },
     "metadata": {
      "needs_background": "light"
     },
     "output_type": "display_data"
    }
   ],
   "source": [
    "plt.plot(sorted(trmFreqs, reverse = True))"
   ]
  },
  {
   "cell_type": "code",
   "execution_count": 14,
   "metadata": {},
   "outputs": [
    {
     "data": {
      "text/html": [
       "<div>\n",
       "<style scoped>\n",
       "    .dataframe tbody tr th:only-of-type {\n",
       "        vertical-align: middle;\n",
       "    }\n",
       "\n",
       "    .dataframe tbody tr th {\n",
       "        vertical-align: top;\n",
       "    }\n",
       "\n",
       "    .dataframe thead th {\n",
       "        text-align: right;\n",
       "    }\n",
       "</style>\n",
       "<table border=\"1\" class=\"dataframe\">\n",
       "  <thead>\n",
       "    <tr style=\"text-align: right;\">\n",
       "      <th></th>\n",
       "      <th>0</th>\n",
       "    </tr>\n",
       "  </thead>\n",
       "  <tbody>\n",
       "    <tr>\n",
       "      <th>0</th>\n",
       "      <td>50</td>\n",
       "    </tr>\n",
       "    <tr>\n",
       "      <th>1</th>\n",
       "      <td>7</td>\n",
       "    </tr>\n",
       "    <tr>\n",
       "      <th>2</th>\n",
       "      <td>10</td>\n",
       "    </tr>\n",
       "    <tr>\n",
       "      <th>3</th>\n",
       "      <td>800</td>\n",
       "    </tr>\n",
       "    <tr>\n",
       "      <th>4</th>\n",
       "      <td>108</td>\n",
       "    </tr>\n",
       "    <tr>\n",
       "      <th>...</th>\n",
       "      <td>...</td>\n",
       "    </tr>\n",
       "    <tr>\n",
       "      <th>5495</th>\n",
       "      <td>3</td>\n",
       "    </tr>\n",
       "    <tr>\n",
       "      <th>5496</th>\n",
       "      <td>3</td>\n",
       "    </tr>\n",
       "    <tr>\n",
       "      <th>5497</th>\n",
       "      <td>2</td>\n",
       "    </tr>\n",
       "    <tr>\n",
       "      <th>5498</th>\n",
       "      <td>2</td>\n",
       "    </tr>\n",
       "    <tr>\n",
       "      <th>5499</th>\n",
       "      <td>2</td>\n",
       "    </tr>\n",
       "  </tbody>\n",
       "</table>\n",
       "<p>5500 rows × 1 columns</p>\n",
       "</div>"
      ],
      "text/plain": [
       "        0\n",
       "0      50\n",
       "1       7\n",
       "2      10\n",
       "3     800\n",
       "4     108\n",
       "...   ...\n",
       "5495    3\n",
       "5496    3\n",
       "5497    2\n",
       "5498    2\n",
       "5499    2\n",
       "\n",
       "[5500 rows x 1 columns]"
      ]
     },
     "execution_count": 14,
     "metadata": {},
     "output_type": "execute_result"
    }
   ],
   "source": [
    "#Transforming the data into TF x IDF weights\n",
    "\n",
    "dfreq = pd.DataFrame([(trm2 != 0).sum(1)]).T\n",
    "dfreq"
   ]
  },
  {
   "cell_type": "code",
   "execution_count": 15,
   "metadata": {},
   "outputs": [
    {
     "data": {
      "text/plain": [
       "(5500, 800)"
      ]
     },
     "execution_count": 15,
     "metadata": {},
     "output_type": "execute_result"
    }
   ],
   "source": [
    "#Creating a matrix with all entries as NDocs\n",
    "trm2.shape"
   ]
  },
  {
   "cell_type": "code",
   "execution_count": 16,
   "metadata": {},
   "outputs": [],
   "source": [
    "nmatrix = np.ones(np.shape(trm2), dtype = float)*trm2.shape[1]\n",
    "#This is the number of docs"
   ]
  },
  {
   "cell_type": "code",
   "execution_count": 17,
   "metadata": {},
   "outputs": [],
   "source": [
    "IDF = np.log2(np.divide(nmatrix, np.array(dfreq)))"
   ]
  },
  {
   "cell_type": "code",
   "execution_count": 18,
   "metadata": {},
   "outputs": [],
   "source": [
    "td_tfidf = np.array(trm2) * IDF"
   ]
  },
  {
   "cell_type": "code",
   "execution_count": 19,
   "metadata": {},
   "outputs": [],
   "source": [
    "#pd.set_option(\"display.precision\", 2)\n",
    "\n",
    "#The training set is in a weighted format\n",
    "td_tfidf = np.array(td_tfidf)"
   ]
  },
  {
   "cell_type": "code",
   "execution_count": 20,
   "metadata": {},
   "outputs": [
    {
     "data": {
      "text/html": [
       "<div>\n",
       "<style scoped>\n",
       "    .dataframe tbody tr th:only-of-type {\n",
       "        vertical-align: middle;\n",
       "    }\n",
       "\n",
       "    .dataframe tbody tr th {\n",
       "        vertical-align: top;\n",
       "    }\n",
       "\n",
       "    .dataframe thead th {\n",
       "        text-align: right;\n",
       "    }\n",
       "</style>\n",
       "<table border=\"1\" class=\"dataframe\">\n",
       "  <thead>\n",
       "    <tr style=\"text-align: right;\">\n",
       "      <th></th>\n",
       "      <th>0</th>\n",
       "    </tr>\n",
       "  </thead>\n",
       "  <tbody>\n",
       "    <tr>\n",
       "      <th>0</th>\n",
       "      <td>15</td>\n",
       "    </tr>\n",
       "    <tr>\n",
       "      <th>1</th>\n",
       "      <td>0</td>\n",
       "    </tr>\n",
       "    <tr>\n",
       "      <th>2</th>\n",
       "      <td>1</td>\n",
       "    </tr>\n",
       "    <tr>\n",
       "      <th>3</th>\n",
       "      <td>200</td>\n",
       "    </tr>\n",
       "    <tr>\n",
       "      <th>4</th>\n",
       "      <td>26</td>\n",
       "    </tr>\n",
       "    <tr>\n",
       "      <th>...</th>\n",
       "      <td>...</td>\n",
       "    </tr>\n",
       "    <tr>\n",
       "      <th>5495</th>\n",
       "      <td>1</td>\n",
       "    </tr>\n",
       "    <tr>\n",
       "      <th>5496</th>\n",
       "      <td>3</td>\n",
       "    </tr>\n",
       "    <tr>\n",
       "      <th>5497</th>\n",
       "      <td>1</td>\n",
       "    </tr>\n",
       "    <tr>\n",
       "      <th>5498</th>\n",
       "      <td>1</td>\n",
       "    </tr>\n",
       "    <tr>\n",
       "      <th>5499</th>\n",
       "      <td>1</td>\n",
       "    </tr>\n",
       "  </tbody>\n",
       "</table>\n",
       "<p>5500 rows × 1 columns</p>\n",
       "</div>"
      ],
      "text/plain": [
       "        0\n",
       "0      15\n",
       "1       0\n",
       "2       1\n",
       "3     200\n",
       "4      26\n",
       "...   ...\n",
       "5495    1\n",
       "5496    3\n",
       "5497    1\n",
       "5498    1\n",
       "5499    1\n",
       "\n",
       "[5500 rows x 1 columns]"
      ]
     },
     "execution_count": 20,
     "metadata": {},
     "output_type": "execute_result"
    }
   ],
   "source": [
    "#Setting the testing data to the same\n",
    "x = pd.DataFrame(testMatrix) \n",
    "xdfreq = pd.DataFrame([(x != 0).sum(1)]).T\n",
    "xdfreq"
   ]
  },
  {
   "cell_type": "code",
   "execution_count": 21,
   "metadata": {},
   "outputs": [
    {
     "name": "stderr",
     "output_type": "stream",
     "text": [
      "<ipython-input-21-5db00cd38759>:2: RuntimeWarning: divide by zero encountered in true_divide\n",
      "  IDF2 = np.log2(np.divide(nmatrix2, np.array(xdfreq)))\n"
     ]
    }
   ],
   "source": [
    "nmatrix2 = np.ones(np.shape(x), dtype = float)*x.shape[1]\n",
    "IDF2 = np.log2(np.divide(nmatrix2, np.array(xdfreq)))"
   ]
  },
  {
   "cell_type": "code",
   "execution_count": 22,
   "metadata": {},
   "outputs": [],
   "source": [
    "x_tfidf = x * IDF2\n",
    "x_tfidf = x_tfidf.fillna(0.)\n",
    "x_tfidf = np.array(x_tfidf)\n",
    "\n",
    "#pd.set_option(\"display.precision\", 2)\n",
    "\n",
    "#The training set is in a weighted format\n",
    "#x_tfidf.T[1] = np.where(x_tfidf.T[1] == np.nan,0.,0.)\n",
    "#x_tfidf"
   ]
  },
  {
   "cell_type": "code",
   "execution_count": 23,
   "metadata": {},
   "outputs": [
    {
     "name": "stderr",
     "output_type": "stream",
     "text": [
      "<ipython-input-5-c1089c4e2510>:12: DeprecationWarning: elementwise comparison failed; this will raise an error in the future.\n",
      "  total = np.count_nonzero(tlab.T[1] == arr)\n"
     ]
    },
    {
     "data": {
      "text/plain": [
       "0.0"
      ]
     },
     "execution_count": 23,
     "metadata": {},
     "output_type": "execute_result"
    }
   ],
   "source": [
    "test_knn(td_tfidf.T, trainClasses, x_tfidf.T[0], testClasses, 1, 0)"
   ]
  },
  {
   "cell_type": "code",
   "execution_count": 24,
   "metadata": {},
   "outputs": [],
   "source": [
    "glst = [test_knn(td_tfidf.T, trainClasses, x_tfidf.T, testClasses, i, 0) for i in range(5, 105, 5)]"
   ]
  },
  {
   "cell_type": "code",
   "execution_count": 25,
   "metadata": {},
   "outputs": [],
   "source": [
    "plst = [test_knn(td_tfidf.T, trainClasses, x_tfidf.T, testClasses, i, 1) for i in range(5, 105, 5)]"
   ]
  },
  {
   "cell_type": "code",
   "execution_count": 26,
   "metadata": {},
   "outputs": [
    {
     "data": {
      "text/html": [
       "<div>\n",
       "<style scoped>\n",
       "    .dataframe tbody tr th:only-of-type {\n",
       "        vertical-align: middle;\n",
       "    }\n",
       "\n",
       "    .dataframe tbody tr th {\n",
       "        vertical-align: top;\n",
       "    }\n",
       "\n",
       "    .dataframe thead th {\n",
       "        text-align: right;\n",
       "    }\n",
       "</style>\n",
       "<table border=\"1\" class=\"dataframe\">\n",
       "  <thead>\n",
       "    <tr style=\"text-align: right;\">\n",
       "      <th></th>\n",
       "      <th>K</th>\n",
       "      <th>Euclidean Distance</th>\n",
       "      <th>1 - Cosine Similarity</th>\n",
       "    </tr>\n",
       "  </thead>\n",
       "  <tbody>\n",
       "    <tr>\n",
       "      <th>0</th>\n",
       "      <td>5</td>\n",
       "      <td>0.800</td>\n",
       "      <td>0.970</td>\n",
       "    </tr>\n",
       "    <tr>\n",
       "      <th>1</th>\n",
       "      <td>10</td>\n",
       "      <td>0.750</td>\n",
       "      <td>0.990</td>\n",
       "    </tr>\n",
       "    <tr>\n",
       "      <th>2</th>\n",
       "      <td>15</td>\n",
       "      <td>0.615</td>\n",
       "      <td>0.995</td>\n",
       "    </tr>\n",
       "    <tr>\n",
       "      <th>3</th>\n",
       "      <td>20</td>\n",
       "      <td>0.665</td>\n",
       "      <td>0.995</td>\n",
       "    </tr>\n",
       "    <tr>\n",
       "      <th>4</th>\n",
       "      <td>25</td>\n",
       "      <td>0.605</td>\n",
       "      <td>0.990</td>\n",
       "    </tr>\n",
       "  </tbody>\n",
       "</table>\n",
       "</div>"
      ],
      "text/plain": [
       "    K  Euclidean Distance  1 - Cosine Similarity\n",
       "0   5               0.800                  0.970\n",
       "1  10               0.750                  0.990\n",
       "2  15               0.615                  0.995\n",
       "3  20               0.665                  0.995\n",
       "4  25               0.605                  0.990"
      ]
     },
     "execution_count": 26,
     "metadata": {},
     "output_type": "execute_result"
    }
   ],
   "source": [
    "klst = [i for i in range(5, 105, 5)]\n",
    "\n",
    "df_tfidf = pd.DataFrame()\n",
    "df_tfidf[\"K\"] = klst\n",
    "df_tfidf[\"Euclidean Distance\"] = glst\n",
    "df_tfidf[\"1 - Cosine Similarity\"] = plst\n",
    "\n",
    "df_tfidf.head()"
   ]
  },
  {
   "cell_type": "code",
   "execution_count": 27,
   "metadata": {},
   "outputs": [
    {
     "data": {
      "text/plain": [
       "<matplotlib.legend.Legend at 0x7fe90b0cee20>"
      ]
     },
     "execution_count": 27,
     "metadata": {},
     "output_type": "execute_result"
    },
    {
     "data": {
      "image/png": "[encoded data removed]",
      "text/plain": [
       "<Figure size 432x288 with 1 Axes>"
      ]
     },
     "metadata": {
      "needs_background": "light"
     },
     "output_type": "display_data"
    }
   ],
   "source": [
    "plt.plot('K', 'Euclidean Distance', data = df_tfidf, color = \"red\")\n",
    "plt.plot('K', '1 - Cosine Similarity', data = df_tfidf, color = \"blue\")\n",
    "plt.xlabel('K-Neighbors Value')\n",
    "plt.ylabel('Accuracy (in Percentage)')\n",
    "plt.legend()"
   ]
  },
  {
   "cell_type": "code",
   "execution_count": 28,
   "metadata": {},
   "outputs": [
    {
     "data": {
      "text/plain": [
       "<matplotlib.legend.Legend at 0x7fe90b177d90>"
      ]
     },
     "execution_count": 28,
     "metadata": {},
     "output_type": "execute_result"
    },
    {
     "data": {
      "image/png": "[encoded data removed]",
      "text/plain": [
       "<Figure size 432x288 with 1 Axes>"
      ]
     },
     "metadata": {
      "needs_background": "light"
     },
     "output_type": "display_data"
    }
   ],
   "source": [
    "plt.plot('K', '1 - Cosine Similarity', data = df, color = 'blue', label = 'Cosine Similarity')\n",
    "plt.plot('K', '1 - Cosine Similarity', data = df_tfidf, color = \"red\", label = 'Cosine Similarity (TF-IDF)')\n",
    "plt.xlabel('K-Neighbors Value')\n",
    "plt.ylabel('Accuracy (in Percentage)')\n",
    "plt.legend(bbox_to_anchor=(1.05, 1), loc='upper left')"
   ]
  },
  {
   "cell_type": "markdown",
   "metadata": {},
   "source": [
    "#### The cosine similarity for the TF-IDF functions provides a higher accuracy compared to the Consine Similarity computed from the non-weighted terms. The most accurate K-neighbors seems to be between 20 - 40, however, as K reaches 10, the model gives a 99.5% accuracy. The calculations for TF-IDF require slightly more computing power for rather negligible results."
   ]
  },
  {
   "cell_type": "markdown",
   "metadata": {},
   "source": [
    "## Q1e: Rocchio Method"
   ]
  },
  {
   "cell_type": "code",
   "execution_count": 29,
   "metadata": {
    "scrolled": true
   },
   "outputs": [
    {
     "data": {
      "text/plain": [
       "array([0., 1.])"
      ]
     },
     "execution_count": 29,
     "metadata": {},
     "output_type": "execute_result"
    }
   ],
   "source": [
    "a = np.unique(trainClasses.T[1])\n",
    "a"
   ]
  },
  {
   "cell_type": "code",
   "execution_count": 30,
   "metadata": {},
   "outputs": [
    {
     "data": {
      "text/plain": [
       "(800, 5500)"
      ]
     },
     "execution_count": 30,
     "metadata": {},
     "output_type": "execute_result"
    }
   ],
   "source": [
    "td_tfidf.T.shape"
   ]
  },
  {
   "cell_type": "code",
   "execution_count": 31,
   "metadata": {},
   "outputs": [
    {
     "data": {
      "text/plain": [
       "(200, 5500)"
      ]
     },
     "execution_count": 31,
     "metadata": {},
     "output_type": "execute_result"
    }
   ],
   "source": [
    "x_tfidf.T.shape"
   ]
  },
  {
   "cell_type": "code",
   "execution_count": 32,
   "metadata": {},
   "outputs": [],
   "source": [
    "#Defining function that takes in the tf-idf weighted Training Matrix and Training Labels and returns the prototypes\n",
    "\n",
    "def rocchio_train(trainM, trainL):\n",
    "    'Receive as input the Training Matrix and Training Label'\n",
    "    \n",
    "    'Identify the different categories'\n",
    "    a = np.unique(trainClasses.T[1])\n",
    "    \n",
    "    'Consolidate the two matrices into on array'\n",
    "    trainData = np.append(trainM, trainL, 1)\n",
    "    \n",
    "    'Creating two empty lists: lst is for the list comprehension'\n",
    "    lst = []\n",
    "    'arrlst is for the final list with the category prototypes'\n",
    "    arrlst = []\n",
    "    for i in a:\n",
    "        'list comprehension to calculate whether or not the axes should be part of category or not'\n",
    "        lst = np.array([trainM[j] for j in range(len(trainData)) if trainData[j][-1] == i])\n",
    "        'calculating the column sums and adding them to a list'\n",
    "        arrlst.append(np.sum(lst.T, axis = 1))\n",
    "    \n",
    "    'The function returns arrlst with all the prototype vectors'\n",
    "    return arrlst"
   ]
  },
  {
   "cell_type": "code",
   "execution_count": 33,
   "metadata": {},
   "outputs": [],
   "source": [
    "#Defining the text categorization function which takes three inputs: Training Matrix, Training Labels and x (array).\n",
    "\n",
    "def rocchio_dist(pvectors, x):\n",
    "    'calculating x_norm for cosine similarity calculation'\n",
    "    x_norm = np.linalg.norm(x)\n",
    "    \n",
    "    m = -2\n",
    "    ct = -1\n",
    "    \n",
    "    \"The 'for' loop goes through each of the pvectors to calculate the distance\"\n",
    "    for i in pvectors:\n",
    "        ct += 1\n",
    "        #Protoype Norm\n",
    "        p_norm = np.linalg.norm(i)\n",
    "        #calculating similarity\n",
    "        sim = np.dot(i,x)/(p_norm * x_norm)\n",
    "        \n",
    "        'If then to calculate whether or not similarity is high' \n",
    "        'if the similarity is high, then we get value of d gets updated'\n",
    "        'else, the loop continues'\n",
    "        if sim > m:\n",
    "            m = sim\n",
    "            d = ct\n",
    "    \n",
    "    return d\n",
    "        "
   ]
  },
  {
   "cell_type": "code",
   "execution_count": 34,
   "metadata": {},
   "outputs": [
    {
     "data": {
      "text/plain": [
       "5500"
      ]
     },
     "execution_count": 34,
     "metadata": {},
     "output_type": "execute_result"
    }
   ],
   "source": [
    "o = rocchio_train(td_tfidf.T, trainClasses)\n",
    "len(o[0])"
   ]
  },
  {
   "cell_type": "code",
   "execution_count": 35,
   "metadata": {},
   "outputs": [],
   "source": [
    "def eval_rocchio(trainM, trainL, testM, testL):\n",
    "    'Extracting the prototype vectros first'\n",
    "    var = rocchio_train(trainM, trainL)\n",
    "    \n",
    "    'Consolidating an array filled with the guesses on which label a document deserves'\n",
    "    evalLabels = np.array([rocchio_dist(var, i) for i in testM])\n",
    "\n",
    "    'Calculating the accuracy of the labels'\n",
    "    total = np.count_nonzero(testL.T[1] == evalLabels) / 200 * 100\n",
    "    \n",
    "    return total"
   ]
  },
  {
   "cell_type": "code",
   "execution_count": 36,
   "metadata": {},
   "outputs": [],
   "source": [
    "a = eval_rocchio(td_tfidf.T,trainClasses,x_tfidf.T, testClasses)"
   ]
  },
  {
   "cell_type": "code",
   "execution_count": 37,
   "metadata": {},
   "outputs": [
    {
     "data": {
      "text/plain": [
       "98.0"
      ]
     },
     "execution_count": 37,
     "metadata": {},
     "output_type": "execute_result"
    }
   ],
   "source": [
    "a"
   ]
  },
  {
   "cell_type": "markdown",
   "metadata": {},
   "source": [
    "#### The Rocchio Method predicted with 98% accuracy the similarity between the prototype vectors and the document vector. Compared to KNN algorithm, this did not require additional iterations of the K value and getting the K neighbors. The functions ran faster as a result."
   ]
  }
 ],
 "metadata": {
  "kernelspec": {
   "display_name": "Python 3",
   "language": "python",
   "name": "python3"
  },
  "language_info": {
   "codemirror_mode": {
    "name": "ipython",
    "version": 3
   },
   "file_extension": ".py",
   "mimetype": "text/x-python",
   "name": "python",
   "nbconvert_exporter": "python",
   "pygments_lexer": "ipython3",
   "version": "3.8.3"
  }
 },
 "nbformat": 4,
 "nbformat_minor": 4
}
